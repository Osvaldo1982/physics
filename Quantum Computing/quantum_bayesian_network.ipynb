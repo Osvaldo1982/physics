{
 "cells": [
  {
   "cell_type": "markdown",
   "id": "04e96366",
   "metadata": {
    "heading_collapsed": true
   },
   "source": [
    "# Requirements"
   ]
  },
  {
   "cell_type": "code",
   "execution_count": 1,
   "id": "159ac56d",
   "metadata": {
    "ExecuteTime": {
     "end_time": "2023-12-03T02:20:20.169667Z",
     "start_time": "2023-12-03T02:20:15.526467Z"
    },
    "hidden": true
   },
   "outputs": [
    {
     "name": "stderr",
     "output_type": "stream",
     "text": [
      "INFO:numexpr.utils:Note: NumExpr detected 16 cores but \"NUMEXPR_MAX_THREADS\" not set, so enforcing safe limit of 8.\n",
      "INFO:numexpr.utils:NumExpr defaulting to 8 threads.\n",
      "C:\\Users\\Osvaldo\\AppData\\Local\\Temp\\ipykernel_2532\\2957299681.py:17: DeprecationWarning: ``qiskit.algorithms`` has been migrated to an independent package: https://github.com/qiskit-community/qiskit-algorithms. The ``qiskit.algorithms`` import path is deprecated as of qiskit-terra 0.25.0 and will be removed no earlier than 3 months after the release date. Please run ``pip install qiskit_algorithms`` and use ``import qiskit_algorithms`` instead.\n",
      "  from qiskit.algorithms.optimizers import COBYLA\n"
     ]
    }
   ],
   "source": [
    "from pgmpy.models import BayesianNetwork\n",
    "from pgmpy.factors.discrete import TabularCPD\n",
    "from pgmpy.inference import VariableElimination\n",
    "from pgmpy.estimators import MaximumLikelihoodEstimator, BayesianEstimator\n",
    "from pgmpy.models import BayesianModel\n",
    "from pgmpy.estimators import HillClimbSearch, BicScore\n",
    "from pgmpy.models import BayesianModel\n",
    "from pgmpy.factors.discrete import TabularCPD\n",
    "from pgmpy.inference import VariableElimination\n",
    "\n",
    "from sklearn.metrics import recall_score, precision_score, confusion_matrix, accuracy_score\n",
    "\n",
    "import logging\n",
    "from qiskit import Aer, QuantumCircuit, transpile, assemble, execute\n",
    "from qiskit.visualization import plot_histogram\n",
    "from qiskit.circuit.library import RealAmplitudes\n",
    "from qiskit.algorithms.optimizers import COBYLA\n",
    "from qiskit_machine_learning.algorithms import VQC\n",
    "\n",
    "import matplotlib.pyplot as plt\n",
    "import networkx as nx\n",
    "\n",
    "import pandas as pd\n",
    "import numpy as np"
   ]
  },
  {
   "cell_type": "markdown",
   "id": "2f0f8754",
   "metadata": {
    "heading_collapsed": true
   },
   "source": [
    "# Functions"
   ]
  },
  {
   "cell_type": "markdown",
   "id": "813b3eae",
   "metadata": {
    "heading_collapsed": true,
    "hidden": true
   },
   "source": [
    "## Introduction to BN and Example 1"
   ]
  },
  {
   "cell_type": "code",
   "execution_count": 2,
   "id": "423ce139",
   "metadata": {
    "ExecuteTime": {
     "end_time": "2023-12-03T02:20:20.185069Z",
     "start_time": "2023-12-03T02:20:20.171668Z"
    },
    "hidden": true
   },
   "outputs": [],
   "source": [
    "def graph_example_bn(x_size, y_size):\n",
    "    # Creating a directed graph for the Bayesian Network\n",
    "    G = nx.DiGraph()\n",
    "    # Adding nodes to the graph\n",
    "    G.add_nodes_from([\"A\", \"B\", \"C\", \"D\", \"E\"])\n",
    "    # Adding directed edges between nodes\n",
    "    # These edges represent the conditional dependencies\n",
    "    G.add_edges_from([(\"A\", \"B\"), (\"A\", \"C\"), (\"B\", \"D\"), (\"C\", \"D\"), (\"C\", \"E\")])\n",
    "    # Drawing the graph 'spring_layout' positions the nodes using a force-directed algorithm\n",
    "    pos = nx.spring_layout(G)  \n",
    "    # Setting the size of the plot\n",
    "    plt.figure(figsize=(x_size, y_size))\n",
    "    nx.draw(G, \n",
    "            pos, \n",
    "            with_labels=True, \n",
    "            node_size=2000, \n",
    "            node_color='skyblue', \n",
    "            font_size=15, \n",
    "            font_weight='bold', \n",
    "            arrowstyle='->', \n",
    "            arrowsize=10\n",
    "           )\n",
    "    # Displaying the title\n",
    "    plt.title('Bayesian Network Example')\n",
    "    # Show the plot\n",
    "    plt.show()\n",
    "\n",
    "\n",
    "def create_example_bn1():\n",
    "    array_A = [[0.7], [0.3]]\n",
    "    array_B = [[0.8, 0.4], [0.2, 0.6]]\n",
    "    array_C = [[0.6, 0.2], [0.4, 0.8]]\n",
    "    array_D = [[0.9, 0.6, 0.7, 0.1], [0.1, 0.4, 0.3, 0.9]]   \n",
    "    array_E = [[0.7, 0.1], [0.3, 0.9]]\n",
    "    # Define the structure of Bayesian model\n",
    "    model = BayesianNetwork([('A', 'B'), ('A', 'C'), ('B', 'D'), ('C', 'D'), ('C', 'E')])\n",
    "    # Define the conditional probability distributions (CPDs) for node A\n",
    "    cpd_A = TabularCPD(variable = 'A', variable_card = 2, values = array_A)\n",
    "    # Define the conditional probability distributions (CPDs) for node B\n",
    "    cpd_B = TabularCPD(variable ='B', variable_card=2, values = array_B, evidence=['A'], evidence_card=[2])\n",
    "    # Define the conditional probability distributions (CPDs) for node C\n",
    "    cpd_C = TabularCPD(variable='C', variable_card=2, values= array_C, evidence=['A'], evidence_card=[2])\n",
    "    # Define the conditional probability distributions (CPDs) for node D\n",
    "    cpd_D = TabularCPD(variable = 'D', variable_card = 2,values=array_D, evidence = ['B', 'C'], evidence_card = [2, 2])\n",
    "    # Define the conditional probability distributions (CPDs) for node E\n",
    "    cpd_E = TabularCPD(variable = 'E', variable_card = 2, values = array_E,evidence=['C'], evidence_card=[2])\n",
    "    # Adding CPDs to the model\n",
    "    model.add_cpds(cpd_A, cpd_B, cpd_C, cpd_D, cpd_E)\n",
    "    # Validate the model\n",
    "    assert model.check_model()\n",
    "    # Performing inference\n",
    "    infer = VariableElimination(model)\n",
    "    # Compute the probability of B given A=1\n",
    "    result = infer.query(variables=['B'], evidence={'A': 1})\n",
    "    return result\n",
    "\n",
    "def create_graph_example_bn1(x_size, y_size):\n",
    "    # Creating a directed graph for the Bayesian Network\n",
    "    G = nx.DiGraph()\n",
    "    # Adding nodes to the graph\n",
    "    G.add_nodes_from([\"A\", \"B\", \"C\", \"D\", \"E\"])\n",
    "    # Adding directed edges between nodes with weights\n",
    "    G.add_edge(\"A\", \"B\", weight = \"B|A\\n0.8, 0.2 | 0.4, 0.6\")\n",
    "    G.add_edge(\"A\", \"C\", weight = \"0.6, 0.4 | 0.2, 0.8\")\n",
    "    G.add_edge(\"B\", \"D\", weight = \"0.9, 0.1 | 0.6, 0.4\")\n",
    "    G.add_edge(\"C\", \"D\", weight = \"0.7, 0.3 | 0.1, 0.9\")\n",
    "    G.add_edge(\"C\", \"E\", weight = \"0.7, 0.3 | 0.1, 0.9\")\n",
    "    # Manually specifying node positions\n",
    "    pos = {\n",
    "        \"A\": (0, 1),\n",
    "        \"B\": (-1, 0),\n",
    "        \"C\": (1, 0),\n",
    "        \"D\": (0, -1),\n",
    "        \"E\": (3, 0)\n",
    "    }\n",
    "    # These are example weights for demonstration purposes\n",
    "    node_labels = {\n",
    "        \"A\": \"A\\n0.7, 0.3\",\n",
    "        \"B\": \"B\\n0.8, 0.2 | 0.4, 0.6\",\n",
    "        \"C\": \"C\\n0.6, 0.4 | 0.2, 0.8\",\n",
    "        \"D\": \"D\\n0.9, 0.1 | 0.6, 0.4 | 0.7, 0.3 | 0.1, 0.9\",\n",
    "        \"E\": \"E\\n0.7, 0.3 | 0.1, 0.9\"\n",
    "    }\n",
    "    # Setting the size of the plot\n",
    "    plt.figure(figsize=(x_size, y_size))\n",
    "    # Drawing the graph\n",
    "    nx.draw(G, \n",
    "            pos, \n",
    "            with_labels=True, \n",
    "            labels = node_labels,\n",
    "            node_size=2000, \n",
    "            node_color='skyblue', \n",
    "            font_size = 12, \n",
    "            font_weight='bold', \n",
    "            arrowstyle='->', \n",
    "            arrowsize=20\n",
    "           )\n",
    "    # Adding edge labels (weights)\n",
    "    edge_labels = nx.get_edge_attributes(G, 'weight')\n",
    "    # Drawing the graph with the edge labels\n",
    "    nx.draw_networkx_edge_labels(G, \n",
    "                                 pos, \n",
    "                                 edge_labels=edge_labels, \n",
    "                                 font_size=10, \n",
    "                                 font_color='green'\n",
    "                                )\n",
    "    # Displaying the title\n",
    "    plt.title('Bayesian Network with Edge Weights')\n",
    "    plt.show()"
   ]
  },
  {
   "cell_type": "markdown",
   "id": "13ed0100",
   "metadata": {
    "heading_collapsed": true,
    "hidden": true
   },
   "source": [
    "## Creates synthetic data"
   ]
  },
  {
   "cell_type": "code",
   "execution_count": 3,
   "id": "22b60225",
   "metadata": {
    "ExecuteTime": {
     "end_time": "2023-12-03T02:20:20.201076Z",
     "start_time": "2023-12-03T02:20:20.186077Z"
    },
    "hidden": true
   },
   "outputs": [],
   "source": [
    "# Creates a synthetic healthcare DataFrame\n",
    "def create_healthcare_df(n_samples, # Number of samples in the DataFrame\n",
    "                         p_disease, # Base rate probability of having the disease\n",
    "                         p_risk, # Probability of having the risk factor\n",
    "                         p1, # Probability of Symptom 1 given disease\n",
    "                         p2, # Probability of Symptom 2 given disease\n",
    "                         p3, # Probability of Symptom 3 given disease\n",
    "                         p4, # Probability of Symptom 4 given disease\n",
    "                         p_positive # Probability of a positive test given disease\n",
    "                        ): \n",
    "    # Generate 'Disease' and 'Risk Factor' columns\n",
    "    diseases = np.random.binomial(1, p_disease, n_samples)\n",
    "    #\n",
    "    q_risk = 1 - p_risk # complementary probability of risk given disease\n",
    "    q1 = 1 - p1 # complementary probability of symptom 1 given disease\n",
    "    q2 = 1 - p2 # complementary probability of symptom 2 given disease\n",
    "    q3 = 1 - p3 # complementary probability of symptom 3 given disease\n",
    "    q4 = 1 - p4 # complementary probability of symptom 4 given disease\n",
    "    q_positive = 1 - p_positive\n",
    "    # Generate 'RiskFactors', 'Symptoms', and 'Test Result' columns based on the presence of disease\n",
    "    risk_factors = [np.random.binomial(1, p_risk if d else q_risk) for d in diseases]\n",
    "    symptom1 = [np.random.binomial(1, p1 if d else q1) for d in diseases]\n",
    "    symptom2 = [np.random.binomial(1, p2 if d else q2) for d in diseases]\n",
    "    symptom3 = [np.random.binomial(1, p3 if d else q3) for d in diseases]\n",
    "    symptom4 = [np.random.binomial(1, p4 if d else q4) for d in diseases]\n",
    "    test_results = [np.random.binomial(1, p_positive if d else q_positive) for d in diseases]\n",
    "    # Creating the DataFrame\n",
    "    df =  pd.DataFrame({'RiskFactor': risk_factors,\n",
    "                        'Disease': diseases,\n",
    "                        'Symptom1': symptom1,\n",
    "                        'Symptom2': symptom2,\n",
    "                        'Symptom3': symptom3,\n",
    "                        'Symptom4': symptom4,\n",
    "                        'TestResult': test_results\n",
    "                       })\n",
    "    return df"
   ]
  },
  {
   "cell_type": "markdown",
   "id": "9671cc2c",
   "metadata": {
    "heading_collapsed": true,
    "hidden": true
   },
   "source": [
    "## Example 2: Bayesian network vs Quantum ML"
   ]
  },
  {
   "cell_type": "code",
   "execution_count": 4,
   "id": "5dd5750b",
   "metadata": {
    "ExecuteTime": {
     "end_time": "2023-12-03T02:20:20.217075Z",
     "start_time": "2023-12-03T02:20:20.202077Z"
    },
    "hidden": true
   },
   "outputs": [],
   "source": [
    "def run_bayesian_network(df):\n",
    "    # Define the structure of the Bayesian network\n",
    "    model = BayesianNetwork([\n",
    "        ('RiskFactor', 'Disease'), \n",
    "        ('Disease', 'Symptom1'), \n",
    "        ('Disease', 'Symptom2'),\n",
    "        ('Disease', 'Symptom3'),\n",
    "        ('Disease', 'Symptom4'),\n",
    "        ('Disease', 'TestResult')\n",
    "    ])\n",
    "    # Learn CPDs using Maximum Likelihood Estimators\n",
    "    model.fit(df, estimator=MaximumLikelihoodEstimator)\n",
    "    # Perform inference\n",
    "    inference = VariableElimination(model)\n",
    "    # Query the probability of Disease given certain evidence\n",
    "    result = inference.query(variables=['Disease'], \n",
    "                             evidence={'Symptom1': 1, \n",
    "                                       'Symptom2': 1, \n",
    "                                       'Symptom3': 1, \n",
    "                                       'Symptom4': 1\n",
    "                                      })\n",
    "    return result\n",
    "\n",
    "\n",
    "def solve_bn_model(df):\n",
    "    # Structure Learning\n",
    "    hc = HillClimbSearch(df.drop(columns = 'TestResult'))\n",
    "    # selecting estimate method for the bayesian model\n",
    "    best_model = hc.estimate(scoring_method = BicScore(df.drop(columns = 'TestResult')))\n",
    "    # Creating the Bayesian Network\n",
    "    model = BayesianNetwork(best_model.edges())\n",
    "    # Learning CPDs using Maximum Likelihood Estimators\n",
    "    model.fit(df.drop(columns = 'TestResult'), estimator=BayesianEstimator)\n",
    "    print(model)\n",
    "    # Print the CPDs for each node\n",
    "    for cpd in model.get_cpds():\n",
    "        print(\"CPD of {variable}:\".format(variable=cpd.variable))\n",
    "        print(cpd)\n",
    "    # Print the edges of the model\n",
    "    print(\"\\nEdges in the model:\")\n",
    "    print(model.edges())\n",
    "    return model\n",
    "\n",
    "\n",
    "def print_graph_bn_solved(model):\n",
    "    # Initialize an empty NetworkX graph\n",
    "    nx_graph = nx.DiGraph()\n",
    "    # Add nodes and edges from the BayesianModel to the NetworkX graph\n",
    "    for node in model.nodes():\n",
    "        nx_graph.add_node(node)\n",
    "    for edge in model.edges():\n",
    "        nx_graph.add_edge(*edge)\n",
    "    # Visualize the network\n",
    "    nx.draw(nx_graph, with_labels=True)\n",
    "    plt.show()"
   ]
  },
  {
   "cell_type": "code",
   "execution_count": 5,
   "id": "38607ef1",
   "metadata": {
    "ExecuteTime": {
     "end_time": "2023-12-03T02:20:20.233074Z",
     "start_time": "2023-12-03T02:20:20.218075Z"
    },
    "hidden": true
   },
   "outputs": [],
   "source": [
    "def solving_bn_qml(df):\n",
    "    # Set the logging level to WARNING to suppress info messages\n",
    "    logging.getLogger('qiskit').setLevel(logging.WARNING)\n",
    "    # Creates a sample of train labels as numpy array\n",
    "    train_labels = np.array(df[['Disease']])\n",
    "    # Creates a sample of train features as numpy array\n",
    "    train_input = np.array(df[['Symptom1','Symptom2','Symptom3','Symptom4']])\n",
    "\n",
    "    # Tell Qiskit how to simulate the circuit\n",
    "    backend = Aer.get_backend('statevector_simulator')\n",
    "    # Specify the quantum state that results in either 0 or 1\n",
    "    initial_state = [1/np.sqrt(2), 1/np.sqrt(2)]\n",
    "    classifier_report(\"Random PQC\", run, lambda state: pqc_classify(backend, initial_state), train_input, train_labels)\n",
    "    \n",
    "\n",
    "def pqc_classify(backend, state):\n",
    "    # Create a quantum circuit with one qubit\n",
    "    qc = QuantumCircuit(1)\n",
    "    # Define state |Psi> and initialize the circuit\n",
    "    qc.initialize(state, 0)\n",
    "    # Measure the qubit\n",
    "    qc.measure_all()\n",
    "    # run the quantum circuit\n",
    "    result = execute(qc, backend).result()\n",
    "    # get the counts, these are either {'0': 1} or {'1': 1}\n",
    "    counts = result.get_counts(qc)\n",
    "    # get the bit 0 or 1\n",
    "    return int(list(counts.keys())[0])\n",
    "\n",
    "def run(f_classify, x):\n",
    "    return list(map(f_classify, x))\n",
    "\n",
    "def specificity(conf_matrix):\n",
    "    # Add your implementation of specificity here\n",
    "    tn, fp, _, _ = conf_matrix.ravel()\n",
    "    return tn / (tn + fp)\n",
    "\n",
    "def npv(conf_matrix):\n",
    "    # Add your implementation of NPV here\n",
    "    tn, _, fn, _ = conf_matrix.ravel()\n",
    "    return tn / (tn + fn)\n",
    "\n",
    "def classifier_report(name, run, classify, input_data, labels):\n",
    "    cr_predictions = run(classify, input_data)\n",
    "    cr_cm = confusion_matrix(labels, cr_predictions)\n",
    "    cr_precision = precision_score(labels, cr_predictions)\n",
    "    cr_recall = recall_score(labels, cr_predictions)\n",
    "    cr_specificity = specificity(cr_cm)\n",
    "    cr_npv = npv(cr_cm)\n",
    "    cr_level = 0.25 * (cr_precision + cr_recall + cr_specificity + cr_npv)\n",
    "    cr_accuracy = accuracy_score(labels, cr_predictions)\n",
    "    print(f'The accuracy of the {name} classifier is {cr_accuracy:.2f}')\n",
    "    print(f'The precision score of the {name} classifier is {cr_precision:.2f}')\n",
    "    print(f'The recall score of the {name} classifier is {cr_recall:.2f}')\n",
    "    print(f'The specificity score of the {name} classifier is {cr_specificity:.2f}')\n",
    "    print(f'The npv score of the {name} classifier is {cr_npv:.2f}')\n",
    "    print(f'The information level is: {cr_level:.2f}')"
   ]
  },
  {
   "cell_type": "markdown",
   "id": "e2aae486",
   "metadata": {
    "heading_collapsed": true,
    "hidden": true
   },
   "source": [
    "## Quantum circuit example"
   ]
  },
  {
   "cell_type": "code",
   "execution_count": 6,
   "id": "2de13b9e",
   "metadata": {
    "ExecuteTime": {
     "end_time": "2023-12-03T02:20:20.249074Z",
     "start_time": "2023-12-03T02:20:20.235077Z"
    },
    "hidden": true
   },
   "outputs": [],
   "source": [
    "def example_hadamard():\n",
    "    # Set the logging level to WARNING to suppress info messages\n",
    "    logging.getLogger('qiskit').setLevel(logging.WARNING)\n",
    "    # Create a Quantum Circuit with 2 qubits\n",
    "    qc = QuantumCircuit(2)\n",
    "    # Apply a Hadamard gate to the first qubit\n",
    "    qc.h(0)\n",
    "    # Apply a CNOT gate with the first qubit as control and the second as target\n",
    "    qc.cx(0, 1)\n",
    "    # Measure the qubits\n",
    "    qc.measure_all()\n",
    "    # Execute the circuit on a quantum simulator\n",
    "    simulator = Aer.get_backend('qasm_simulator')\n",
    "    job = execute(qc, simulator, shots=1000)\n",
    "    result = job.result()\n",
    "    # Get the counts (how many times each result appeared)\n",
    "    counts = result.get_counts(qc)\n",
    "    return counts, qc\n"
   ]
  },
  {
   "cell_type": "raw",
   "id": "c9ec3087",
   "metadata": {
    "ExecuteTime": {
     "end_time": "2023-12-02T15:06:10.686834Z",
     "start_time": "2023-12-02T15:06:10.671836Z"
    },
    "hidden": true
   },
   "source": [
    "def example_hadamard():\n",
    "    # Create a Quantum Circuit with 2 qubits\n",
    "    qc = QuantumCircuit(2)\n",
    "    # Apply a Hadamard gate to the first qubit\n",
    "    qc.h(0)\n",
    "    # Apply a CNOT gate with the first qubit as control and the second as target\n",
    "    qc.cx(0, 1)\n",
    "    # Measure the qubits\n",
    "    qc.measure_all()\n",
    "    # Execute the circuit on a quantum simulator\n",
    "    simulator = Aer.get_backend('qasm_simulator')\n",
    "    job = execute(qc, simulator, shots=1000)\n",
    "    result = job.result()\n",
    "    # Get the counts (how many times each result appeared)\n",
    "    counts = result.get_counts(qc)\n",
    "    return counts, qc"
   ]
  },
  {
   "cell_type": "markdown",
   "id": "4ec0faab",
   "metadata": {
    "heading_collapsed": true,
    "hidden": true
   },
   "source": [
    "## Analysis"
   ]
  },
  {
   "cell_type": "code",
   "execution_count": 7,
   "id": "f9fa2529",
   "metadata": {
    "ExecuteTime": {
     "end_time": "2023-12-03T02:20:20.265074Z",
     "start_time": "2023-12-03T02:20:20.250075Z"
    },
    "hidden": true
   },
   "outputs": [],
   "source": [
    "def cpd_df_analysis(df,a,b):\n",
    "    tb = df.groupby([a,b]).agg(counter = (a,'count')).reset_index()\n",
    "    tb['Probability'] = tb['counter'] / tb['counter'].sum()\n",
    "    tb.drop(columns = 'counter', inplace = True)\n",
    "    return tb"
   ]
  },
  {
   "cell_type": "markdown",
   "id": "3147803b",
   "metadata": {},
   "source": [
    "# Introduction"
   ]
  },
  {
   "cell_type": "markdown",
   "id": "b0befd7b",
   "metadata": {},
   "source": [
    "## Introduction to Bayesian networks"
   ]
  },
  {
   "cell_type": "markdown",
   "id": "7699cff1",
   "metadata": {},
   "source": [
    "Bayesian Networks are graphical models that represent probabilistic relationships among a set of variables. They are a type of statistical model that uses the concepts of probability theory and graph theory to model complex relationships in data. The structure of a Bayesian Network is a DAG, where there are no circular relationships (acyclic). A Bayesian Network is composed of\n",
    "\n",
    "* **Nodes**: Each node represents a random variable, which can be discrete or continuous. These variables can represent any kind of data, like the presence or absence of a disease, weather conditions, etc.\n",
    "* **Edges**: Directed edges between nodes represent conditional dependencies. An edge from node A to node B means that the variable represented by B is dependent on the variable represented by A.\n",
    "\n",
    "Each node in the network is associated with a probability distribution that quantifies the effects of the parents on the node. The joint probability distribution of a set of variables in a Bayesian Network can be decomposed into the product of the conditional probabilities of each variable given its parents. Bayesian Networks are widely used in various fields such as medicine, biology, engineering, artificial intelligence, and more. They are particularly useful for diagnostic systems, prediction, decision making under uncertainty, and in situations where capturing causal relationships is crucial. Inference in Bayesian Networks involves computing the posterior probability of a set of query variables given some observed evidence. This is often done using algorithms like variable elimination, belief propagation, or sampling methods.\n",
    "\n",
    "Bayesian networks, also known as belief networks or Bayes nets, are a class of probabilistic graphical models that represent a set of variables and their conditional dependencies through a directed acyclic graph (DAG). These networks are particularly useful in modeling complex systems where the interactions between variables are best understood in terms of probabilities. \n",
    "\n",
    "In a Bayesian network, each node symbolizes a random variable, and the edges depict conditional dependencies. For instance, if there is an edge from node $A$ to node $B$, it implies that $A$ is a parent of $B$ and directly influences it. The essence of these dependencies is quantified using conditional probabilities. For two variables $A$ and $B$, the conditional probability of $B$ given $A$ is expressed as $P(B|A)$.\n",
    "\n",
    "A fundamental aspect of Bayesian networks is their ability to model the joint probability distribution of a set of variables. For example, in a network comprising variables $A$, $B$, and $C$, the joint probability distribution is represented as $P(A, B, C)$. This distribution is a comprehensive representation of the probability of every possible combination of variable states in the network. Central to the functioning of Bayesian networks is Bayes' Theorem, which is articulated as:\n",
    "\n",
    "$$ P(A|B) = \\frac{P(B|A) \\times P(A)}{P(B)}$$\n",
    "\n",
    "In this equation, $P(A|B)$ denotes the posterior probability, $P(B|A)$ is the likelihood, $P(A)$ represents the prior probability, and $P(B)$ is the evidence. Bayes' Theorem allows for the updating of our belief about the probability of $A$ given new evidence $B$. Bayesian networks simplify probability calculations using conditional independence, greatly reducing computational complexity. Key to their utility is the ability to perform inference - calculating probabilities based on evidence - for which algorithms like the Junction Tree are used. These networks are valuable in fields like medicine, finance, and AI, thanks to their prowess in modeling conditional relationships and making decisions under uncertainty. In essence, they provide a robust framework for understanding and navigating complex, probabilistic systems."
   ]
  },
  {
   "cell_type": "code",
   "execution_count": 8,
   "id": "e2c955e7",
   "metadata": {
    "ExecuteTime": {
     "end_time": "2023-12-03T02:20:20.375074Z",
     "start_time": "2023-12-03T02:20:20.266075Z"
    }
   },
   "outputs": [
    {
     "data": {
      "image/png": "[encoded data removed]",
      "text/plain": [
       "<Figure size 800x400 with 1 Axes>"
      ]
     },
     "metadata": {},
     "output_type": "display_data"
    }
   ],
   "source": [
    "graph_example_bn(x_size = 8, y_size = 4)"
   ]
  },
  {
   "cell_type": "markdown",
   "id": "e5833efa",
   "metadata": {},
   "source": [
    "This Bayesian Network graph illustrates a set of conditional dependencies among five variables: A, B, C, D, and E. Here's an explanation of the structure:\n",
    "\n",
    "1. **Node E**: This node does not have any parents, suggesting it is an independent variable or a root cause in this network. Its probability is not conditioned on any other variables in the graph.\n",
    "\n",
    "2. **Node C**: This node has one parent, E. Its probability is conditional on E. The edge from E to C indicates that the occurrence of E has a direct influence on the probability of C.\n",
    "\n",
    "3. **Node A**: This node has two parents, B and C, which means its probability is conditioned on the occurrence of B and C. There is no direct edge between B and C, which implies that B and C are conditionally independent given A.\n",
    "\n",
    "4. **Nodes B and D**: Both of these nodes have C as a parent. Their probabilities are conditioned on C. However, B and D are conditionally independent of each other given C, as there is no direct edge between B and D.\n",
    "\n",
    "The arrows indicate the direction of influence; for example, the arrow from C to D means the occurrence of C affects the probability of D. In terms of inference, if we have evidence about the occurrence of some variables, we can update our beliefs about the likelihood of other variables. For instance, if we know that E has occurred, we can update our belief about the likelihood of C. If we additionally learn that C has occurred, we can further refine the probabilities of A, B, and D. This kind of network is useful for probabilistic reasoning and decision-making in complex systems where the relationships between variables are known, but the outcomes are uncertain."
   ]
  },
  {
   "cell_type": "markdown",
   "id": "13dc20c3",
   "metadata": {},
   "source": [
    "## Example 1: Bayesian network\n",
    "\n",
    "The Bayesian Network graph showed bellow includes nodes with associated probabilities and conditional probabilities on the edges between nodes. To describe this network, we would need a series of probability tables that capture the relationships between these nodes. Each of these tables lists the probability of a node's state given the states of its parent nodes. For example, $P(B|A)$ is read as \"the probability of B given A\" and $P(C|A,B)$ is \"the probability of C given A and B.\" These tables are foundational for performing various computations and inferences with the Bayesian Network.\n",
    "\n",
    "For node A, which has no parents, we have a simple probability table:\n",
    "\n",
    "| A   | P(A) |\n",
    "|-----|------|\n",
    "| True  | 0.7  |\n",
    "| False | 0.3  |\n",
    "\n",
    "For node B, which is dependent on A, we have:\n",
    "\n",
    "| A   | B   | P(B\\|A) |\n",
    "|-----|-----|---------|\n",
    "| True  | True  | 0.8     |\n",
    "| True  | False | 0.2     |\n",
    "| False | True  | 0.4     |\n",
    "| False | False | 0.6     |\n",
    "\n",
    "For node C, which is dependent on both A and B, we have:\n",
    "\n",
    "| A   | B   | C   | P(C\\|A,B) |\n",
    "|-----|-----|-----|-----------|\n",
    "| True  | True  | True  | 0.6       |\n",
    "| True  | True  | False | 0.4       |\n",
    "| True  | False | True  | 0.2       |\n",
    "| True  | False | False | 0.8       |\n",
    "| False | True  | True  | 0.1       |\n",
    "| False | True  | False | 0.9       |\n",
    "| False | False | True  | 0.3       |\n",
    "| False | False | False | 0.7       |\n",
    "\n",
    "For node D, which is dependent on B:\n",
    "\n",
    "| B   | D   | P(D\\|B) |\n",
    "|-----|-----|---------|\n",
    "| True  | True  | 0.9     |\n",
    "| True  | False | 0.1     |\n",
    "| False | True  | 0.6     |\n",
    "| False | False | 0.4     |\n",
    "\n",
    "For node E, which is dependent on C:\n",
    "\n",
    "| C   | E   | P(E\\|C) |\n",
    "|-----|-----|---------|\n",
    "| True  | True  | 0.7     |\n",
    "| True  | False | 0.3     |\n",
    "| False | True  | 0.1     |\n",
    "| False | False | 0.9     |\n"
   ]
  },
  {
   "cell_type": "code",
   "execution_count": 9,
   "id": "09f91e7b",
   "metadata": {
    "ExecuteTime": {
     "end_time": "2023-12-03T02:20:20.501074Z",
     "start_time": "2023-12-03T02:20:20.376075Z"
    }
   },
   "outputs": [
    {
     "data": {
      "image/png": "[encoded data removed]",
      "text/plain": [
       "<Figure size 1200x600 with 1 Axes>"
      ]
     },
     "metadata": {},
     "output_type": "display_data"
    }
   ],
   "source": [
    "create_graph_example_bn1(x_size = 12, y_size = 6)"
   ]
  },
  {
   "cell_type": "markdown",
   "id": "f07483df",
   "metadata": {},
   "source": [
    "In this analysis, we utilized the `pgmpy` Python library, which is designed for probabilistic graphical models, to solve a Bayesian network problem. The function `create_example_bn1()` presumably constructed a Bayesian network and performed inference on it. As shown by the printed `result`, the inference process yielded probabilities that align with the prior probabilities we specified for the node `B`. The output suggests that `B(0)` has a probability of 0.4 and `B(1)` has a probability of 0.6. These results indicate that the Bayesian network's inference reaffirmed our initial beliefs about the system, with the calculated posterior probabilities matching the prior inputs. This outcome is a key feature of Bayesian networks; when there is no additional evidence affecting the nodes, the posterior probabilities will naturally reflect the priors that were input into the system."
   ]
  },
  {
   "cell_type": "code",
   "execution_count": 10,
   "id": "1e4ec8de",
   "metadata": {
    "ExecuteTime": {
     "end_time": "2023-12-03T02:20:20.517074Z",
     "start_time": "2023-12-03T02:20:20.502075Z"
    }
   },
   "outputs": [
    {
     "name": "stdout",
     "output_type": "stream",
     "text": [
      "+------+----------+\n",
      "| B    |   phi(B) |\n",
      "+======+==========+\n",
      "| B(0) |   0.4000 |\n",
      "+------+----------+\n",
      "| B(1) |   0.6000 |\n",
      "+------+----------+\n"
     ]
    }
   ],
   "source": [
    "result = create_example_bn1()\n",
    "print(result)"
   ]
  },
  {
   "cell_type": "markdown",
   "id": "58ae2070",
   "metadata": {},
   "source": [
    "## Introduction to Quantum ML"
   ]
  },
  {
   "cell_type": "markdown",
   "id": "8ed7c348",
   "metadata": {},
   "source": [
    "Quantum Machine Learning is an emerging field at the intersection of quantum physics and machine learning. QML explores how quantum computing can be used to improve machine learning algorithms. Some key concepts include:\n",
    "\n",
    "1. **Quantum Computing Basics:**\n",
    "   - Quantum computing operates on quantum bits (qubits) that can exist in superpositions (both 0 and 1 simultaneously), unlike classical bits which are either 0 or 1.\n",
    "   - Quantum entanglement and superposition provide the potential for quantum computers to process a vast number of possibilities simultaneously.\n",
    "\n",
    "2. **Quantum Algorithms for Machine Learning:**\n",
    "   - Quantum algorithms can potentially offer speedups for specific machine learning tasks. For example, quantum versions of gradient descent or clustering algorithms.\n",
    "   - Quantum annealing is a technique used for finding global minima in optimization problems, applicable in training models.\n",
    "\n",
    "3. **Quantum Circuits for Data Encoding:**\n",
    "   - In QML, classical data is encoded into quantum states using quantum circuits. This process is crucial as it determines how well the quantum system can represent and process the data.\n",
    "\n",
    "4. **Hybrid Quantum-Classical Models:**\n",
    "   - Many current QML approaches are hybrid, where quantum algorithms are used for specific tasks (like certain calculations or data processing steps) within a larger classical algorithm.\n",
    "\n",
    "5. **Quantum Advantage and Limitations:**\n",
    "   - Quantum advantage refers to quantum algorithms performing tasks more efficiently than classical algorithms. However, this is currently limited to specific types of problems.\n",
    "   - Current quantum computers, known as Noisy Intermediate-Scale Quantum (NISQ) devices, have limitations in terms of qubit count and error rates.\n",
    "\n",
    "6. **Applications:**\n",
    "   - Potential applications include drug discovery, material science, and complex system modeling, where quantum computing can analyze molecular and quantum systems natively.\n",
    "\n",
    "Quantum machine learning is still largely theoretical and experimental, with ongoing research to understand its full capabilities and limitations. The integration of quantum computing principles into machine learning could lead to significant advancements in computational power and efficiency, but practical and widely accessible applications are still a topic of active development."
   ]
  },
  {
   "cell_type": "markdown",
   "id": "44bd888f",
   "metadata": {},
   "source": [
    "## quantum hadamard gate"
   ]
  },
  {
   "cell_type": "markdown",
   "id": "93315f82",
   "metadata": {},
   "source": [
    "In quantum computing, initializing qubits and applying basic gates like the Hadamard and CNOT are essential for building quantum algorithms. A typical example is a two-qubit circuit demonstrating superposition and entanglement. Initially, both qubits are in state $|0\\rangle$. The Hadamard gate applied to the first qubit creates a superposition, $\\frac{1}{\\sqrt{2}}(|0\\rangle + |1\\rangle)$, while the subsequent CNOT gate entangles the qubits, resulting in the state $\\frac{1}{\\sqrt{2}}(|00\\rangle + |11\\rangle)$. Measurement collapses this state to either $|00\\rangle$ or $|11\\rangle$, each with equal probability, illustrating quantum mechanics' probabilistic nature. This framework sets the stage for more complex constructs like quantum Bayesian networks, which would encode probabilistic information into quantum states."
   ]
  },
  {
   "cell_type": "code",
   "execution_count": 11,
   "id": "bf404013",
   "metadata": {
    "ExecuteTime": {
     "end_time": "2023-12-03T02:20:20.693076Z",
     "start_time": "2023-12-03T02:20:20.518075Z"
    },
    "scrolled": true
   },
   "outputs": [],
   "source": [
    "counts, qc = example_hadamard()"
   ]
  },
  {
   "cell_type": "code",
   "execution_count": 12,
   "id": "25c9e2f6",
   "metadata": {
    "ExecuteTime": {
     "end_time": "2023-12-03T02:20:20.709078Z",
     "start_time": "2023-12-03T02:20:20.694076Z"
    },
    "scrolled": false
   },
   "outputs": [
    {
     "name": "stdout",
     "output_type": "stream",
     "text": [
      "        ┌───┐      ░ ┌─┐   \n",
      "   q_0: ┤ H ├──■───░─┤M├───\n",
      "        └───┘┌─┴─┐ ░ └╥┘┌─┐\n",
      "   q_1: ─────┤ X ├─░──╫─┤M├\n",
      "             └───┘ ░  ║ └╥┘\n",
      "meas: 2/══════════════╩══╩═\n",
      "                      0  1 \n"
     ]
    }
   ],
   "source": [
    "print(qc)"
   ]
  },
  {
   "cell_type": "code",
   "execution_count": 13,
   "id": "58cdfd21",
   "metadata": {
    "ExecuteTime": {
     "end_time": "2023-12-03T02:20:20.773074Z",
     "start_time": "2023-12-03T02:20:20.710078Z"
    }
   },
   "outputs": [
    {
     "name": "stdout",
     "output_type": "stream",
     "text": [
      "{'00': 518, '11': 482}\n"
     ]
    },
    {
     "data": {
      "image/png": "[encoded data removed]",
      "text/plain": [
       "<Figure size 700x500 with 1 Axes>"
      ]
     },
     "execution_count": 13,
     "metadata": {},
     "output_type": "execute_result"
    }
   ],
   "source": [
    "# Print the counts\n",
    "print(counts)\n",
    "plot_histogram(counts)"
   ]
  },
  {
   "cell_type": "markdown",
   "id": "76b33477",
   "metadata": {},
   "source": [
    "# Practical application: Bayesian Network vs Quantum ML"
   ]
  },
  {
   "cell_type": "markdown",
   "id": "17e4cd11",
   "metadata": {},
   "source": [
    "In this section, we are constructing a synthetic dataframe that simulates a healthcare scenario using a Python function called `create_healthcare_df`. This function generates a dataset with a specified number of samples (`n_samples`) representing individual patients. Each sample includes information about the presence of a disease, a risk factor, four symptoms, and a test result.\n",
    "\n",
    "The probabilities that the function uses to generate the data are: `p_disease` for the base rate of the disease, `p_risk` for the likelihood of having a risk factor associated with the disease, `p1` through `p4` for the likelihood of exhibiting each of four symptoms given the disease, and `p_positive` for the probability of obtaining a positive result in a diagnostic test given the disease.\n",
    "\n",
    "Using these probabilities, the function employs binomial distributions to randomly determine the presence or absence of the disease, the risk factor, the four symptoms, and the test results for each simulated patient. It accounts for the possibility that the presence of a disease increases the likelihood of associated risk factors and symptoms. The output is a pandas DataFrame where each row represents a patient and each column corresponds to one of the attributes: 'RiskFactor', 'Disease', 'Symptom1', 'Symptom2', 'Symptom3', 'Symptom4', and 'TestResult'. This synthetic data can be used for various analytical purposes, such as training predictive models, without relying on real patient data, which can be sensitive or difficult to obtain. Bellow a snipet of the dataframe:\n",
    "\n",
    "| RiskFactor | Disease | Symptom1 | Symptom2 | Symptom3 | Symptom4 | TestResult |\n",
    "|------------|---------|----------|----------|----------|----------|------------|\n",
    "| 0          | 1       | 0        | 1        | 1        | 0        | 0          |\n",
    "| 1          | 1       | 0        | 0        | 1        | 0        | 0          |\n",
    "| ...        | ...     | ...      | ...      | ...      | ...      | ...        |\n",
    "| 995        | 1       | 0        | 0        | 0        | 0        | 0          |\n",
    "| 996        | 0       | 0        | 0        | 0        | 0        | 0          |\n",
    "| 997        | 1       | 0        | 0        | 1        | 1        | 0          |\n",
    "| 998        | 0       | 1        | 1        | 0        | 1        | 1          |\n",
    "| 999        | 0       | 0        | 1        | 0        | 0        | 0          |\n"
   ]
  },
  {
   "cell_type": "markdown",
   "id": "7a107a33",
   "metadata": {
    "heading_collapsed": true
   },
   "source": [
    "## Get data"
   ]
  },
  {
   "cell_type": "code",
   "execution_count": 14,
   "id": "cfc900d7",
   "metadata": {
    "ExecuteTime": {
     "end_time": "2023-12-03T02:20:20.789075Z",
     "start_time": "2023-12-03T02:20:20.774075Z"
    },
    "hidden": true
   },
   "outputs": [],
   "source": [
    "# Example usage\n",
    "df = create_healthcare_df(n_samples = 1000, # Number of samples in the DataFrame\n",
    "                          p_disease = 0.25, # Base rate probability of having the disease\n",
    "                          p_risk = 0.33, # Probability of having the risk factor\n",
    "                          p1 = 0.70, # Probability of Symptom 1 given disease\n",
    "                          p2 = 0.60, # Probability of Symptom 2 given disease\n",
    "                          p3 = 0.65, # Probability of Symptom 2 given disease\n",
    "                          p4 = 0.65, # Probability of Symptom 2 given disease\n",
    "                          p_positive = 0.90 # Probability of a positive test given disease\n",
    "                         )"
   ]
  },
  {
   "cell_type": "markdown",
   "id": "c7a1a252",
   "metadata": {},
   "source": [
    "## Data analysis"
   ]
  },
  {
   "cell_type": "code",
   "execution_count": 15,
   "id": "7f89b7fd",
   "metadata": {
    "ExecuteTime": {
     "end_time": "2023-12-03T02:20:20.805074Z",
     "start_time": "2023-12-03T02:20:20.791076Z"
    }
   },
   "outputs": [
    {
     "data": {
      "text/html": [
       "<div>\n",
       "<style scoped>\n",
       "    .dataframe tbody tr th:only-of-type {\n",
       "        vertical-align: middle;\n",
       "    }\n",
       "\n",
       "    .dataframe tbody tr th {\n",
       "        vertical-align: top;\n",
       "    }\n",
       "\n",
       "    .dataframe thead th {\n",
       "        text-align: right;\n",
       "    }\n",
       "</style>\n",
       "<table border=\"1\" class=\"dataframe\">\n",
       "  <thead>\n",
       "    <tr style=\"text-align: right;\">\n",
       "      <th></th>\n",
       "      <th>RiskFactor</th>\n",
       "      <th>Disease</th>\n",
       "      <th>Symptom1</th>\n",
       "      <th>Symptom2</th>\n",
       "      <th>Symptom3</th>\n",
       "      <th>Symptom4</th>\n",
       "      <th>TestResult</th>\n",
       "    </tr>\n",
       "  </thead>\n",
       "  <tbody>\n",
       "    <tr>\n",
       "      <th>0</th>\n",
       "      <td>1</td>\n",
       "      <td>0</td>\n",
       "      <td>0</td>\n",
       "      <td>0</td>\n",
       "      <td>0</td>\n",
       "      <td>0</td>\n",
       "      <td>0</td>\n",
       "    </tr>\n",
       "    <tr>\n",
       "      <th>1</th>\n",
       "      <td>0</td>\n",
       "      <td>1</td>\n",
       "      <td>1</td>\n",
       "      <td>1</td>\n",
       "      <td>0</td>\n",
       "      <td>0</td>\n",
       "      <td>1</td>\n",
       "    </tr>\n",
       "    <tr>\n",
       "      <th>2</th>\n",
       "      <td>1</td>\n",
       "      <td>0</td>\n",
       "      <td>0</td>\n",
       "      <td>1</td>\n",
       "      <td>0</td>\n",
       "      <td>1</td>\n",
       "      <td>0</td>\n",
       "    </tr>\n",
       "    <tr>\n",
       "      <th>3</th>\n",
       "      <td>0</td>\n",
       "      <td>0</td>\n",
       "      <td>0</td>\n",
       "      <td>0</td>\n",
       "      <td>1</td>\n",
       "      <td>0</td>\n",
       "      <td>0</td>\n",
       "    </tr>\n",
       "    <tr>\n",
       "      <th>4</th>\n",
       "      <td>1</td>\n",
       "      <td>0</td>\n",
       "      <td>0</td>\n",
       "      <td>0</td>\n",
       "      <td>1</td>\n",
       "      <td>0</td>\n",
       "      <td>1</td>\n",
       "    </tr>\n",
       "    <tr>\n",
       "      <th>...</th>\n",
       "      <td>...</td>\n",
       "      <td>...</td>\n",
       "      <td>...</td>\n",
       "      <td>...</td>\n",
       "      <td>...</td>\n",
       "      <td>...</td>\n",
       "      <td>...</td>\n",
       "    </tr>\n",
       "    <tr>\n",
       "      <th>995</th>\n",
       "      <td>0</td>\n",
       "      <td>0</td>\n",
       "      <td>1</td>\n",
       "      <td>0</td>\n",
       "      <td>0</td>\n",
       "      <td>0</td>\n",
       "      <td>1</td>\n",
       "    </tr>\n",
       "    <tr>\n",
       "      <th>996</th>\n",
       "      <td>0</td>\n",
       "      <td>1</td>\n",
       "      <td>1</td>\n",
       "      <td>0</td>\n",
       "      <td>1</td>\n",
       "      <td>1</td>\n",
       "      <td>1</td>\n",
       "    </tr>\n",
       "    <tr>\n",
       "      <th>997</th>\n",
       "      <td>0</td>\n",
       "      <td>1</td>\n",
       "      <td>0</td>\n",
       "      <td>0</td>\n",
       "      <td>1</td>\n",
       "      <td>1</td>\n",
       "      <td>1</td>\n",
       "    </tr>\n",
       "    <tr>\n",
       "      <th>998</th>\n",
       "      <td>0</td>\n",
       "      <td>1</td>\n",
       "      <td>1</td>\n",
       "      <td>1</td>\n",
       "      <td>1</td>\n",
       "      <td>0</td>\n",
       "      <td>1</td>\n",
       "    </tr>\n",
       "    <tr>\n",
       "      <th>999</th>\n",
       "      <td>1</td>\n",
       "      <td>0</td>\n",
       "      <td>0</td>\n",
       "      <td>0</td>\n",
       "      <td>1</td>\n",
       "      <td>0</td>\n",
       "      <td>0</td>\n",
       "    </tr>\n",
       "  </tbody>\n",
       "</table>\n",
       "<p>1000 rows × 7 columns</p>\n",
       "</div>"
      ],
      "text/plain": [
       "     RiskFactor  Disease  Symptom1  Symptom2  Symptom3  Symptom4  TestResult\n",
       "0             1        0         0         0         0         0           0\n",
       "1             0        1         1         1         0         0           1\n",
       "2             1        0         0         1         0         1           0\n",
       "3             0        0         0         0         1         0           0\n",
       "4             1        0         0         0         1         0           1\n",
       "..          ...      ...       ...       ...       ...       ...         ...\n",
       "995           0        0         1         0         0         0           1\n",
       "996           0        1         1         0         1         1           1\n",
       "997           0        1         0         0         1         1           1\n",
       "998           0        1         1         1         1         0           1\n",
       "999           1        0         0         0         1         0           0\n",
       "\n",
       "[1000 rows x 7 columns]"
      ]
     },
     "execution_count": 15,
     "metadata": {},
     "output_type": "execute_result"
    }
   ],
   "source": [
    "df"
   ]
  },
  {
   "cell_type": "code",
   "execution_count": 16,
   "id": "7c53c65d",
   "metadata": {
    "ExecuteTime": {
     "end_time": "2023-12-03T02:20:20.820074Z",
     "start_time": "2023-12-03T02:20:20.806078Z"
    }
   },
   "outputs": [
    {
     "data": {
      "text/plain": [
       "RiskFactor    0.599\n",
       "Disease       0.248\n",
       "Symptom1      0.396\n",
       "Symptom2      0.427\n",
       "Symptom3      0.410\n",
       "Symptom4      0.426\n",
       "TestResult    0.301\n",
       "dtype: float64"
      ]
     },
     "execution_count": 16,
     "metadata": {},
     "output_type": "execute_result"
    }
   ],
   "source": [
    "# Base rate probability probabilities for each feature\n",
    "df.mean()"
   ]
  },
  {
   "cell_type": "code",
   "execution_count": 17,
   "id": "89a2e645",
   "metadata": {
    "ExecuteTime": {
     "end_time": "2023-12-03T02:20:20.835076Z",
     "start_time": "2023-12-03T02:20:20.821075Z"
    }
   },
   "outputs": [
    {
     "data": {
      "text/html": [
       "<div>\n",
       "<style scoped>\n",
       "    .dataframe tbody tr th:only-of-type {\n",
       "        vertical-align: middle;\n",
       "    }\n",
       "\n",
       "    .dataframe tbody tr th {\n",
       "        vertical-align: top;\n",
       "    }\n",
       "\n",
       "    .dataframe thead th {\n",
       "        text-align: right;\n",
       "    }\n",
       "</style>\n",
       "<table border=\"1\" class=\"dataframe\">\n",
       "  <thead>\n",
       "    <tr style=\"text-align: right;\">\n",
       "      <th></th>\n",
       "      <th>RiskFactor</th>\n",
       "      <th>prob_disease</th>\n",
       "    </tr>\n",
       "  </thead>\n",
       "  <tbody>\n",
       "    <tr>\n",
       "      <th>0</th>\n",
       "      <td>0</td>\n",
       "      <td>0.403990</td>\n",
       "    </tr>\n",
       "    <tr>\n",
       "      <th>1</th>\n",
       "      <td>1</td>\n",
       "      <td>0.143573</td>\n",
       "    </tr>\n",
       "  </tbody>\n",
       "</table>\n",
       "</div>"
      ],
      "text/plain": [
       "   RiskFactor  prob_disease\n",
       "0           0      0.403990\n",
       "1           1      0.143573"
      ]
     },
     "execution_count": 17,
     "metadata": {},
     "output_type": "execute_result"
    }
   ],
   "source": [
    "# Probability of having the disease given a risk factor P(Disease | RiskFactor)\n",
    "df.groupby('RiskFactor').agg(prob_disease = ('Disease','mean')).reset_index()"
   ]
  },
  {
   "cell_type": "code",
   "execution_count": 18,
   "id": "2d15ad7d",
   "metadata": {
    "ExecuteTime": {
     "end_time": "2023-12-03T02:20:20.851077Z",
     "start_time": "2023-12-03T02:20:20.838078Z"
    }
   },
   "outputs": [
    {
     "data": {
      "text/html": [
       "<div>\n",
       "<style scoped>\n",
       "    .dataframe tbody tr th:only-of-type {\n",
       "        vertical-align: middle;\n",
       "    }\n",
       "\n",
       "    .dataframe tbody tr th {\n",
       "        vertical-align: top;\n",
       "    }\n",
       "\n",
       "    .dataframe thead th {\n",
       "        text-align: right;\n",
       "    }\n",
       "</style>\n",
       "<table border=\"1\" class=\"dataframe\">\n",
       "  <thead>\n",
       "    <tr style=\"text-align: right;\">\n",
       "      <th></th>\n",
       "      <th>TestResult</th>\n",
       "      <th>prob_disease</th>\n",
       "    </tr>\n",
       "  </thead>\n",
       "  <tbody>\n",
       "    <tr>\n",
       "      <th>0</th>\n",
       "      <td>0</td>\n",
       "      <td>0.032904</td>\n",
       "    </tr>\n",
       "    <tr>\n",
       "      <th>1</th>\n",
       "      <td>1</td>\n",
       "      <td>0.747508</td>\n",
       "    </tr>\n",
       "  </tbody>\n",
       "</table>\n",
       "</div>"
      ],
      "text/plain": [
       "   TestResult  prob_disease\n",
       "0           0      0.032904\n",
       "1           1      0.747508"
      ]
     },
     "execution_count": 18,
     "metadata": {},
     "output_type": "execute_result"
    }
   ],
   "source": [
    "# Probability of having the disease given a positive test result P(Disease | TestResult)\n",
    "df.groupby('TestResult').agg(prob_disease = ('Disease','mean')).reset_index()"
   ]
  },
  {
   "cell_type": "code",
   "execution_count": 19,
   "id": "77e85afa",
   "metadata": {
    "ExecuteTime": {
     "end_time": "2023-12-03T02:20:20.867076Z",
     "start_time": "2023-12-03T02:20:20.852076Z"
    }
   },
   "outputs": [
    {
     "data": {
      "text/html": [
       "<div>\n",
       "<style scoped>\n",
       "    .dataframe tbody tr th:only-of-type {\n",
       "        vertical-align: middle;\n",
       "    }\n",
       "\n",
       "    .dataframe tbody tr th {\n",
       "        vertical-align: top;\n",
       "    }\n",
       "\n",
       "    .dataframe thead th {\n",
       "        text-align: right;\n",
       "    }\n",
       "</style>\n",
       "<table border=\"1\" class=\"dataframe\">\n",
       "  <thead>\n",
       "    <tr style=\"text-align: right;\">\n",
       "      <th></th>\n",
       "      <th>Symptom1</th>\n",
       "      <th>prob_disease</th>\n",
       "    </tr>\n",
       "  </thead>\n",
       "  <tbody>\n",
       "    <tr>\n",
       "      <th>0</th>\n",
       "      <td>0</td>\n",
       "      <td>0.100993</td>\n",
       "    </tr>\n",
       "    <tr>\n",
       "      <th>1</th>\n",
       "      <td>1</td>\n",
       "      <td>0.472222</td>\n",
       "    </tr>\n",
       "  </tbody>\n",
       "</table>\n",
       "</div>"
      ],
      "text/plain": [
       "   Symptom1  prob_disease\n",
       "0         0      0.100993\n",
       "1         1      0.472222"
      ]
     },
     "execution_count": 19,
     "metadata": {},
     "output_type": "execute_result"
    }
   ],
   "source": [
    "# Probability of having the disease given the presence of Symptom1 P(Disease | Symptom1)\n",
    "df.groupby('Symptom1').agg(prob_disease = ('Disease','mean')).reset_index()"
   ]
  },
  {
   "cell_type": "code",
   "execution_count": 20,
   "id": "d3846451",
   "metadata": {
    "ExecuteTime": {
     "end_time": "2023-12-03T02:20:20.883078Z",
     "start_time": "2023-12-03T02:20:20.868076Z"
    }
   },
   "outputs": [
    {
     "data": {
      "text/html": [
       "<div>\n",
       "<style scoped>\n",
       "    .dataframe tbody tr th:only-of-type {\n",
       "        vertical-align: middle;\n",
       "    }\n",
       "\n",
       "    .dataframe tbody tr th {\n",
       "        vertical-align: top;\n",
       "    }\n",
       "\n",
       "    .dataframe thead th {\n",
       "        text-align: right;\n",
       "    }\n",
       "</style>\n",
       "<table border=\"1\" class=\"dataframe\">\n",
       "  <thead>\n",
       "    <tr style=\"text-align: right;\">\n",
       "      <th></th>\n",
       "      <th>Symptom2</th>\n",
       "      <th>prob_disease</th>\n",
       "    </tr>\n",
       "  </thead>\n",
       "  <tbody>\n",
       "    <tr>\n",
       "      <th>0</th>\n",
       "      <td>0</td>\n",
       "      <td>0.197208</td>\n",
       "    </tr>\n",
       "    <tr>\n",
       "      <th>1</th>\n",
       "      <td>1</td>\n",
       "      <td>0.316159</td>\n",
       "    </tr>\n",
       "  </tbody>\n",
       "</table>\n",
       "</div>"
      ],
      "text/plain": [
       "   Symptom2  prob_disease\n",
       "0         0      0.197208\n",
       "1         1      0.316159"
      ]
     },
     "execution_count": 20,
     "metadata": {},
     "output_type": "execute_result"
    }
   ],
   "source": [
    "# Probability of having the disease given the presence of Symptom2 P(Disease | Symptom2)\n",
    "df.groupby('Symptom2').agg(prob_disease = ('Disease','mean')).reset_index()"
   ]
  },
  {
   "cell_type": "code",
   "execution_count": 21,
   "id": "c99885ac",
   "metadata": {
    "ExecuteTime": {
     "end_time": "2023-12-03T02:20:20.899077Z",
     "start_time": "2023-12-03T02:20:20.884078Z"
    }
   },
   "outputs": [
    {
     "data": {
      "text/html": [
       "<div>\n",
       "<style scoped>\n",
       "    .dataframe tbody tr th:only-of-type {\n",
       "        vertical-align: middle;\n",
       "    }\n",
       "\n",
       "    .dataframe tbody tr th {\n",
       "        vertical-align: top;\n",
       "    }\n",
       "\n",
       "    .dataframe thead th {\n",
       "        text-align: right;\n",
       "    }\n",
       "</style>\n",
       "<table border=\"1\" class=\"dataframe\">\n",
       "  <thead>\n",
       "    <tr style=\"text-align: right;\">\n",
       "      <th></th>\n",
       "      <th>Symptom3</th>\n",
       "      <th>prob_disease</th>\n",
       "    </tr>\n",
       "  </thead>\n",
       "  <tbody>\n",
       "    <tr>\n",
       "      <th>0</th>\n",
       "      <td>0</td>\n",
       "      <td>0.145763</td>\n",
       "    </tr>\n",
       "    <tr>\n",
       "      <th>1</th>\n",
       "      <td>1</td>\n",
       "      <td>0.395122</td>\n",
       "    </tr>\n",
       "  </tbody>\n",
       "</table>\n",
       "</div>"
      ],
      "text/plain": [
       "   Symptom3  prob_disease\n",
       "0         0      0.145763\n",
       "1         1      0.395122"
      ]
     },
     "execution_count": 21,
     "metadata": {},
     "output_type": "execute_result"
    }
   ],
   "source": [
    "# Probability of having the disease given the presence of Symptom3 P(Disease | Symptom3)\n",
    "df.groupby('Symptom3').agg(prob_disease = ('Disease','mean')).reset_index()"
   ]
  },
  {
   "cell_type": "code",
   "execution_count": 22,
   "id": "108c45d5",
   "metadata": {
    "ExecuteTime": {
     "end_time": "2023-12-03T02:20:20.915078Z",
     "start_time": "2023-12-03T02:20:20.901082Z"
    }
   },
   "outputs": [
    {
     "data": {
      "text/html": [
       "<div>\n",
       "<style scoped>\n",
       "    .dataframe tbody tr th:only-of-type {\n",
       "        vertical-align: middle;\n",
       "    }\n",
       "\n",
       "    .dataframe tbody tr th {\n",
       "        vertical-align: top;\n",
       "    }\n",
       "\n",
       "    .dataframe thead th {\n",
       "        text-align: right;\n",
       "    }\n",
       "</style>\n",
       "<table border=\"1\" class=\"dataframe\">\n",
       "  <thead>\n",
       "    <tr style=\"text-align: right;\">\n",
       "      <th></th>\n",
       "      <th>Symptom4</th>\n",
       "      <th>prob_disease</th>\n",
       "    </tr>\n",
       "  </thead>\n",
       "  <tbody>\n",
       "    <tr>\n",
       "      <th>0</th>\n",
       "      <td>0</td>\n",
       "      <td>0.16899</td>\n",
       "    </tr>\n",
       "    <tr>\n",
       "      <th>1</th>\n",
       "      <td>1</td>\n",
       "      <td>0.35446</td>\n",
       "    </tr>\n",
       "  </tbody>\n",
       "</table>\n",
       "</div>"
      ],
      "text/plain": [
       "   Symptom4  prob_disease\n",
       "0         0       0.16899\n",
       "1         1       0.35446"
      ]
     },
     "execution_count": 22,
     "metadata": {},
     "output_type": "execute_result"
    }
   ],
   "source": [
    "# Probability of having the disease given the presence of Symptom4 P(Disease | Symptom4)\n",
    "df.groupby('Symptom4').agg(prob_disease = ('Disease','mean')).reset_index()"
   ]
  },
  {
   "cell_type": "code",
   "execution_count": 23,
   "id": "2e57dbca",
   "metadata": {
    "ExecuteTime": {
     "end_time": "2023-12-03T02:20:20.931082Z",
     "start_time": "2023-12-03T02:20:20.917079Z"
    }
   },
   "outputs": [
    {
     "name": "stdout",
     "output_type": "stream",
     "text": [
      "P(Disease and Symptom1) = 0.187 \n",
      "P(Disease and Symptom2) = 0.135 \n",
      "P(Disease and Symptom3) = 0.162 \n",
      "P(Disease and Symptom4) = 0.151 \n",
      "P(Disease and RiskFactor) = 0.086 \n",
      "\n"
     ]
    }
   ],
   "source": [
    "print('P(Disease and Symptom1) =', (df['Disease'] & df['Symptom1']).mean(), '\\n'\n",
    "      'P(Disease and Symptom2) =', (df['Disease'] & df['Symptom2']).mean(), '\\n'\n",
    "      'P(Disease and Symptom3) =', (df['Disease'] & df['Symptom3']).mean(), '\\n'\n",
    "      'P(Disease and Symptom4) =', (df['Disease'] & df['Symptom4']).mean(), '\\n'\n",
    "      'P(Disease and RiskFactor) =', (df['Disease'] & df['RiskFactor']).mean(), '\\n'\n",
    "     )"
   ]
  },
  {
   "cell_type": "code",
   "execution_count": 24,
   "id": "aa753aa1",
   "metadata": {
    "ExecuteTime": {
     "end_time": "2023-12-03T02:20:20.947076Z",
     "start_time": "2023-12-03T02:20:20.933082Z"
    }
   },
   "outputs": [
    {
     "data": {
      "text/html": [
       "<div>\n",
       "<style scoped>\n",
       "    .dataframe tbody tr th:only-of-type {\n",
       "        vertical-align: middle;\n",
       "    }\n",
       "\n",
       "    .dataframe tbody tr th {\n",
       "        vertical-align: top;\n",
       "    }\n",
       "\n",
       "    .dataframe thead th {\n",
       "        text-align: right;\n",
       "    }\n",
       "</style>\n",
       "<table border=\"1\" class=\"dataframe\">\n",
       "  <thead>\n",
       "    <tr style=\"text-align: right;\">\n",
       "      <th></th>\n",
       "      <th>Disease</th>\n",
       "      <th>Symptom1</th>\n",
       "      <th>Probability</th>\n",
       "    </tr>\n",
       "  </thead>\n",
       "  <tbody>\n",
       "    <tr>\n",
       "      <th>0</th>\n",
       "      <td>0</td>\n",
       "      <td>0</td>\n",
       "      <td>0.543</td>\n",
       "    </tr>\n",
       "    <tr>\n",
       "      <th>1</th>\n",
       "      <td>0</td>\n",
       "      <td>1</td>\n",
       "      <td>0.209</td>\n",
       "    </tr>\n",
       "    <tr>\n",
       "      <th>2</th>\n",
       "      <td>1</td>\n",
       "      <td>0</td>\n",
       "      <td>0.061</td>\n",
       "    </tr>\n",
       "    <tr>\n",
       "      <th>3</th>\n",
       "      <td>1</td>\n",
       "      <td>1</td>\n",
       "      <td>0.187</td>\n",
       "    </tr>\n",
       "  </tbody>\n",
       "</table>\n",
       "</div>"
      ],
      "text/plain": [
       "   Disease  Symptom1  Probability\n",
       "0        0         0        0.543\n",
       "1        0         1        0.209\n",
       "2        1         0        0.061\n",
       "3        1         1        0.187"
      ]
     },
     "execution_count": 24,
     "metadata": {},
     "output_type": "execute_result"
    }
   ],
   "source": [
    "# Conditional probabilities of Sympton1 given disease: P(Disease and Symptom1)\n",
    "cpd_df_analysis(df, a = 'Disease', b = 'Symptom1')"
   ]
  },
  {
   "cell_type": "code",
   "execution_count": 25,
   "id": "77678a95",
   "metadata": {
    "ExecuteTime": {
     "end_time": "2023-12-03T02:20:20.962083Z",
     "start_time": "2023-12-03T02:20:20.949078Z"
    }
   },
   "outputs": [
    {
     "data": {
      "text/html": [
       "<div>\n",
       "<style scoped>\n",
       "    .dataframe tbody tr th:only-of-type {\n",
       "        vertical-align: middle;\n",
       "    }\n",
       "\n",
       "    .dataframe tbody tr th {\n",
       "        vertical-align: top;\n",
       "    }\n",
       "\n",
       "    .dataframe thead th {\n",
       "        text-align: right;\n",
       "    }\n",
       "</style>\n",
       "<table border=\"1\" class=\"dataframe\">\n",
       "  <thead>\n",
       "    <tr style=\"text-align: right;\">\n",
       "      <th></th>\n",
       "      <th>Disease</th>\n",
       "      <th>Symptom2</th>\n",
       "      <th>Probability</th>\n",
       "    </tr>\n",
       "  </thead>\n",
       "  <tbody>\n",
       "    <tr>\n",
       "      <th>0</th>\n",
       "      <td>0</td>\n",
       "      <td>0</td>\n",
       "      <td>0.460</td>\n",
       "    </tr>\n",
       "    <tr>\n",
       "      <th>1</th>\n",
       "      <td>0</td>\n",
       "      <td>1</td>\n",
       "      <td>0.292</td>\n",
       "    </tr>\n",
       "    <tr>\n",
       "      <th>2</th>\n",
       "      <td>1</td>\n",
       "      <td>0</td>\n",
       "      <td>0.113</td>\n",
       "    </tr>\n",
       "    <tr>\n",
       "      <th>3</th>\n",
       "      <td>1</td>\n",
       "      <td>1</td>\n",
       "      <td>0.135</td>\n",
       "    </tr>\n",
       "  </tbody>\n",
       "</table>\n",
       "</div>"
      ],
      "text/plain": [
       "   Disease  Symptom2  Probability\n",
       "0        0         0        0.460\n",
       "1        0         1        0.292\n",
       "2        1         0        0.113\n",
       "3        1         1        0.135"
      ]
     },
     "execution_count": 25,
     "metadata": {},
     "output_type": "execute_result"
    }
   ],
   "source": [
    "# Conditional probabilities of Sympton2 given disease: P(Disease and Symptom2)\n",
    "cpd_df_analysis(df, a = 'Disease', b = 'Symptom2')"
   ]
  },
  {
   "cell_type": "code",
   "execution_count": 26,
   "id": "7694833e",
   "metadata": {
    "ExecuteTime": {
     "end_time": "2023-12-03T02:20:20.978076Z",
     "start_time": "2023-12-03T02:20:20.964080Z"
    }
   },
   "outputs": [
    {
     "data": {
      "text/html": [
       "<div>\n",
       "<style scoped>\n",
       "    .dataframe tbody tr th:only-of-type {\n",
       "        vertical-align: middle;\n",
       "    }\n",
       "\n",
       "    .dataframe tbody tr th {\n",
       "        vertical-align: top;\n",
       "    }\n",
       "\n",
       "    .dataframe thead th {\n",
       "        text-align: right;\n",
       "    }\n",
       "</style>\n",
       "<table border=\"1\" class=\"dataframe\">\n",
       "  <thead>\n",
       "    <tr style=\"text-align: right;\">\n",
       "      <th></th>\n",
       "      <th>Disease</th>\n",
       "      <th>Symptom3</th>\n",
       "      <th>Probability</th>\n",
       "    </tr>\n",
       "  </thead>\n",
       "  <tbody>\n",
       "    <tr>\n",
       "      <th>0</th>\n",
       "      <td>0</td>\n",
       "      <td>0</td>\n",
       "      <td>0.504</td>\n",
       "    </tr>\n",
       "    <tr>\n",
       "      <th>1</th>\n",
       "      <td>0</td>\n",
       "      <td>1</td>\n",
       "      <td>0.248</td>\n",
       "    </tr>\n",
       "    <tr>\n",
       "      <th>2</th>\n",
       "      <td>1</td>\n",
       "      <td>0</td>\n",
       "      <td>0.086</td>\n",
       "    </tr>\n",
       "    <tr>\n",
       "      <th>3</th>\n",
       "      <td>1</td>\n",
       "      <td>1</td>\n",
       "      <td>0.162</td>\n",
       "    </tr>\n",
       "  </tbody>\n",
       "</table>\n",
       "</div>"
      ],
      "text/plain": [
       "   Disease  Symptom3  Probability\n",
       "0        0         0        0.504\n",
       "1        0         1        0.248\n",
       "2        1         0        0.086\n",
       "3        1         1        0.162"
      ]
     },
     "execution_count": 26,
     "metadata": {},
     "output_type": "execute_result"
    }
   ],
   "source": [
    "# Conditional probabilities of Sympton3 given disease: P(Disease and Symptom3)\n",
    "cpd_df_analysis(df, a = 'Disease', b = 'Symptom3')"
   ]
  },
  {
   "cell_type": "code",
   "execution_count": 27,
   "id": "ed44a195",
   "metadata": {
    "ExecuteTime": {
     "end_time": "2023-12-03T02:20:20.994075Z",
     "start_time": "2023-12-03T02:20:20.979078Z"
    }
   },
   "outputs": [
    {
     "data": {
      "text/html": [
       "<div>\n",
       "<style scoped>\n",
       "    .dataframe tbody tr th:only-of-type {\n",
       "        vertical-align: middle;\n",
       "    }\n",
       "\n",
       "    .dataframe tbody tr th {\n",
       "        vertical-align: top;\n",
       "    }\n",
       "\n",
       "    .dataframe thead th {\n",
       "        text-align: right;\n",
       "    }\n",
       "</style>\n",
       "<table border=\"1\" class=\"dataframe\">\n",
       "  <thead>\n",
       "    <tr style=\"text-align: right;\">\n",
       "      <th></th>\n",
       "      <th>Disease</th>\n",
       "      <th>Symptom4</th>\n",
       "      <th>Probability</th>\n",
       "    </tr>\n",
       "  </thead>\n",
       "  <tbody>\n",
       "    <tr>\n",
       "      <th>0</th>\n",
       "      <td>0</td>\n",
       "      <td>0</td>\n",
       "      <td>0.477</td>\n",
       "    </tr>\n",
       "    <tr>\n",
       "      <th>1</th>\n",
       "      <td>0</td>\n",
       "      <td>1</td>\n",
       "      <td>0.275</td>\n",
       "    </tr>\n",
       "    <tr>\n",
       "      <th>2</th>\n",
       "      <td>1</td>\n",
       "      <td>0</td>\n",
       "      <td>0.097</td>\n",
       "    </tr>\n",
       "    <tr>\n",
       "      <th>3</th>\n",
       "      <td>1</td>\n",
       "      <td>1</td>\n",
       "      <td>0.151</td>\n",
       "    </tr>\n",
       "  </tbody>\n",
       "</table>\n",
       "</div>"
      ],
      "text/plain": [
       "   Disease  Symptom4  Probability\n",
       "0        0         0        0.477\n",
       "1        0         1        0.275\n",
       "2        1         0        0.097\n",
       "3        1         1        0.151"
      ]
     },
     "execution_count": 27,
     "metadata": {},
     "output_type": "execute_result"
    }
   ],
   "source": [
    "# Conditional probabilities of Sympton4 given disease: P(Disease and Symptom4)\n",
    "cpd_df_analysis(df, a = 'Disease', b = 'Symptom4')"
   ]
  },
  {
   "cell_type": "code",
   "execution_count": 28,
   "id": "75c73790",
   "metadata": {
    "ExecuteTime": {
     "end_time": "2023-12-03T02:20:21.010075Z",
     "start_time": "2023-12-03T02:20:20.995081Z"
    }
   },
   "outputs": [
    {
     "data": {
      "text/html": [
       "<div>\n",
       "<style scoped>\n",
       "    .dataframe tbody tr th:only-of-type {\n",
       "        vertical-align: middle;\n",
       "    }\n",
       "\n",
       "    .dataframe tbody tr th {\n",
       "        vertical-align: top;\n",
       "    }\n",
       "\n",
       "    .dataframe thead th {\n",
       "        text-align: right;\n",
       "    }\n",
       "</style>\n",
       "<table border=\"1\" class=\"dataframe\">\n",
       "  <thead>\n",
       "    <tr style=\"text-align: right;\">\n",
       "      <th></th>\n",
       "      <th>Disease</th>\n",
       "      <th>RiskFactor</th>\n",
       "      <th>Probability</th>\n",
       "    </tr>\n",
       "  </thead>\n",
       "  <tbody>\n",
       "    <tr>\n",
       "      <th>0</th>\n",
       "      <td>0</td>\n",
       "      <td>0</td>\n",
       "      <td>0.239</td>\n",
       "    </tr>\n",
       "    <tr>\n",
       "      <th>1</th>\n",
       "      <td>0</td>\n",
       "      <td>1</td>\n",
       "      <td>0.513</td>\n",
       "    </tr>\n",
       "    <tr>\n",
       "      <th>2</th>\n",
       "      <td>1</td>\n",
       "      <td>0</td>\n",
       "      <td>0.162</td>\n",
       "    </tr>\n",
       "    <tr>\n",
       "      <th>3</th>\n",
       "      <td>1</td>\n",
       "      <td>1</td>\n",
       "      <td>0.086</td>\n",
       "    </tr>\n",
       "  </tbody>\n",
       "</table>\n",
       "</div>"
      ],
      "text/plain": [
       "   Disease  RiskFactor  Probability\n",
       "0        0           0        0.239\n",
       "1        0           1        0.513\n",
       "2        1           0        0.162\n",
       "3        1           1        0.086"
      ]
     },
     "execution_count": 28,
     "metadata": {},
     "output_type": "execute_result"
    }
   ],
   "source": [
    "# Conditional probabilities of RiskFactor given disease: P(Disease and RiskFactor)\n",
    "cpd_df_analysis(df, a = 'Disease', b = 'RiskFactor')"
   ]
  },
  {
   "cell_type": "code",
   "execution_count": 29,
   "id": "cb7c144c",
   "metadata": {
    "ExecuteTime": {
     "end_time": "2023-12-03T02:20:21.026076Z",
     "start_time": "2023-12-03T02:20:21.012078Z"
    }
   },
   "outputs": [
    {
     "data": {
      "text/html": [
       "<div>\n",
       "<style scoped>\n",
       "    .dataframe tbody tr th:only-of-type {\n",
       "        vertical-align: middle;\n",
       "    }\n",
       "\n",
       "    .dataframe tbody tr th {\n",
       "        vertical-align: top;\n",
       "    }\n",
       "\n",
       "    .dataframe thead th {\n",
       "        text-align: right;\n",
       "    }\n",
       "</style>\n",
       "<table border=\"1\" class=\"dataframe\">\n",
       "  <thead>\n",
       "    <tr style=\"text-align: right;\">\n",
       "      <th></th>\n",
       "      <th>Disease</th>\n",
       "      <th>TestResult</th>\n",
       "      <th>Probability</th>\n",
       "    </tr>\n",
       "  </thead>\n",
       "  <tbody>\n",
       "    <tr>\n",
       "      <th>0</th>\n",
       "      <td>0</td>\n",
       "      <td>0</td>\n",
       "      <td>0.676</td>\n",
       "    </tr>\n",
       "    <tr>\n",
       "      <th>1</th>\n",
       "      <td>0</td>\n",
       "      <td>1</td>\n",
       "      <td>0.076</td>\n",
       "    </tr>\n",
       "    <tr>\n",
       "      <th>2</th>\n",
       "      <td>1</td>\n",
       "      <td>0</td>\n",
       "      <td>0.023</td>\n",
       "    </tr>\n",
       "    <tr>\n",
       "      <th>3</th>\n",
       "      <td>1</td>\n",
       "      <td>1</td>\n",
       "      <td>0.225</td>\n",
       "    </tr>\n",
       "  </tbody>\n",
       "</table>\n",
       "</div>"
      ],
      "text/plain": [
       "   Disease  TestResult  Probability\n",
       "0        0           0        0.676\n",
       "1        0           1        0.076\n",
       "2        1           0        0.023\n",
       "3        1           1        0.225"
      ]
     },
     "execution_count": 29,
     "metadata": {},
     "output_type": "execute_result"
    }
   ],
   "source": [
    "# Conditional probabilities of TestResult given disease: P(Disease and TestResult)\n",
    "cpd_df_analysis(df, a = 'Disease', b = 'TestResult')"
   ]
  },
  {
   "cell_type": "markdown",
   "id": "3c2ca0d6",
   "metadata": {},
   "source": [
    "## Run Bayesian network"
   ]
  },
  {
   "cell_type": "code",
   "execution_count": 30,
   "id": "cad7a603",
   "metadata": {
    "ExecuteTime": {
     "end_time": "2023-12-03T02:20:25.818345Z",
     "start_time": "2023-12-03T02:20:21.028076Z"
    }
   },
   "outputs": [],
   "source": [
    "result = run_bayesian_network(df)"
   ]
  },
  {
   "cell_type": "code",
   "execution_count": 31,
   "id": "2f28f428",
   "metadata": {
    "ExecuteTime": {
     "end_time": "2023-12-03T02:20:25.834349Z",
     "start_time": "2023-12-03T02:20:25.820350Z"
    }
   },
   "outputs": [
    {
     "name": "stdout",
     "output_type": "stream",
     "text": [
      "+------------+----------------+\n",
      "| Disease    |   phi(Disease) |\n",
      "+============+================+\n",
      "| Disease(0) |         0.1947 |\n",
      "+------------+----------------+\n",
      "| Disease(1) |         0.8053 |\n",
      "+------------+----------------+\n"
     ]
    }
   ],
   "source": [
    "print(result)"
   ]
  },
  {
   "cell_type": "markdown",
   "id": "7d97709e",
   "metadata": {},
   "source": [
    "## Solving the problem using Bayesian network"
   ]
  },
  {
   "cell_type": "markdown",
   "id": "3f1d40f3",
   "metadata": {},
   "source": [
    "1. **Bayesian Network Definition:**\n",
    "   - `BayesianNetwork`: This is a class from the `pgmpy` library that allows for the creation of Bayesian Networks. A Bayesian Network is a probabilistic graphical model that represents a set of variables and their conditional dependencies via a directed acyclic graph (DAG).\n",
    "   - The network is defined with nodes and edges: For example, `('RiskFactor', 'Disease')` implies that 'Disease' is conditionally dependent on 'RiskFactor'.\n",
    "\n",
    "2. **Learning Conditional Probability Distributions (CPDs):**\n",
    "   - `model.fit(df, estimator=MaximumLikelihoodEstimator)`: This line is responsible for learning the CPDs from the provided data `df` using a Maximum Likelihood Estimator. CPDs specify the probability of each variable given its parent variables in the network.\n",
    "\n",
    "3. **Performing Inference:**\n",
    "   - `VariableElimination(model)`: This is an inference algorithm used in Bayesian Networks. Variable elimination is a technique for computing the marginal distribution of a subset of variables by summing out the other variables.\n",
    "\n",
    "4. **Querying the Network:**\n",
    "   - The `inference.query()` function computes the probability distribution of the variable 'Disease' given the evidence provided (the states of 'Symptom1', 'Symptom2', 'Symptom3', and 'Symptom4')."
   ]
  },
  {
   "cell_type": "code",
   "execution_count": 32,
   "id": "624df73b",
   "metadata": {
    "ExecuteTime": {
     "end_time": "2023-12-03T02:20:29.807083Z",
     "start_time": "2023-12-03T02:20:25.836345Z"
    }
   },
   "outputs": [
    {
     "data": {
      "application/vnd.jupyter.widget-view+json": {
       "model_id": "277ef2fb4b9a41498617b5a8e7cc69bd",
       "version_major": 2,
       "version_minor": 0
      },
      "text/plain": [
       "  0%|          | 0/1000000 [00:00<?, ?it/s]"
      ]
     },
     "metadata": {},
     "output_type": "display_data"
    },
    {
     "name": "stdout",
     "output_type": "stream",
     "text": [
      "BayesianNetwork with 6 nodes and 5 edges\n",
      "CPD of Disease:\n",
      "+------------+---------------------+-------------------+\n",
      "| Symptom1   | Symptom1(0)         | Symptom1(1)       |\n",
      "+------------+---------------------+-------------------+\n",
      "| Disease(0) | 0.8973619126133553  | 0.527603513174404 |\n",
      "+------------+---------------------+-------------------+\n",
      "| Disease(1) | 0.10263808738664468 | 0.472396486825596 |\n",
      "+------------+---------------------+-------------------+\n",
      "CPD of RiskFactor:\n",
      "+---------------+--------------------+---------------------+\n",
      "| Disease       | Disease(0)         | Disease(1)          |\n",
      "+---------------+--------------------+---------------------+\n",
      "| RiskFactor(0) | 0.3184227965540093 | 0.6516966067864272  |\n",
      "+---------------+--------------------+---------------------+\n",
      "| RiskFactor(1) | 0.6815772034459907 | 0.34830339321357284 |\n",
      "+---------------+--------------------+---------------------+\n",
      "CPD of Symptom3:\n",
      "+-------------+--------------------+---------------------+\n",
      "| Disease     | Disease(0)         | Disease(1)          |\n",
      "+-------------+--------------------+---------------------+\n",
      "| Symptom3(0) | 0.6696487740225314 | 0.34830339321357284 |\n",
      "+-------------+--------------------+---------------------+\n",
      "| Symptom3(1) | 0.3303512259774685 | 0.6516966067864272  |\n",
      "+-------------+--------------------+---------------------+\n",
      "CPD of Symptom4:\n",
      "+-------------+---------------------+---------------------+\n",
      "| Disease     | Disease(0)          | Disease(1)          |\n",
      "+-------------+---------------------+---------------------+\n",
      "| Symptom4(0) | 0.6338634857521538  | 0.39221556886227543 |\n",
      "+-------------+---------------------+---------------------+\n",
      "| Symptom4(1) | 0.36613651424784627 | 0.6077844311377245  |\n",
      "+-------------+---------------------+---------------------+\n",
      "CPD of Symptom2:\n",
      "+-------------+---------------------+--------------------+\n",
      "| Disease     | Disease(0)          | Disease(1)         |\n",
      "+-------------+---------------------+--------------------+\n",
      "| Symptom2(0) | 0.6113320079522863  | 0.4560878243512974 |\n",
      "+-------------+---------------------+--------------------+\n",
      "| Symptom2(1) | 0.38866799204771374 | 0.5439121756487026 |\n",
      "+-------------+---------------------+--------------------+\n",
      "CPD of Symptom1:\n",
      "+-------------+----------+\n",
      "| Symptom1(0) | 0.603483 |\n",
      "+-------------+----------+\n",
      "| Symptom1(1) | 0.396517 |\n",
      "+-------------+----------+\n",
      "\n",
      "Edges in the model:\n",
      "[('Disease', 'RiskFactor'), ('Disease', 'Symptom3'), ('Disease', 'Symptom4'), ('Disease', 'Symptom2'), ('Symptom1', 'Disease')]\n"
     ]
    }
   ],
   "source": [
    "model = solve_bn_model(df)"
   ]
  },
  {
   "cell_type": "code",
   "execution_count": 33,
   "id": "2e68a9e0",
   "metadata": {
    "ExecuteTime": {
     "end_time": "2023-12-03T02:20:29.917078Z",
     "start_time": "2023-12-03T02:20:29.809080Z"
    }
   },
   "outputs": [
    {
     "data": {
      "image/png": "[encoded data removed]",
      "text/plain": [
       "<Figure size 640x480 with 1 Axes>"
      ]
     },
     "metadata": {},
     "output_type": "display_data"
    }
   ],
   "source": [
    "print_graph_bn_solved(model)"
   ]
  },
  {
   "cell_type": "markdown",
   "id": "aa9c4d5c",
   "metadata": {},
   "source": [
    "## Solving using quantum machine learning"
   ]
  },
  {
   "cell_type": "code",
   "execution_count": 34,
   "id": "8f2ef672",
   "metadata": {
    "ExecuteTime": {
     "end_time": "2023-12-03T02:20:38.551442Z",
     "start_time": "2023-12-03T02:20:29.918079Z"
    }
   },
   "outputs": [
    {
     "name": "stdout",
     "output_type": "stream",
     "text": [
      "The accuracy of the Random PQC classifier is 0.51\n",
      "The precision score of the Random PQC classifier is 0.26\n",
      "The recall score of the Random PQC classifier is 0.51\n",
      "The specificity score of the Random PQC classifier is 0.51\n",
      "The npv score of the Random PQC classifier is 0.76\n",
      "The information level is: 0.51\n"
     ]
    }
   ],
   "source": [
    "solving_bn_qml(df)"
   ]
  },
  {
   "cell_type": "markdown",
   "id": "3aaeb915",
   "metadata": {},
   "source": [
    "# Conclusion"
   ]
  },
  {
   "cell_type": "markdown",
   "id": "225728e6",
   "metadata": {},
   "source": [
    "In this article, I provided a brief yet thorough introduction to Bayesian networks, complete with worked examples. I built a synthetic dataframe specifically for health analytics and tackled it using a Bayesian network, utilizing the pgmpy library for Bayesian computations and the qiskit library for delving into quantum computations. An example of a simple Hadamard gate, illustrating two superposed states similar to a coin toss, was also explored.\n",
    "\n",
    "The key takeaway is that while quantum computation is fascinating, its practical applications in simple problems aren't currently outperforming traditional algorithms, which are simpler and faster. However, this doesn't diminish the potential of quantum computing. There's significant room for growth and application in more complex problems where its unique capabilities could truly shine. This exploration into quantum computation highlights its promise and the exciting possibilities it holds for the future of complex problem-solving."
   ]
  },
  {
   "cell_type": "markdown",
   "id": "2a53ad46",
   "metadata": {},
   "source": [
    "# Reference\n",
    "\n",
    "**Formal and technical references**\n",
    "* https://arxiv.org/abs/1404.0055\n",
    "* https://arxiv.org/abs/1803.10520\n",
    "* https://arxiv.org/abs/1611.08104\n",
    "* https://arxiv.org/abs/2107.09599\n",
    "* https://arxiv.org/abs/2203.02400\n",
    "* https://hal.science/hal-04154072v1/file/An_optimized_Quantum_circuit_representation_of_Bayesian_networks.pdf\n",
    "* https://epjquantumtechnology.springeropen.com/articles/10.1140/epjqt/s40507-023-00171-4\n",
    "* https://www.sciencedirect.com/science/article/abs/pii/S0957417421002098\n",
    "* https://pgmpy.org/models/bayesiannetwork.html\n",
    "* [Practical Guidelines for Learning Bayesian Networks from Small Data Sets](https://www.scirp.org/journal/paperinformation.aspx?paperid=64073&utm_campaign=17209361273&utm_source=lixiaofang&utm_medium=adwords&utm_term=&utm_content=)\n",
    "* [Hands-On Quantum Machine Learning With Python - Volume 1](https://www.pyqml.com/volume1?provider=medium&origin=createqbn)\n",
    "\n",
    "**Informal references**\n",
    "* https://www.researchgate.net/publication/372980693_Super_Simple_Quantum_Bayesian_Networks_Part_2\n",
    "* https://towardsdatascience.com/create-a-quantum-bayesian-network-d26d7c5c4217\n",
    "* https://medium.com/rejuve-io/crowdsourcing-science-with-bayes-expert-3c1be0f84e33\n",
    "* https://towardsdatascience.com/how-to-create-a-quantum-bayesian-network-5b011914b03e\n",
    "* https://towardsdatascience.com/create-a-quantum-bayesian-network-d26d7c5c4217\n",
    "* https://en.wikipedia.org/wiki/Quantum_logic_gate\n",
    "* https://en.wikipedia.org/wiki/Quantum_machine_learning#Hidden_Quantum_Markov_Models\n",
    "\n",
    "**Other media type references**\n",
    "* https://ocw.mit.edu/courses/18-435j-quantum-computation-fall-2003/pages/lecture-notes/"
   ]
  }
 ],
 "metadata": {
  "hide_input": false,
  "kernelspec": {
   "display_name": "Python 3 (ipykernel)",
   "language": "python",
   "name": "python3"
  },
  "language_info": {
   "codemirror_mode": {
    "name": "ipython",
    "version": 3
   },
   "file_extension": ".py",
   "mimetype": "text/x-python",
   "name": "python",
   "nbconvert_exporter": "python",
   "pygments_lexer": "ipython3",
   "version": "3.9.13"
  },
  "toc": {
   "base_numbering": 1,
   "nav_menu": {},
   "number_sections": true,
   "sideBar": true,
   "skip_h1_title": false,
   "title_cell": "Table of Contents",
   "title_sidebar": "Contents",
   "toc_cell": false,
   "toc_position": {
    "height": "calc(100% - 180px)",
    "left": "10px",
    "top": "150px",
    "width": "307.2px"
   },
   "toc_section_display": true,
   "toc_window_display": true
  }
 },
 "nbformat": 4,
 "nbformat_minor": 5
}
