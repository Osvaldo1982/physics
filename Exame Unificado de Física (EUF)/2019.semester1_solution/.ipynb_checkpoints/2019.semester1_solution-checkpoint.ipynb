{
 "cells": [
  {
   "cell_type": "code",
   "execution_count": 11,
   "metadata": {
    "ExecuteTime": {
     "end_time": "2020-04-22T13:41:38.437718Z",
     "start_time": "2020-04-22T13:41:38.412928Z"
    }
   },
   "outputs": [],
   "source": [
    "import numpy as np\n",
    "import scipy as sp\n",
    "import pandas as pd\n",
    "import sympy as sym\n",
    "\n",
    "sym.init_printing()"
   ]
  },
  {
   "cell_type": "markdown",
   "metadata": {},
   "source": [
    "# Question 01"
   ]
  },
  {
   "cell_type": "markdown",
   "metadata": {},
   "source": [
    "![](Q-01.png)"
   ]
  },
  {
   "cell_type": "markdown",
   "metadata": {
    "solution": "hidden"
   },
   "source": [
    "## item (a)"
   ]
  },
  {
   "cell_type": "markdown",
   "metadata": {},
   "source": [
    "From the conservation of linear momentum \n",
    "\n",
    "\\begin{equation}\n",
    "m_2 (-v_0) = m_1 v_1 + m_2 v_2 \\ \\to \\ v_2 = - v_0 - 2 v_1,\n",
    "\\end{equation}\n",
    "\\\n",
    "by energy conservation\n",
    "\n",
    "\\begin{equation}\n",
    "\\frac{1}{2} m_2 (-v_0)^2 = \\frac{1}{2} m_1 v_1^2 + \\frac{1}{2} m_2 v_2^2\n",
    "\\ \\to \\ v_0^2 = 2v_1^2 + v_2^2\n",
    "\\end{equation}\n",
    "\n",
    "Inserting equation (1) in (2),\n",
    "\n",
    "\\begin{equation}\n",
    "v_o^2 = 2 v_1^2 + (v_0 + 2 v_1)^2.\n",
    "\\end{equation}\n",
    "\n",
    "Now lets use the power of Python to solve equation (3) for $v_1$"
   ]
  },
  {
   "cell_type": "code",
   "execution_count": 12,
   "metadata": {
    "ExecuteTime": {
     "end_time": "2020-04-22T13:41:50.307927Z",
     "start_time": "2020-04-22T13:41:48.978275Z"
    },
    "scrolled": true
   },
   "outputs": [
    {
     "data": {
      "image/png": "[encoded data removed]",
      "text/latex": [
       "$\\displaystyle v_{0}^{2} - 2 v_{1}^{2} - \\left(v_{0} + 2 v_{1}\\right)^{2}$"
      ],
      "text/plain": [
       "  2       2              2\n",
       "v₀  - 2⋅v₁  - (v₀ + 2⋅v₁) "
      ]
     },
     "execution_count": 12,
     "metadata": {},
     "output_type": "execute_result"
    }
   ],
   "source": [
    "v0, v1 = sym.symbols('v_0, v_1')\n",
    "\n",
    "expr = v0**2 - 2 * v1**2 - (v0 + 2 * v1)**2\n",
    "\n",
    "expr"
   ]
  },
  {
   "cell_type": "code",
   "execution_count": 13,
   "metadata": {
    "ExecuteTime": {
     "end_time": "2020-04-22T13:41:53.142151Z",
     "start_time": "2020-04-22T13:41:52.277005Z"
    }
   },
   "outputs": [
    {
     "data": {
      "image/png": "[encoded data removed]",
      "text/latex": [
       "$\\displaystyle \\left[ 0, \\  - \\frac{2 v_{0}}{3}\\right]$"
      ],
      "text/plain": [
       "⎡   -2⋅v₀ ⎤\n",
       "⎢0, ──────⎥\n",
       "⎣     3   ⎦"
      ]
     },
     "execution_count": 13,
     "metadata": {},
     "output_type": "execute_result"
    }
   ],
   "source": [
    "sym.solve(expr,v1)"
   ]
  },
  {
   "cell_type": "markdown",
   "metadata": {},
   "source": [
    "Solving equation equation (3) for $v_1$ we found two solutions $v_1 = 0$ or $v_1 = - \\frac{2}{3} v_0$. For the first situation where $v_1 = 0$ this means that $v_2 = \\pm v_0$ which means that $m_2$ does not colide with $m_1$. For the second situation where $v_1 = - \\frac{2}{3} v_0$ it implies that $v_2 = \\frac{1}{3} v_0$. So considering the versor in the $x$ direction $\\mathbf{e}_{x}$ the two velocities as vectors are given by the following expressions\n",
    "\n",
    "\\begin{equation}\n",
    "v_1 = - \\frac{2}{3} \\mathbf{e}_{x} \\ \\ , \\ \\  v_2 = \\frac{1}{3} \\mathbf{e}_{x}\n",
    "\\end{equation}"
   ]
  },
  {
   "cell_type": "markdown",
   "metadata": {
    "ExecuteTime": {
     "end_time": "2020-04-22T15:22:45.997571Z",
     "start_time": "2020-04-22T15:22:45.994564Z"
    }
   },
   "source": [
    "## Item (b)"
   ]
  },
  {
   "cell_type": "markdown",
   "metadata": {},
   "source": [
    "\n",
    "From conserving the energy\n",
    "\n",
    "\\begin{equation}\n",
    "\\frac{1}{2}k x_m^2 =  \\frac{1}{2} m_1 v_1^2 \n",
    "\\end{equation}\n",
    "\n",
    "and solving for $x_m$ we found that"
   ]
  },
  {
   "cell_type": "code",
   "execution_count": 24,
   "metadata": {
    "ExecuteTime": {
     "end_time": "2020-04-22T15:34:32.181030Z",
     "start_time": "2020-04-22T15:34:31.359992Z"
    }
   },
   "outputs": [
    {
     "data": {
      "image/png": "[encoded data removed]",
      "text/latex": [
       "$\\displaystyle \\left[ - \\frac{2 v_{0} \\sqrt{\\frac{m_{1}}{k}}}{3}, \\  \\frac{2 v_{0} \\sqrt{\\frac{m_{1}}{k}}}{3}\\right]$"
      ],
      "text/plain": [
       "⎡          ____            ____⎤\n",
       "⎢         ╱ m₁            ╱ m₁ ⎥\n",
       "⎢-2⋅v₀⋅  ╱  ──    2⋅v₀⋅  ╱  ── ⎥\n",
       "⎢      ╲╱   k          ╲╱   k  ⎥\n",
       "⎢───────────────, ─────────────⎥\n",
       "⎣       3               3      ⎦"
      ]
     },
     "execution_count": 24,
     "metadata": {},
     "output_type": "execute_result"
    }
   ],
   "source": [
    "m1, m2, k, xm = sym.symbols('m_1, m_2, k, x_m')\n",
    "\n",
    "v1 = - 2*v0/3\n",
    "\n",
    "expr2 = k * xm**2/2 - m1 * v1**2/2\n",
    "\n",
    "sym.solve(expr2,xm)"
   ]
  },
  {
   "cell_type": "markdown",
   "metadata": {},
   "source": [
    "## Item (c)"
   ]
  },
  {
   "cell_type": "markdown",
   "metadata": {},
   "source": [
    "From the [Work–energy principle](https://en.wikipedia.org/wiki/Work_(physics)#Work%E2%80%93energy_principle) which states that the work done by all forces acting on a particle (the work of the resultant force) equals the change in the kinetic energy of the particle.That is, the work $W$ done by the resultant force on a particle equals the change in the particle's kinetic energy $K$.\n",
    "\n",
    "\\begin{equation}\n",
    "W_{\\text{total}} = \\Delta K = K_{\\text{final}} - K_{\\text{initial}}\n",
    "\\end{equation}\n",
    "\n",
    "The only forces acting on block 2 are weight and friction and the initial kinectic energy is null so\n",
    "\n",
    "\\begin{equation}\n",
    "W_{\\text{weight}} + W_{\\text{friction}} = \\Delta K = 0 - \\frac{1}{2} m_2 v_2^2\n",
    "\\end{equation}\n",
    "\n",
    "We know $v_2$ as from previous results and substituting the work from the weight and the friction on block 2\n",
    "\n",
    "\\begin{equation}\n",
    "- m_2 g d + \\mu m_2 g \\cos(\\theta) \\Delta x = \\Delta K = 0 - \\frac{1}{2} m_2 v_2^2\n",
    "\\end{equation}"
   ]
  },
  {
   "cell_type": "code",
   "execution_count": 44,
   "metadata": {
    "ExecuteTime": {
     "end_time": "2020-04-22T15:44:18.725415Z",
     "start_time": "2020-04-22T15:44:17.961814Z"
    }
   },
   "outputs": [
    {
     "data": {
      "image/png": "[encoded data removed]",
      "text/latex": [
       "$\\displaystyle - \\frac{\\mu g h m_{2} \\cos{\\left(\\theta \\right)}}{\\sin{\\left(\\theta \\right)}} - g h m_{2} + \\frac{m_{2} v_{0}^{2}}{18}$"
      ],
      "text/plain": [
       "                                         2\n",
       "  \\mu⋅g⋅h⋅m₂⋅cos(\\theta)            m₂⋅v₀ \n",
       "- ────────────────────── - g⋅h⋅m₂ + ──────\n",
       "       sin(\\theta)                    18  "
      ]
     },
     "execution_count": 44,
     "metadata": {},
     "output_type": "execute_result"
    }
   ],
   "source": [
    "g, mu, theta, h, m = sym.symbols('g, \\mu, \\\\theta, h, m')\n",
    "\n",
    "v2 = v0/3 \n",
    "\n",
    "dx = h/sym.sin(theta)\n",
    "\n",
    "expr3 = - m2 * g * h - mu * m2 * g * dx * sym.cos(theta) + m2 * v2**2/2\n",
    "\n",
    "expr3"
   ]
  },
  {
   "cell_type": "code",
   "execution_count": 45,
   "metadata": {
    "ExecuteTime": {
     "end_time": "2020-04-22T15:44:21.964875Z",
     "start_time": "2020-04-22T15:44:21.005381Z"
    }
   },
   "outputs": [
    {
     "data": {
      "image/png": "[encoded data removed]",
      "text/latex": [
       "$\\displaystyle \\left[ - \\frac{\\left(18 g h - v_{0}^{2}\\right) \\tan{\\left(\\theta \\right)}}{18 g h}\\right]$"
      ],
      "text/plain": [
       "⎡ ⎛           2⎞             ⎤\n",
       "⎢-⎝18⋅g⋅h - v₀ ⎠⋅tan(\\theta) ⎥\n",
       "⎢────────────────────────────⎥\n",
       "⎣           18⋅g⋅h           ⎦"
      ]
     },
     "execution_count": 45,
     "metadata": {},
     "output_type": "execute_result"
    }
   ],
   "source": [
    "solution = sym.solve(expr3,mu)\n",
    "\n",
    "sym.factor(solution)"
   ]
  },
  {
   "cell_type": "code",
   "execution_count": null,
   "metadata": {},
   "outputs": [],
   "source": []
  }
 ],
 "metadata": {
  "hide_input": false,
  "kernelspec": {
   "display_name": "Python 3",
   "language": "python",
   "name": "python3"
  },
  "language_info": {
   "codemirror_mode": {
    "name": "ipython",
    "version": 3
   },
   "file_extension": ".py",
   "mimetype": "text/x-python",
   "name": "python",
   "nbconvert_exporter": "python",
   "pygments_lexer": "ipython3",
   "version": "3.7.3"
  },
  "latex_envs": {
   "LaTeX_envs_menu_present": true,
   "autoclose": false,
   "autocomplete": true,
   "bibliofile": "biblio.bib",
   "cite_by": "apalike",
   "current_citInitial": 1,
   "eqLabelWithNumbers": true,
   "eqNumInitial": 1,
   "hotkeys": {
    "equation": "Ctrl-E",
    "itemize": "Ctrl-I"
   },
   "labels_anchors": false,
   "latex_user_defs": false,
   "report_style_numbering": false,
   "user_envs_cfg": false
  },
  "toc": {
   "base_numbering": 1,
   "nav_menu": {},
   "number_sections": true,
   "sideBar": true,
   "skip_h1_title": false,
   "title_cell": "Table of Contents",
   "title_sidebar": "Contents",
   "toc_cell": false,
   "toc_position": {},
   "toc_section_display": true,
   "toc_window_display": false
  }
 },
 "nbformat": 4,
 "nbformat_minor": 4
}
