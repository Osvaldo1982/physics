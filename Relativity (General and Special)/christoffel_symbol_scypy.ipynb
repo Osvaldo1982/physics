{
 "cells": [
  {
   "cell_type": "markdown",
   "id": "9a9ccb96",
   "metadata": {},
   "source": [
    "* https://profoundphysics.com/christoffel-symbols-a-complete-guide-with-examples/\n",
    "* https://mathworld.wolfram.com/ChristoffelSymboloftheFirstKind.html\n",
    "* https://ned.ipac.caltech.edu/level5/March01/Carroll3/Carroll8.html\n",
    "* https://docs.einsteinpy.org/en/stable/_modules/einsteinpy/symbolic/christoffel.html#ChristoffelSymbols\n",
    "* https://docs.sympy.org/latest/modules/matrices/expressions.html\n",
    "* https://physics.stackexchange.com/questions/513914/geodesic-equations-of-the-frw-metric-christoffel-symbols\n",
    "* https://en.wikipedia.org/wiki/Christoffel_symbols"
   ]
  },
  {
   "cell_type": "code",
   "execution_count": 1,
   "id": "8e628120",
   "metadata": {
    "ExecuteTime": {
     "end_time": "2023-03-18T16:01:46.394187Z",
     "start_time": "2023-03-18T16:01:45.683403Z"
    }
   },
   "outputs": [],
   "source": [
    "import sympy as sy\n",
    "import numpy as np\n",
    "import pandas as pd\n",
    "\n",
    "sy.init_printing()"
   ]
  },
  {
   "cell_type": "code",
   "execution_count": 18,
   "id": "88f58203",
   "metadata": {
    "ExecuteTime": {
     "end_time": "2023-03-18T20:05:34.955501Z",
     "start_time": "2023-03-18T20:05:34.865911Z"
    }
   },
   "outputs": [],
   "source": [
    "t, x, y, z, k, theta, r, alpha, x0, x1, x2, x3 = sy.symbols('t x y z k theta r alpha x_0 x_1 x_2 x_3')\n",
    "f = sy.Function('f')(x0, x1, x2, x3)\n",
    "g = sy.Function('g')(x0, x1, x2, x3)\n",
    "a = sy.Function('a')(x0, x1, x2, x3)\n",
    "b = sy.Function('b')(x0, x1, x2, x3)\n",
    "g = sy.diag(-(a**2 - b**2), 1, 1, 1)\n",
    "g = sy.diag(-1, a**2 / (1 - k*x1**2), a**2*x1**2, a**2*x1**2*sy.sin(x3)**2)\n",
    "g_inv = g.inv()"
   ]
  },
  {
   "cell_type": "code",
   "execution_count": 12,
   "id": "68db4fb6",
   "metadata": {
    "ExecuteTime": {
     "end_time": "2023-03-18T20:03:50.535773Z",
     "start_time": "2023-03-18T20:03:50.521772Z"
    }
   },
   "outputs": [],
   "source": [
    "v = [x0, x1, x2, x3]\n",
    "# Define the Christoffel symbols\n",
    "Gamma = np.empty((4,4,4), dtype=object)\n",
    "for i in range(4):\n",
    "    for j in range(4):\n",
    "        for k in range(4):\n",
    "            Gamma[k,i,j] = 0.5*(sy.diff(g[k,i], v[j]) + sy.diff(g[k,j], v[i]) - sy.diff(g[i,j], v[k]))\n",
    "\n",
    "# Gamma2 = np.empty((4,4,4), dtype=object)\n",
    "# for i in range(4):\n",
    "#     for j in range(4):\n",
    "#         for k in range(4):\n",
    "#             for n in range(4):\n",
    "#                 Gamma2[k,i,j] += g[k,n] * Gamma[n,i,j]  "
   ]
  },
  {
   "cell_type": "markdown",
   "id": "f3e50fc8",
   "metadata": {},
   "source": [
    "$\\Gamma _{cab} = \\frac {1}{2}\\,\\left(g_{ca,b}+g_{cb,a}-g_{ab,c}\\right)\\,.$\n",
    "\n",
    "$\\Gamma ^{a}_{bc} = \\frac{1}{2}g^{am}\\left(g_{mb,c}+g_{mc,b}-g_{bc,m}\\right) = \\frac{1}{2}g^{am} \\Gamma _{mbc}$"
   ]
  },
  {
   "cell_type": "code",
   "execution_count": 69,
   "id": "1e12663f",
   "metadata": {
    "ExecuteTime": {
     "end_time": "2023-03-18T20:46:59.374811Z",
     "start_time": "2023-03-18T20:46:59.350250Z"
    }
   },
   "outputs": [],
   "source": [
    "v = [x0, x1, x2, x3]\n",
    "# Define the Christoffel symbols of the first kind\n",
    "Gamma_1 = np.empty((4,4,4), dtype=object)\n",
    "for i in range(4):\n",
    "    for j in range(4):\n",
    "        for k in range(4):\n",
    "                Gamma_1[k,i,j] = (sy.diff(g[k,i], v[j]) + sy.diff(g[k,j], v[i]) - sy.diff(g[i,j], v[k]))/2\n",
    "# Define the Christoffel symbols of the first kind\n",
    "Gamma_2 = np.empty((4,4,4), dtype=object)\n",
    "temp_2 = np.empty((4,4,4), dtype=object)\n",
    "for i in range(4):\n",
    "    for j in range(4):\n",
    "        for k in range(4):\n",
    "            temp_2[i,j,k] = 0\n",
    "            for l in range(4):\n",
    "                temp_2[i,j,k] += g_inv[l,k] * Gamma_1[i,j,l]\n",
    "                Gamma_2[i,j,k] = Gamma_2[i,j,k] = temp_2[i,j,k]"
   ]
  },
  {
   "cell_type": "code",
   "execution_count": 70,
   "id": "40e3a1c8",
   "metadata": {
    "ExecuteTime": {
     "end_time": "2023-03-18T20:47:02.663561Z",
     "start_time": "2023-03-18T20:47:01.774028Z"
    }
   },
   "outputs": [
    {
     "data": {
      "image/png": "[encoded data removed]",
      "text/latex": [
       "$\\displaystyle - \\frac{\\frac{\\partial}{\\partial x_{0}} a{\\left(x_{0},x_{1},x_{2},x_{3} \\right)}}{a{\\left(x_{0},x_{1},x_{2},x_{3} \\right)}}$"
      ],
      "text/plain": [
       "  ∂                     \n",
       "-───(a(x₀, x₁, x₂, x₃)) \n",
       " ∂x₀                    \n",
       "────────────────────────\n",
       "   a(x₀, x₁, x₂, x₃)    "
      ]
     },
     "execution_count": 70,
     "metadata": {},
     "output_type": "execute_result"
    }
   ],
   "source": [
    "Gamma_2[0,1,1]"
   ]
  },
  {
   "cell_type": "code",
   "execution_count": 80,
   "id": "ddf71768",
   "metadata": {
    "ExecuteTime": {
     "end_time": "2023-03-18T21:01:12.399553Z",
     "start_time": "2023-03-18T21:01:12.360387Z"
    }
   },
   "outputs": [],
   "source": [
    "# Define the Christoffel symbols of the first kind\n",
    "Gamma = np.empty((4,4,4), dtype=object)\n",
    "for i in range(4):\n",
    "    for j in range(4):\n",
    "        for k in range(4):\n",
    "            Gamma[i,j,k] = (1/2)*(sy.diff(g[j,i], v[k]) + \n",
    "                                    sy.diff(g[k,i], v[j]) - \n",
    "                                    sy.diff(g[j,k], v[i]))\n",
    "Gamma_up = np.empty((4,4,4), dtype=object)\n",
    "for i in range(4):\n",
    "    for j in range(4):\n",
    "        for k in range(4):\n",
    "            Gamma_up[i,j,k] = sum([g_inv[i, l]*Gamma[l,j,k] for l in range(4)])"
   ]
  },
  {
   "cell_type": "code",
   "execution_count": 83,
   "id": "d63f8312",
   "metadata": {
    "ExecuteTime": {
     "end_time": "2023-03-19T00:44:37.528316Z",
     "start_time": "2023-03-19T00:44:36.606144Z"
    }
   },
   "outputs": [
    {
     "data": {
      "image/png": "[encoded data removed]",
      "text/latex": [
       "$\\displaystyle 1.0 x_{1}^{2} a{\\left(x_{0},x_{1},x_{2},x_{3} \\right)} \\frac{\\partial}{\\partial x_{0}} a{\\left(x_{0},x_{1},x_{2},x_{3} \\right)}$"
      ],
      "text/plain": [
       "      2                    ∂                    \n",
       "1.0⋅x₁ ⋅a(x₀, x₁, x₂, x₃)⋅───(a(x₀, x₁, x₂, x₃))\n",
       "                          ∂x₀                   "
      ]
     },
     "execution_count": 83,
     "metadata": {},
     "output_type": "execute_result"
    }
   ],
   "source": [
    "Gamma_up[0,2,2]"
   ]
  },
  {
   "cell_type": "code",
   "execution_count": null,
   "id": "7d15eb99",
   "metadata": {},
   "outputs": [],
   "source": []
  }
 ],
 "metadata": {
  "hide_input": false,
  "kernelspec": {
   "display_name": "Python 3 (ipykernel)",
   "language": "python",
   "name": "python3"
  },
  "language_info": {
   "codemirror_mode": {
    "name": "ipython",
    "version": 3
   },
   "file_extension": ".py",
   "mimetype": "text/x-python",
   "name": "python",
   "nbconvert_exporter": "python",
   "pygments_lexer": "ipython3",
   "version": "3.9.13"
  },
  "toc": {
   "base_numbering": 1,
   "nav_menu": {},
   "number_sections": true,
   "sideBar": true,
   "skip_h1_title": false,
   "title_cell": "Table of Contents",
   "title_sidebar": "Contents",
   "toc_cell": false,
   "toc_position": {},
   "toc_section_display": true,
   "toc_window_display": false
  }
 },
 "nbformat": 4,
 "nbformat_minor": 5
}
