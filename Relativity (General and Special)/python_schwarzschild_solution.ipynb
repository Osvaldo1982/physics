{
 "cells": [
  {
   "cell_type": "markdown",
   "metadata": {},
   "source": [
    "# Introduction\n",
    "\n",
    "Disclaimer: The code for this notebook is mainly based on [Krastanov blog post on Schwarzschild solution.](https://krastanov.wordpress.com/2012/07/22/the-schwarzschild-solution/) A special thanks for his amazing blog.\n",
    "\n",
    "A simple solution to the Einstein equation in free space is the spherically symmetric Schwarzschild solution. In this notebook we weill demonstrate how one can use the diffgeom module to solve Einstein equations for this metric. One starts with the most general spherically symmetrical metric and by using Einstein equation in vacuum $R_{\\mu \\nu} = 0$ deduces the equations that must be fulfilled by the components of the metric (in the chosen basis).\n",
    "\n",
    "## Online References\n",
    "\n",
    "* https://krastanov.wordpress.com/2012/07/22/the-schwarzschild-solution/\n",
    "* https://krastanov.files.wordpress.com/2012/07/schwarzschild.pdf\n",
    "* https://nbviewer.jupyter.org/github/sympy/sympy/tree/master/examples/notebooks/\n",
    "* https://docs.sympy.org/latest/modules/tensor/tensor.html\n",
    "* https://arxiv.org/pdf/1703.09738.pdf\n",
    "* https://docs.sympy.org/latest/modules/diffgeom.html\n",
    "* https://pypi.org/project/spacetimeengine/\n",
    "* https://blog.krastanov.org/tag/differential-geometry/\n",
    "* http://omz-software.com/pythonista/sympy/modules/diffgeom.html\n",
    "\n",
    "## Schwarzschild Solution Derivation\n",
    "\n",
    "* https://web.stanford.edu/~oas/SI/SRGR/notes/SchwarzschildSolution.pdf\n",
    "* https://www.coursera.org/lecture/general-relativity/schwarzschild-solution-USmSZ\n",
    "* http://www.physics.ucc.ie/apeer/PY4112/Sch.pdf\n",
    "\n",
    "## Differential Geometry\n",
    "* https://www.zweigmedia.com/pdfs/DiffGeom.pdf"
   ]
  },
  {
   "cell_type": "code",
   "execution_count": 12,
   "metadata": {
    "ExecuteTime": {
     "end_time": "2020-04-21T18:57:28.828199Z",
     "start_time": "2020-04-21T18:57:28.821755Z"
    }
   },
   "outputs": [],
   "source": [
    "import sympy as sym\n",
    "import numpy as np\n",
    "import math\n",
    "from einsteinpy.symbolic import MetricTensor, ChristoffelSymbols, RiemannCurvatureTensor\n",
    "\n",
    "sym.init_printing() "
   ]
  },
  {
   "cell_type": "code",
   "execution_count": 2,
   "metadata": {
    "ExecuteTime": {
     "end_time": "2020-04-21T18:52:07.776933Z",
     "start_time": "2020-04-21T18:52:07.754742Z"
    }
   },
   "outputs": [],
   "source": [
    "from sympy.diffgeom import *\n",
    "TP = TensorProduct"
   ]
  },
  {
   "cell_type": "code",
   "execution_count": 3,
   "metadata": {
    "ExecuteTime": {
     "end_time": "2020-04-21T18:54:40.139295Z",
     "start_time": "2020-04-21T18:54:40.128226Z"
    }
   },
   "outputs": [],
   "source": [
    "m = Manifold('Schwarzschild', 4)\n",
    "p = Patch('origin', m)\n",
    "cs = CoordSystem('spherical', p, ['t', 'r', 'theta', 'phi'])"
   ]
  },
  {
   "cell_type": "code",
   "execution_count": 4,
   "metadata": {
    "ExecuteTime": {
     "end_time": "2020-04-21T18:54:57.832598Z",
     "start_time": "2020-04-21T18:54:56.214432Z"
    }
   },
   "outputs": [
    {
     "data": {
      "image/png": "[encoded data removed]",
      "text/latex": [
       "$\\displaystyle \\left( \\text{Schwarzschild}, \\  \\text{origin}_{\\text{Schwarzschild}}, \\  \\text{spherical}^{\\text{origin}}_{\\text{Schwarzschild}}\\right)$"
      ],
      "text/plain": [
       "(Manifold(Schwarzschild, 4), Patch(origin, Manifold(Schwarzschild, 4)), CoordS\n",
       "ystem(spherical, Patch(origin, Manifold(Schwarzschild, 4)), (t, r, theta, phi)\n",
       "))"
      ]
     },
     "execution_count": 4,
     "metadata": {},
     "output_type": "execute_result"
    }
   ],
   "source": [
    "m, p, cs"
   ]
  },
  {
   "cell_type": "code",
   "execution_count": 5,
   "metadata": {
    "ExecuteTime": {
     "end_time": "2020-04-21T18:55:31.590060Z",
     "start_time": "2020-04-21T18:55:29.945170Z"
    }
   },
   "outputs": [
    {
     "data": {
      "image/png": "[encoded data removed]",
      "text/latex": [
       "$\\displaystyle \\left( \\mathbf{t}, \\  \\mathbf{r}, \\  \\mathbf{\\theta}, \\  \\mathbf{\\phi}\\right)$"
      ],
      "text/plain": [
       "(t, r, θ, φ)"
      ]
     },
     "execution_count": 5,
     "metadata": {},
     "output_type": "execute_result"
    }
   ],
   "source": [
    "t, r, theta, phi = cs.coord_functions()\n",
    "t, r, theta, phi"
   ]
  },
  {
   "cell_type": "code",
   "execution_count": 6,
   "metadata": {
    "ExecuteTime": {
     "end_time": "2020-04-21T18:55:41.108977Z",
     "start_time": "2020-04-21T18:55:39.521093Z"
    }
   },
   "outputs": [
    {
     "data": {
      "image/png": "[encoded data removed]",
      "text/latex": [
       "$\\displaystyle \\left( \\operatorname{d}t, \\  \\operatorname{d}r, \\  \\operatorname{d}\\theta, \\  \\operatorname{d}\\phi\\right)$"
      ],
      "text/plain": [
       "(ⅆ t, ⅆ r, ⅆ θ, ⅆ φ)"
      ]
     },
     "execution_count": 6,
     "metadata": {},
     "output_type": "execute_result"
    }
   ],
   "source": [
    "dt, dr, dtheta, dphi = cs.base_oneforms()\n",
    "dt, dr, dtheta, dphi"
   ]
  },
  {
   "cell_type": "code",
   "execution_count": 32,
   "metadata": {
    "ExecuteTime": {
     "end_time": "2020-04-21T19:21:14.593830Z",
     "start_time": "2020-04-21T19:21:12.803932Z"
    }
   },
   "outputs": [
    {
     "data": {
      "image/png": "[encoded data removed]",
      "text/latex": [
       "$\\displaystyle - \\mathbf{r}^{2} \\sin^{2}{\\left(\\mathbf{\\theta} \\right)} \\operatorname{d}\\phi \\otimes \\operatorname{d}\\phi - \\mathbf{r}^{2} \\operatorname{d}\\theta \\otimes \\operatorname{d}\\theta + e^{2 f{\\left(\\mathbf{r} \\right)}} \\operatorname{d}t \\otimes \\operatorname{d}t - e^{2 g{\\left(\\mathbf{r} \\right)}} \\operatorname{d}r \\otimes \\operatorname{d}r$"
      ],
      "text/plain": [
       "   2    2               2            2⋅f(r)            2⋅g(r)        \n",
       "- r ⋅sin (θ)⋅ⅆ φ⊗ⅆ φ - r ⋅ⅆ θ⊗ⅆ θ + ℯ      ⋅ⅆ t⊗ⅆ t - ℯ      ⋅ⅆ r⊗ⅆ r"
      ]
     },
     "execution_count": 32,
     "metadata": {},
     "output_type": "execute_result"
    }
   ],
   "source": [
    "from sympy import Function\n",
    "\n",
    "f = sym.Function('f')(r)\n",
    "g = sym.Function('g')(r)\n",
    "\n",
    "metric = sym.exp( 2 * f ) * TP(dt, dt) - sym.exp( 2 * g ) * TP(dr, dr) \\\n",
    "- r**2 * TP(dtheta, dtheta) - r**2 * sym.sin(theta)**2 * TP(dphi, dphi)\n",
    "\n",
    "metric"
   ]
  },
  {
   "cell_type": "code",
   "execution_count": 33,
   "metadata": {
    "ExecuteTime": {
     "end_time": "2020-04-21T19:23:55.562689Z",
     "start_time": "2020-04-21T19:23:53.058740Z"
    }
   },
   "outputs": [
    {
     "data": {
      "image/png": "[encoded data removed]",
      "text/latex": [
       "$\\displaystyle \\left[\\begin{matrix}e^{2 f{\\left(\\mathbf{r} \\right)}} & 0 & 0 & 0\\\\0 & - e^{2 g{\\left(\\mathbf{r} \\right)}} & 0 & 0\\\\0 & 0 & - \\mathbf{r}^{2} & 0\\\\0 & 0 & 0 & - \\mathbf{r}^{2} \\sin^{2}{\\left(\\mathbf{\\theta} \\right)}\\end{matrix}\\right]$"
      ],
      "text/plain": [
       "⎡ 2⋅f(r)                            ⎤\n",
       "⎢ℯ           0       0        0     ⎥\n",
       "⎢                                   ⎥\n",
       "⎢           2⋅g(r)                  ⎥\n",
       "⎢   0     -ℯ         0        0     ⎥\n",
       "⎢                                   ⎥\n",
       "⎢                     2             ⎥\n",
       "⎢   0        0      -r        0     ⎥\n",
       "⎢                                   ⎥\n",
       "⎢                          2    2   ⎥\n",
       "⎣   0        0       0   -r ⋅sin (θ)⎦"
      ]
     },
     "execution_count": 33,
     "metadata": {},
     "output_type": "execute_result"
    }
   ],
   "source": [
    "twoform_to_matrix(metric)"
   ]
  },
  {
   "cell_type": "code",
   "execution_count": 34,
   "metadata": {
    "ExecuteTime": {
     "end_time": "2020-04-21T19:25:02.368046Z",
     "start_time": "2020-04-21T19:24:59.044107Z"
    }
   },
   "outputs": [],
   "source": [
    "ricci = metric_to_Ricci_components(metric)"
   ]
  },
  {
   "cell_type": "code",
   "execution_count": 36,
   "metadata": {
    "ExecuteTime": {
     "end_time": "2020-04-21T19:26:04.563136Z",
     "start_time": "2020-04-21T19:26:02.845850Z"
    }
   },
   "outputs": [
    {
     "data": {
      "image/png": "[encoded data removed]",
      "text/latex": [
       "$\\displaystyle e^{2 f{\\left(\\mathbf{r} \\right)}} e^{- 2 g{\\left(\\mathbf{r} \\right)}} \\left. \\frac{d}{d \\xi} f{\\left(\\xi \\right)} \\right|_{\\substack{ \\xi=\\mathbf{r} }}^{2} - e^{2 f{\\left(\\mathbf{r} \\right)}} e^{- 2 g{\\left(\\mathbf{r} \\right)}} \\left. \\frac{d}{d \\xi} f{\\left(\\xi \\right)} \\right|_{\\substack{ \\xi=\\mathbf{r} }} \\left. \\frac{d}{d \\xi} g{\\left(\\xi \\right)} \\right|_{\\substack{ \\xi=\\mathbf{r} }} + e^{2 f{\\left(\\mathbf{r} \\right)}} e^{- 2 g{\\left(\\mathbf{r} \\right)}} \\left. \\frac{d^{2}}{d \\xi^{2}} f{\\left(\\xi \\right)} \\right|_{\\substack{ \\xi=\\mathbf{r} }} + \\frac{2 e^{2 f{\\left(\\mathbf{r} \\right)}} e^{- 2 g{\\left(\\mathbf{r} \\right)}} \\left. \\frac{d}{d \\xi} f{\\left(\\xi \\right)} \\right|_{\\substack{ \\xi=\\mathbf{r} }}}{\\mathbf{r}}$"
      ],
      "text/plain": [
       "                                                                              \n",
       "                               2                                              \n",
       " 2⋅f(r)  -2⋅g(r) ⎛d       ⎞│        2⋅f(r)  -2⋅g(r) ⎛d       ⎞│    ⎛d       ⎞│\n",
       "ℯ      ⋅ℯ       ⋅⎜──(f(ξ))⎟│     - ℯ      ⋅ℯ       ⋅⎜──(f(ξ))⎟│   ⋅⎜──(g(ξ))⎟│\n",
       "                 ⎝dξ      ⎠│ξ=r                     ⎝dξ      ⎠│ξ=r ⎝dξ      ⎠│\n",
       "                                                                              \n",
       "\n",
       "                                            2⋅f(r)  -2⋅g(r) ⎛d       ⎞│   \n",
       "                       ⎛  2      ⎞│      2⋅ℯ      ⋅ℯ       ⋅⎜──(f(ξ))⎟│   \n",
       "       2⋅f(r)  -2⋅g(r) ⎜ d       ⎟│                         ⎝dξ      ⎠│ξ=r\n",
       "    + ℯ      ⋅ℯ       ⋅⎜───(f(ξ))⎟│    + ─────────────────────────────────\n",
       "ξ=r                    ⎜  2      ⎟│                      r                \n",
       "                       ⎝dξ       ⎠│ξ=r                                    "
      ]
     },
     "execution_count": 36,
     "metadata": {},
     "output_type": "execute_result"
    }
   ],
   "source": [
    "ricci[0][0]"
   ]
  },
  {
   "cell_type": "code",
   "execution_count": 37,
   "metadata": {
    "ExecuteTime": {
     "end_time": "2020-04-21T19:26:40.292356Z",
     "start_time": "2020-04-21T19:26:38.682852Z"
    }
   },
   "outputs": [
    {
     "data": {
      "image/png": "[encoded data removed]",
      "text/latex": [
       "$\\displaystyle - \\left. \\frac{d}{d \\xi} f{\\left(\\xi \\right)} \\right|_{\\substack{ \\xi=\\mathbf{r} }}^{2} + \\left. \\frac{d}{d \\xi} f{\\left(\\xi \\right)} \\right|_{\\substack{ \\xi=\\mathbf{r} }} \\left. \\frac{d}{d \\xi} g{\\left(\\xi \\right)} \\right|_{\\substack{ \\xi=\\mathbf{r} }} - \\left. \\frac{d^{2}}{d \\xi^{2}} f{\\left(\\xi \\right)} \\right|_{\\substack{ \\xi=\\mathbf{r} }} + \\frac{2 \\left. \\frac{d}{d \\xi} g{\\left(\\xi \\right)} \\right|_{\\substack{ \\xi=\\mathbf{r} }}}{\\mathbf{r}}$"
      ],
      "text/plain": [
       "                                                                        ⎛d    \n",
       "                2                                   ⎛  2      ⎞│      2⋅⎜──(g(\n",
       "  ⎛d       ⎞│       ⎛d       ⎞│    ⎛d       ⎞│      ⎜ d       ⎟│        ⎝dξ   \n",
       "- ⎜──(f(ξ))⎟│     + ⎜──(f(ξ))⎟│   ⋅⎜──(g(ξ))⎟│    - ⎜───(f(ξ))⎟│    + ────────\n",
       "  ⎝dξ      ⎠│ξ=r    ⎝dξ      ⎠│ξ=r ⎝dξ      ⎠│ξ=r   ⎜  2      ⎟│             r\n",
       "                                                    ⎝dξ       ⎠│ξ=r           \n",
       "\n",
       "   ⎞│   \n",
       "ξ))⎟│   \n",
       "   ⎠│ξ=r\n",
       "────────\n",
       "        \n",
       "        "
      ]
     },
     "execution_count": 37,
     "metadata": {},
     "output_type": "execute_result"
    }
   ],
   "source": [
    "ricci[1][1]"
   ]
  },
  {
   "cell_type": "code",
   "execution_count": 38,
   "metadata": {
    "ExecuteTime": {
     "end_time": "2020-04-21T19:26:50.398075Z",
     "start_time": "2020-04-21T19:26:48.752553Z"
    }
   },
   "outputs": [
    {
     "data": {
      "image/png": "[encoded data removed]",
      "text/latex": [
       "$\\displaystyle - \\mathbf{r} e^{- 2 g{\\left(\\mathbf{r} \\right)}} \\left. \\frac{d}{d \\xi} f{\\left(\\xi \\right)} \\right|_{\\substack{ \\xi=\\mathbf{r} }} + \\mathbf{r} e^{- 2 g{\\left(\\mathbf{r} \\right)}} \\left. \\frac{d}{d \\xi} g{\\left(\\xi \\right)} \\right|_{\\substack{ \\xi=\\mathbf{r} }} + 1 - e^{- 2 g{\\left(\\mathbf{r} \\right)}}$"
      ],
      "text/plain": [
       "     -2⋅g(r) ⎛d       ⎞│         -2⋅g(r) ⎛d       ⎞│           -2⋅g(r)\n",
       "- r⋅ℯ       ⋅⎜──(f(ξ))⎟│    + r⋅ℯ       ⋅⎜──(g(ξ))⎟│    + 1 - ℯ       \n",
       "             ⎝dξ      ⎠│ξ=r              ⎝dξ      ⎠│ξ=r               "
      ]
     },
     "execution_count": 38,
     "metadata": {},
     "output_type": "execute_result"
    }
   ],
   "source": [
    "ricci[2][2]"
   ]
  },
  {
   "cell_type": "code",
   "execution_count": 39,
   "metadata": {
    "ExecuteTime": {
     "end_time": "2020-04-21T19:27:03.600980Z",
     "start_time": "2020-04-21T19:27:01.966808Z"
    }
   },
   "outputs": [
    {
     "data": {
      "image/png": "[encoded data removed]",
      "text/latex": [
       "$\\displaystyle - \\mathbf{r} e^{- 2 g{\\left(\\mathbf{r} \\right)}} \\sin^{2}{\\left(\\mathbf{\\theta} \\right)} \\left. \\frac{d}{d \\xi} f{\\left(\\xi \\right)} \\right|_{\\substack{ \\xi=\\mathbf{r} }} + \\mathbf{r} e^{- 2 g{\\left(\\mathbf{r} \\right)}} \\sin^{2}{\\left(\\mathbf{\\theta} \\right)} \\left. \\frac{d}{d \\xi} g{\\left(\\xi \\right)} \\right|_{\\substack{ \\xi=\\mathbf{r} }} + \\sin^{2}{\\left(\\mathbf{\\theta} \\right)} - e^{- 2 g{\\left(\\mathbf{r} \\right)}} \\sin^{2}{\\left(\\mathbf{\\theta} \\right)}$"
      ],
      "text/plain": [
       "     -2⋅g(r)    2    ⎛d       ⎞│         -2⋅g(r)    2    ⎛d       ⎞│         2\n",
       "- r⋅ℯ       ⋅sin (θ)⋅⎜──(f(ξ))⎟│    + r⋅ℯ       ⋅sin (θ)⋅⎜──(g(ξ))⎟│    + sin \n",
       "                     ⎝dξ      ⎠│ξ=r                      ⎝dξ      ⎠│ξ=r       \n",
       "\n",
       "       -2⋅g(r)    2   \n",
       "(θ) - ℯ       ⋅sin (θ)\n",
       "                      "
      ]
     },
     "execution_count": 39,
     "metadata": {},
     "output_type": "execute_result"
    }
   ],
   "source": [
    "ricci[3][3]"
   ]
  },
  {
   "cell_type": "code",
   "execution_count": 40,
   "metadata": {
    "ExecuteTime": {
     "end_time": "2020-04-21T19:29:41.036495Z",
     "start_time": "2020-04-21T19:29:41.024755Z"
    }
   },
   "outputs": [
    {
     "data": {
      "text/plain": [
       "True"
      ]
     },
     "execution_count": 40,
     "metadata": {},
     "output_type": "execute_result"
    }
   ],
   "source": [
    "all(ricci[i][j]==0 for i in range(4) for j in range(4) if i!=j)"
   ]
  },
  {
   "cell_type": "code",
   "execution_count": 46,
   "metadata": {
    "ExecuteTime": {
     "end_time": "2020-04-21T19:36:00.029997Z",
     "start_time": "2020-04-21T19:35:56.183690Z"
    }
   },
   "outputs": [],
   "source": [
    "diffgeom_simplify = lambda a: a.subs(zip(cs.coord_functions(), cs._dummies)).simplify().subs(zip(cs._dummies, cs.coord_functions())) \n",
    "ricci = [[diffgeom_simplify(ricci[i][j])\n",
    " for j in range(4)] for i in range(4)]\n",
    "ch_2nd = metric_to_Christoffel_2nd(metric)\n",
    "\n",
    "filt = [((i,j,k), diffgeom_simplify(ch_2nd[i][j][k]))\n",
    " for i in range(4) for j in range(4) for k in range(j,4)\n",
    " if ch_2nd[i][j][k]!=0]"
   ]
  },
  {
   "cell_type": "code",
   "execution_count": 47,
   "metadata": {
    "ExecuteTime": {
     "end_time": "2020-04-21T19:36:22.508232Z",
     "start_time": "2020-04-21T19:36:20.770975Z"
    }
   },
   "outputs": [
    {
     "data": {
      "image/png": "[encoded data removed]",
      "text/latex": [
       "$\\displaystyle \\left[ \\left( \\left( 0, \\  0, \\  1\\right), \\  \\left. \\frac{d}{d \\xi} f{\\left(\\xi \\right)} \\right|_{\\substack{ \\xi=\\mathbf{r} }}\\right), \\  \\left( \\left( 1, \\  0, \\  0\\right), \\  e^{2 f{\\left(\\mathbf{r} \\right)} - 2 g{\\left(\\mathbf{r} \\right)}} \\left. \\frac{d}{d r} f{\\left(r \\right)} \\right|_{\\substack{ r=\\mathbf{r} }}\\right), \\  \\left( \\left( 1, \\  1, \\  1\\right), \\  \\left. \\frac{d}{d \\xi} g{\\left(\\xi \\right)} \\right|_{\\substack{ \\xi=\\mathbf{r} }}\\right)\\right]$"
      ],
      "text/plain": [
       "⎡⎛           ⎛d       ⎞│   ⎞  ⎛            2⋅f(r) - 2⋅g(r) ⎛d       ⎞│   ⎞  ⎛ \n",
       "⎢⎜(0, 0, 1), ⎜──(f(ξ))⎟│   ⎟, ⎜(1, 0, 0), ℯ               ⋅⎜──(f(r))⎟│   ⎟, ⎜(\n",
       "⎣⎝           ⎝dξ      ⎠│ξ=r⎠  ⎝                            ⎝dr      ⎠│r=r⎠  ⎝ \n",
       "\n",
       "          ⎛d       ⎞│   ⎞⎤\n",
       "1, 1, 1), ⎜──(g(ξ))⎟│   ⎟⎥\n",
       "          ⎝dξ      ⎠│ξ=r⎠⎦"
      ]
     },
     "execution_count": 47,
     "metadata": {},
     "output_type": "execute_result"
    }
   ],
   "source": [
    "filt[0:3]"
   ]
  },
  {
   "cell_type": "code",
   "execution_count": 48,
   "metadata": {
    "ExecuteTime": {
     "end_time": "2020-04-21T19:36:32.671482Z",
     "start_time": "2020-04-21T19:36:31.066949Z"
    }
   },
   "outputs": [
    {
     "data": {
      "image/png": "[encoded data removed]",
      "text/latex": [
       "$\\displaystyle \\left[ \\left( \\left( 1, \\  2, \\  2\\right), \\  - \\mathbf{r} e^{- 2 g{\\left(\\mathbf{r} \\right)}}\\right), \\  \\left( \\left( 1, \\  3, \\  3\\right), \\  - \\mathbf{r} e^{- 2 g{\\left(\\mathbf{r} \\right)}} \\sin^{2}{\\left(\\mathbf{\\theta} \\right)}\\right), \\  \\left( \\left( 2, \\  1, \\  2\\right), \\  \\frac{1}{\\mathbf{r}}\\right)\\right]$"
      ],
      "text/plain": [
       "⎡⎛               -2⋅g(r)⎞  ⎛               -2⋅g(r)    2   ⎞  ⎛           1⎞⎤\n",
       "⎢⎝(1, 2, 2), -r⋅ℯ       ⎠, ⎝(1, 3, 3), -r⋅ℯ       ⋅sin (θ)⎠, ⎜(2, 1, 2), ─⎟⎥\n",
       "⎣                                                            ⎝           r⎠⎦"
      ]
     },
     "execution_count": 48,
     "metadata": {},
     "output_type": "execute_result"
    }
   ],
   "source": [
    "filt[3:6]"
   ]
  },
  {
   "cell_type": "code",
   "execution_count": 49,
   "metadata": {
    "ExecuteTime": {
     "end_time": "2020-04-21T19:36:49.282196Z",
     "start_time": "2020-04-21T19:36:47.688080Z"
    }
   },
   "outputs": [
    {
     "data": {
      "image/png": "[encoded data removed]",
      "text/latex": [
       "$\\displaystyle \\left[ \\left( \\left( 2, \\  3, \\  3\\right), \\  - \\frac{\\sin{\\left(2 \\mathbf{\\theta} \\right)}}{2}\\right), \\  \\left( \\left( 3, \\  1, \\  3\\right), \\  \\frac{1}{\\mathbf{r}}\\right), \\  \\left( \\left( 3, \\  2, \\  3\\right), \\  \\frac{1}{\\tan{\\left(\\mathbf{\\theta} \\right)}}\\right)\\right]$"
      ],
      "text/plain": [
       "⎡⎛           -sin(2⋅θ) ⎞  ⎛           1⎞  ⎛             1   ⎞⎤\n",
       "⎢⎜(2, 3, 3), ──────────⎟, ⎜(3, 1, 3), ─⎟, ⎜(3, 2, 3), ──────⎟⎥\n",
       "⎣⎝               2     ⎠  ⎝           r⎠  ⎝           tan(θ)⎠⎦"
      ]
     },
     "execution_count": 49,
     "metadata": {},
     "output_type": "execute_result"
    }
   ],
   "source": [
    "filt[6:9]"
   ]
  }
 ],
 "metadata": {
  "hide_input": false,
  "kernelspec": {
   "display_name": "Python 3",
   "language": "python",
   "name": "python3"
  },
  "language_info": {
   "codemirror_mode": {
    "name": "ipython",
    "version": 3
   },
   "file_extension": ".py",
   "mimetype": "text/x-python",
   "name": "python",
   "nbconvert_exporter": "python",
   "pygments_lexer": "ipython3",
   "version": "3.7.3"
  },
  "latex_envs": {
   "LaTeX_envs_menu_present": true,
   "autoclose": false,
   "autocomplete": true,
   "bibliofile": "biblio.bib",
   "cite_by": "apalike",
   "current_citInitial": 1,
   "eqLabelWithNumbers": true,
   "eqNumInitial": 1,
   "hotkeys": {
    "equation": "Ctrl-E",
    "itemize": "Ctrl-I"
   },
   "labels_anchors": false,
   "latex_user_defs": false,
   "report_style_numbering": false,
   "user_envs_cfg": false
  },
  "toc": {
   "base_numbering": 1,
   "nav_menu": {},
   "number_sections": true,
   "sideBar": true,
   "skip_h1_title": false,
   "title_cell": "Table of Contents",
   "title_sidebar": "Contents",
   "toc_cell": false,
   "toc_position": {},
   "toc_section_display": true,
   "toc_window_display": false
  }
 },
 "nbformat": 4,
 "nbformat_minor": 4
}
