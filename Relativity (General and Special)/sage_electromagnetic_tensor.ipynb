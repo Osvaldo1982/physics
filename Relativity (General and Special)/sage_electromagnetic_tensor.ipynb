{
 "cells": [
  {
   "cell_type": "markdown",
   "metadata": {},
   "source": [
    "# Tensor energia momento do campo eletromagnético\n",
    "\n",
    "**Referências**\n",
    "* [Stress-energy tensor of the electromagnetic field.](https://phys.libretexts.org/Bookshelves/Relativity/Book%3A_Special_Relativity_(Crowell)/10%3A_Electromagnetism/10.06%3A__Stress-energy_tensor_of_the_electromagnetic_field)"
   ]
  },
  {
   "cell_type": "code",
   "execution_count": 2,
   "metadata": {
    "ExecuteTime": {
     "end_time": "2020-03-31T21:33:48.767963Z",
     "start_time": "2020-03-31T21:33:48.102560Z"
    }
   },
   "outputs": [],
   "source": [
    "import sympy\n",
    "from einsteinpy.symbolic import MetricTensor, ChristoffelSymbols, RiemannCurvatureTensor\n",
    "\n",
    "sympy.init_printing()  # enables the best printing available in an environment"
   ]
  },
  {
   "cell_type": "code",
   "execution_count": 3,
   "metadata": {
    "ExecuteTime": {
     "end_time": "2020-03-31T21:34:03.095263Z",
     "start_time": "2020-03-31T21:34:01.206638Z"
    }
   },
   "outputs": [
    {
     "data": {
      "image/png": "[encoded data removed]",
      "text/latex": [
       "$\\displaystyle \\left[\\begin{matrix}1 & 0 & 0\\\\0 & r^{2} & 0\\\\0 & 0 & r^{2} \\sin^{2}{\\left(\\theta \\right)}\\end{matrix}\\right]$"
      ],
      "text/plain": [
       "⎡1  0       0     ⎤\n",
       "⎢                 ⎥\n",
       "⎢    2            ⎥\n",
       "⎢0  r       0     ⎥\n",
       "⎢                 ⎥\n",
       "⎢        2    2   ⎥\n",
       "⎣0  0   r ⋅sin (θ)⎦"
      ]
     },
     "execution_count": 3,
     "metadata": {},
     "output_type": "execute_result"
    }
   ],
   "source": [
    "syms = sympy.symbols('r theta phi')\n",
    "# define the metric for 3d spherical coordinates\n",
    "metric = [[0 for i in range(3)] for i in range(3)]\n",
    "metric[0][0] = 1\n",
    "metric[1][1] = syms[0]**2\n",
    "metric[2][2] = (syms[0]**2)*(sympy.sin(syms[1])**2)\n",
    "# creating metric object\n",
    "m_obj = MetricTensor(metric, syms)\n",
    "m_obj.tensor()"
   ]
  },
  {
   "cell_type": "code",
   "execution_count": 17,
   "metadata": {
    "ExecuteTime": {
     "end_time": "2020-03-31T21:53:01.396472Z",
     "start_time": "2020-03-31T21:53:00.418027Z"
    }
   },
   "outputs": [
    {
     "data": {
      "image/png": "[encoded data removed]",
      "text/latex": [
       "$\\displaystyle \\left[\\begin{matrix}\\left[\\begin{matrix}0 & 0 & 0\\\\0 & - r & 0\\\\0 & 0 & - r \\sin^{2}{\\left(\\theta \\right)}\\end{matrix}\\right] & \\left[\\begin{matrix}0 & \\frac{1}{r} & 0\\\\\\frac{1}{r} & 0 & 0\\\\0 & 0 & - \\sin{\\left(\\theta \\right)} \\cos{\\left(\\theta \\right)}\\end{matrix}\\right] & \\left[\\begin{matrix}0 & 0 & \\frac{1}{r}\\\\0 & 0 & \\frac{\\cos{\\left(\\theta \\right)}}{\\sin{\\left(\\theta \\right)}}\\\\\\frac{1}{r} & \\frac{\\cos{\\left(\\theta \\right)}}{\\sin{\\left(\\theta \\right)}} & 0\\end{matrix}\\right]\\end{matrix}\\right]$"
      ],
      "text/plain": [
       "⎡                                             ⎡             1   ⎤⎤\n",
       "⎢                     ⎡   1                ⎤  ⎢0    0       ─   ⎥⎥\n",
       "⎢⎡0  0       0     ⎤  ⎢0  ─        0       ⎥  ⎢             r   ⎥⎥\n",
       "⎢⎢                 ⎥  ⎢   r                ⎥  ⎢                 ⎥⎥\n",
       "⎢⎢0  -r      0     ⎥  ⎢                    ⎥  ⎢           cos(θ)⎥⎥\n",
       "⎢⎢                 ⎥  ⎢1                   ⎥  ⎢0    0     ──────⎥⎥\n",
       "⎢⎢             2   ⎥  ⎢─  0        0       ⎥  ⎢           sin(θ)⎥⎥\n",
       "⎢⎣0  0   -r⋅sin (θ)⎦  ⎢r                   ⎥  ⎢                 ⎥⎥\n",
       "⎢                     ⎢                    ⎥  ⎢1  cos(θ)        ⎥⎥\n",
       "⎢                     ⎣0  0  -sin(θ)⋅cos(θ)⎦  ⎢─  ──────    0   ⎥⎥\n",
       "⎣                                             ⎣r  sin(θ)        ⎦⎦"
      ]
     },
     "execution_count": 17,
     "metadata": {},
     "output_type": "execute_result"
    }
   ],
   "source": [
    "ch = ChristoffelSymbols.from_metric(m_obj)\n",
    "ch.tensor()"
   ]
  },
  {
   "cell_type": "code",
   "execution_count": 22,
   "metadata": {
    "ExecuteTime": {
     "end_time": "2020-03-31T21:53:44.451462Z",
     "start_time": "2020-03-31T21:53:43.549119Z"
    }
   },
   "outputs": [
    {
     "data": {
      "image/png": "[encoded data removed]",
      "text/latex": [
       "$\\displaystyle - r \\sin^{2}{\\left(\\theta \\right)}$"
      ],
      "text/plain": [
       "      2   \n",
       "-r⋅sin (θ)"
      ]
     },
     "execution_count": 22,
     "metadata": {},
     "output_type": "execute_result"
    }
   ],
   "source": [
    "ch.tensor()[0,2,2]"
   ]
  },
  {
   "cell_type": "code",
   "execution_count": 8,
   "metadata": {
    "ExecuteTime": {
     "end_time": "2020-03-31T21:43:52.232761Z",
     "start_time": "2020-03-31T21:43:52.152578Z"
    }
   },
   "outputs": [],
   "source": [
    "import numpy as np\n",
    "import pytest\n",
    "import sympy\n",
    "from sympy import cos, simplify, sin, sinh, tensorcontraction\n",
    "from einsteinpy.symbolic import EinsteinTensor, MetricTensor, RicciScalar\n",
    "\n",
    "sympy.init_printing()"
   ]
  },
  {
   "cell_type": "code",
   "execution_count": 9,
   "metadata": {
    "ExecuteTime": {
     "end_time": "2020-03-31T21:44:01.089808Z",
     "start_time": "2020-03-31T21:44:01.080816Z"
    }
   },
   "outputs": [],
   "source": [
    "syms = sympy.symbols(\"t chi theta phi\")\n",
    "t, ch, th, ph = syms\n",
    "m = sympy.diag(-1, cos(t) ** 2, cos(t) ** 2 * sinh(ch) ** 2, cos(t) ** 2 * sinh(ch) ** 2 * sin(th) ** 2).tolist()\n",
    "metric = MetricTensor(m, syms)"
   ]
  },
  {
   "cell_type": "code",
   "execution_count": 13,
   "metadata": {
    "ExecuteTime": {
     "end_time": "2020-03-31T21:45:01.673035Z",
     "start_time": "2020-03-31T21:45:00.883714Z"
    }
   },
   "outputs": [
    {
     "data": {
      "image/png": "[encoded data removed]",
      "text/latex": [
       "$\\displaystyle \\left[\\begin{matrix}-1 & 0 & 0 & 0\\\\0 & \\cos^{2}{\\left(t \\right)} & 0 & 0\\\\0 & 0 & \\cos^{2}{\\left(t \\right)} \\sinh^{2}{\\left(\\chi \\right)} & 0\\\\0 & 0 & 0 & \\sin^{2}{\\left(\\theta \\right)} \\cos^{2}{\\left(t \\right)} \\sinh^{2}{\\left(\\chi \\right)}\\end{matrix}\\right]$"
      ],
      "text/plain": [
       "⎡-1     0            0                     0            ⎤\n",
       "⎢                                                       ⎥\n",
       "⎢       2                                               ⎥\n",
       "⎢0   cos (t)         0                     0            ⎥\n",
       "⎢                                                       ⎥\n",
       "⎢                2        2                             ⎥\n",
       "⎢0      0     cos (t)⋅sinh (χ)             0            ⎥\n",
       "⎢                                                       ⎥\n",
       "⎢                                  2       2        2   ⎥\n",
       "⎣0      0            0          sin (θ)⋅cos (t)⋅sinh (χ)⎦"
      ]
     },
     "execution_count": 13,
     "metadata": {},
     "output_type": "execute_result"
    }
   ],
   "source": [
    "metric.tensor()"
   ]
  },
  {
   "cell_type": "code",
   "execution_count": 10,
   "metadata": {
    "ExecuteTime": {
     "end_time": "2020-03-31T21:44:15.598710Z",
     "start_time": "2020-03-31T21:44:13.384767Z"
    }
   },
   "outputs": [
    {
     "data": {
      "image/png": "[encoded data removed]",
      "text/latex": [
       "$\\displaystyle \\left[\\begin{matrix}-3.0 & 0 & 0 & 0\\\\0 & 3.0 \\cos^{2}{\\left(t \\right)} & 0 & 0\\\\0 & 0 & \\left(\\sin^{2}{\\left(t \\right)} - 1\\right) \\sinh^{2}{\\left(\\chi \\right)} + 4.0 \\cos^{2}{\\left(t \\right)} \\sinh^{2}{\\left(\\chi \\right)} & 0\\\\0 & 0 & 0 & \\left(\\sin^{2}{\\left(t \\right)} - 1\\right) \\sin^{2}{\\left(\\theta \\right)} \\sinh^{2}{\\left(\\chi \\right)} + 4.0 \\sin^{2}{\\left(\\theta \\right)} \\cos^{2}{\\left(t \\right)} \\sinh^{2}{\\left(\\chi \\right)}\\end{matrix}\\right]$"
      ],
      "text/plain": [
       "⎡-3.0       0                             0                                   \n",
       "⎢                                                                             \n",
       "⎢             2                                                               \n",
       "⎢ 0    3.0⋅cos (t)                        0                                   \n",
       "⎢                                                                             \n",
       "⎢                   ⎛   2       ⎞     2             2        2                \n",
       "⎢ 0         0       ⎝sin (t) - 1⎠⋅sinh (χ) + 4.0⋅cos (t)⋅sinh (χ)             \n",
       "⎢                                                                             \n",
       "⎢                                                                  ⎛   2      \n",
       "⎣ 0         0                             0                        ⎝sin (t) - \n",
       "\n",
       "                   0                              ⎤\n",
       "                                                  ⎥\n",
       "                                                  ⎥\n",
       "                   0                              ⎥\n",
       "                                                  ⎥\n",
       "                                                  ⎥\n",
       "                   0                              ⎥\n",
       "                                                  ⎥\n",
       " ⎞    2        2             2       2        2   ⎥\n",
       "1⎠⋅sin (θ)⋅sinh (χ) + 4.0⋅sin (θ)⋅cos (t)⋅sinh (χ)⎦"
      ]
     },
     "execution_count": 10,
     "metadata": {},
     "output_type": "execute_result"
    }
   ],
   "source": [
    "einst = EinsteinTensor.from_metric(metric)\n",
    "einst.tensor()"
   ]
  },
  {
   "cell_type": "code",
   "execution_count": null,
   "metadata": {},
   "outputs": [],
   "source": []
  }
 ],
 "metadata": {
  "kernelspec": {
   "display_name": "Python 3",
   "language": "python",
   "name": "python3"
  },
  "language_info": {
   "codemirror_mode": {
    "name": "ipython",
    "version": 3
   },
   "file_extension": ".py",
   "mimetype": "text/x-python",
   "name": "python",
   "nbconvert_exporter": "python",
   "pygments_lexer": "ipython3",
   "version": "3.7.3"
  },
  "toc": {
   "base_numbering": 1,
   "nav_menu": {},
   "number_sections": true,
   "sideBar": true,
   "skip_h1_title": false,
   "title_cell": "Table of Contents",
   "title_sidebar": "Contents",
   "toc_cell": false,
   "toc_position": {},
   "toc_section_display": true,
   "toc_window_display": false
  }
 },
 "nbformat": 4,
 "nbformat_minor": 2
}
