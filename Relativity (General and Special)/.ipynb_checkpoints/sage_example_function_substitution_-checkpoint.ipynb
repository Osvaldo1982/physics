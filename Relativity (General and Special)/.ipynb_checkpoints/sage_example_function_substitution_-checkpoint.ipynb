{
 "cells": [
  {
   "cell_type": "markdown",
   "metadata": {},
   "source": [
    "# Example of substituting functions\n",
    "\n",
    "* Example taken from * [Sage Forum - Unable to use substitute_function in SageManifolds.](https://ask.sagemath.org/question/49586/unable-to-use-substitute_function-in-sagemanifolds/)\n",
    "\n",
    "Another references\n",
    "* https://stackoverflow.com/questions/59390531/substituting-variable-value-in-sage\n",
    "* [Sage Manifold Examples - Friedmann Equations](https://nbviewer.jupyter.org/github/sagemanifolds/SageManifolds/blob/master/Worksheets/v1.3/SM_Friedmann_equations.ipynb)\n",
    "* [Sage Manifold Examples - Lemaitre Tolman](https://nbviewer.jupyter.org/github/egourgoulhon/BHLectures/blob/master/sage/Lemaitre_Tolman.ipynb)\n",
    "* [Sage Forum - Substituting variable/function](https://ask.sagemath.org/question/36994/substituting-variablefunction/)\n",
    "* [Sage Forum - Subtitute functions - in a differential equation - Sagemanifold](https://ask.sagemath.org/question/44557/subtitute-functions-in-a-differential-equation-sagemanifold/)\n",
    "* [Stackoverflow - Substituting variable value in sage](https://stackoverflow.com/questions/59390531/substituting-variable-value-in-sage)\n",
    "* [Sage Math - Chart Functions](http://doc.sagemath.org/html/en/reference/manifolds/sage/manifolds/chart_func.html)"
   ]
  },
  {
   "cell_type": "code",
   "execution_count": 38,
   "metadata": {},
   "outputs": [],
   "source": [
    "%display latex"
   ]
  },
  {
   "cell_type": "code",
   "execution_count": 2,
   "metadata": {},
   "outputs": [],
   "source": [
    "M = Manifold(4, 'R^4')\n",
    "coord.<t,x,z1,z2> = M.chart(r't x z1 z2') #name of the chart is coord.\n",
    "a=function('a')(t)\n",
    "g = M.metric('g')\n",
    "g[0,0] = -1\n",
    "g[1,1] = a^2\n",
    "g[2,2] = a^2*sin(x)^2\n",
    "g[3,3] = a^2*cos(x)^2\n",
    "nab = g.connection()\n",
    "ric = nab.ricci()\n",
    "SCAL = g.ricci_scalar()\n",
    "\n",
    "phi = M.scalar_field(function('phi')(*coord), name='phi')\n",
    "dphi=nab(phi)\n",
    "dphiu=dphi.up(g,0)\n",
    "\n",
    "T1=dphi['_a']*dphi['_b'] \n",
    "T2=g.inverse()['^ab']*T1['_ab']\n",
    "T3=dphi*dphi+1/2*g*T2"
   ]
  },
  {
   "cell_type": "code",
   "execution_count": 3,
   "metadata": {},
   "outputs": [
    {
     "data": {
      "text/html": [
       "<html><script type=\"math/tex; mode=display\">\\newcommand{\\Bold}[1]{\\mathbf{#1}}-12 \\, \\pi G \\frac{\\partial}{\\partial t}\\phi\\left(t, x, z_{1}, z_{2}\\right)^{2} + \\frac{4 \\, \\pi G \\frac{\\partial}{\\partial x}\\phi\\left(t, x, z_{1}, z_{2}\\right)^{2}}{a\\left(t\\right)^{2}} - {\\Lambda} + \\frac{3 \\, \\frac{\\partial}{\\partial t}a\\left(t\\right)^{2}}{a\\left(t\\right)^{2}} + \\frac{4 \\, \\pi G \\frac{\\partial}{\\partial z_{1}}\\phi\\left(t, x, z_{1}, z_{2}\\right)^{2}}{a\\left(t\\right)^{2} \\sin\\left(x\\right)^{2}} + \\frac{4 \\, \\pi G \\frac{\\partial}{\\partial z_{2}}\\phi\\left(t, x, z_{1}, z_{2}\\right)^{2}}{a\\left(t\\right)^{2} \\cos\\left(x\\right)^{2}} + \\frac{3}{a\\left(t\\right)^{2}} = 0</script></html>"
      ],
      "text/plain": [
       "-12*pi*G*diff(phi(t, x, z1, z2), t)^2 + 4*pi*G*diff(phi(t, x, z1, z2), x)^2/a(t)^2 - Lam + 3*diff(a(t), t)^2/a(t)^2 + 4*pi*G*diff(phi(t, x, z1, z2), z1)^2/(a(t)^2*sin(x)^2) + 4*pi*G*diff(phi(t, x, z1, z2), z2)^2/(a(t)^2*cos(x)^2) + 3/a(t)^2 == 0"
      ]
     },
     "execution_count": 3,
     "metadata": {},
     "output_type": "execute_result"
    }
   ],
   "source": [
    "var('G')\n",
    "Lam=var('Lam', latex_name=r'\\Lambda')\n",
    "E=ric - SCAL/2*g + Lam*g - (8*pi*G)*T3\n",
    "E[0,0].expr().expand() == 0"
   ]
  },
  {
   "cell_type": "code",
   "execution_count": 16,
   "metadata": {},
   "outputs": [
    {
     "data": {
      "text/html": [
       "<html><script type=\"math/tex; mode=display\">\\newcommand{\\Bold}[1]{\\mathbf{#1}}\\frac{4 \\, \\pi G \\cos\\left(x\\right)^{2} \\frac{\\partial}{\\partial z_{1}}F_{1}\\left(t, x, z_{1}, z_{2}\\right)^{2} + {\\left(4 \\, \\pi G \\frac{\\partial}{\\partial z_{2}}F_{1}\\left(t, x, z_{1}, z_{2}\\right)^{2} - {\\left(12 \\, \\pi G a\\left(t\\right)^{2} \\frac{\\partial}{\\partial t}F_{1}\\left(t, x, z_{1}, z_{2}\\right)^{2} - 4 \\, \\pi G \\frac{\\partial}{\\partial x}F_{1}\\left(t, x, z_{1}, z_{2}\\right)^{2} + {\\Lambda} a\\left(t\\right)^{2} - 3 \\, \\frac{\\partial}{\\partial t}a\\left(t\\right)^{2} - 3\\right)} \\cos\\left(x\\right)^{2}\\right)} \\sin\\left(x\\right)^{2}}{a\\left(t\\right)^{2} \\cos\\left(x\\right)^{2} \\sin\\left(x\\right)^{2}}</script></html>"
      ],
      "text/plain": [
       "(4*pi*G*cos(x)^2*diff(F1(t, x, z1, z2), z1)^2 + (4*pi*G*diff(F1(t, x, z1, z2), z2)^2 - (12*pi*G*a(t)^2*diff(F1(t, x, z1, z2), t)^2 - 4*pi*G*diff(F1(t, x, z1, z2), x)^2 + Lam*a(t)^2 - 3*diff(a(t), t)^2 - 3)*cos(x)^2)*sin(x)^2)/(a(t)^2*cos(x)^2*sin(x)^2)"
      ]
     },
     "execution_count": 16,
     "metadata": {},
     "output_type": "execute_result"
    }
   ],
   "source": [
    "F1 = M.scalar_field(function('F1')(*coord),name='F1')\n",
    "\n",
    "E[0,0].expr().substitute_function(phi.expr().operator(), F1.expr().operator())"
   ]
  },
  {
   "cell_type": "code",
   "execution_count": 17,
   "metadata": {},
   "outputs": [
    {
     "data": {
      "text/html": [
       "<html><script type=\"math/tex; mode=display\">\\newcommand{\\Bold}[1]{\\mathbf{#1}}-\\frac{{\\Lambda} a\\left(t\\right)^{2} - 3 \\, \\frac{\\partial}{\\partial t}a\\left(t\\right)^{2} - 3}{a\\left(t\\right)^{2}}</script></html>"
      ],
      "text/plain": [
       "-(Lam*a(t)^2 - 3*diff(a(t), t)^2 - 3)/a(t)^2"
      ]
     },
     "execution_count": 17,
     "metadata": {},
     "output_type": "execute_result"
    }
   ],
   "source": [
    "E[0,0].expr().subs(G=0)"
   ]
  },
  {
   "cell_type": "code",
   "execution_count": 37,
   "metadata": {},
   "outputs": [
    {
     "data": {
      "text/html": [
       "<html><script type=\"math/tex; mode=display\">\\newcommand{\\Bold}[1]{\\mathbf{#1}}\\frac{4 \\, \\pi G \\cos\\left(x\\right)^{2} \\frac{\\partial}{\\partial z_{1}}\\phi\\left(t, x, z_{1}, z_{2}\\right)^{2} + {\\left(4 \\, \\pi G \\frac{\\partial}{\\partial z_{2}}\\phi\\left(t, x, z_{1}, z_{2}\\right)^{2} + {\\left(4 \\, \\pi G \\frac{\\partial}{\\partial x}\\phi\\left(t, x, z_{1}, z_{2}\\right)^{2} - 12 \\, \\pi G + 3 \\, \\frac{\\partial}{\\partial t}a\\left(t\\right)^{2} - {\\Lambda} + 3\\right)} \\cos\\left(x\\right)^{2}\\right)} \\sin\\left(x\\right)^{2}}{\\cos\\left(x\\right)^{2} \\sin\\left(x\\right)^{2}}</script></html>"
      ],
      "text/plain": [
       "(4*pi*G*cos(x)^2*diff(phi(t, x, z1, z2), z1)^2 + (4*pi*G*diff(phi(t, x, z1, z2), z2)^2 + (4*pi*G*diff(phi(t, x, z1, z2), x)^2 - 12*pi*G + 3*diff(a(t), t)^2 - Lam + 3)*cos(x)^2)*sin(x)^2)/(cos(x)^2*sin(x)^2)"
      ]
     },
     "execution_count": 37,
     "metadata": {},
     "output_type": "execute_result"
    }
   ],
   "source": [
    "test1 = E[0,0].expr().substitute({diff(phi.expr(), t):1, a:1})\n",
    "\n",
    "test1"
   ]
  },
  {
   "cell_type": "code",
   "execution_count": null,
   "metadata": {},
   "outputs": [],
   "source": []
  }
 ],
 "metadata": {
  "kernelspec": {
   "display_name": "SageMath 8.8",
   "language": "sage",
   "name": "sagemath"
  },
  "language_info": {
   "codemirror_mode": {
    "name": "ipython",
    "version": 2
   },
   "file_extension": ".py",
   "mimetype": "text/x-python",
   "name": "python",
   "nbconvert_exporter": "python",
   "pygments_lexer": "ipython2",
   "version": "2.7.15"
  }
 },
 "nbformat": 4,
 "nbformat_minor": 2
}
