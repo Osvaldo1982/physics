{
 "cells": [
  {
   "cell_type": "code",
   "execution_count": 7,
   "metadata": {},
   "outputs": [],
   "source": [
    "%display latex\n",
    "\n",
    "# Defining a Lorentzian manifold\n",
    "M = Manifold(4, 'M', structure='Lorentzian')\n",
    "\n",
    "# Defining the chart\n",
    "X.<t,x,y,z> = M.chart(r\"t x:(-oo,+oo) y:(-oo,+oo) z:(-oo,+oo)\");"
   ]
  },
  {
   "cell_type": "markdown",
   "metadata": {},
   "source": [
    "# Defining the metric\n",
    "\n",
    "\n",
    "\\begin{equation*}\n",
    "g_{\\alpha \\sigma} = \n",
    "\\begin{pmatrix}\n",
    "g_{00} & g_{01} & g_{02} & g_{03} \\\\\n",
    "g_{10} & g_{11} & g_{12} & g_{13} \\\\\n",
    "g_{20} & g_{21} & g_{22} & g_{23}  \\\\\n",
    "g_{30} & g_{31} & g_{32} & g_{33} \n",
    "\\end{pmatrix} \n",
    "\\end{equation*}"
   ]
  },
  {
   "cell_type": "code",
   "execution_count": 8,
   "metadata": {},
   "outputs": [
    {
     "name": "stdout",
     "output_type": "stream",
     "text": [
      "Lorentzian metric g on the 4-dimensional Lorentzian manifold M\n",
      "(0, 2)\n"
     ]
    },
    {
     "data": {
      "text/html": [
       "<html><script type=\"math/tex; mode=display\">\\newcommand{\\Bold}[1]{\\mathbf{#1}}\\left(\\begin{array}{rrrr}\n",
       "-1 & 0 & 0 & 0 \\\\\n",
       "0 & 1 & 0 & 0 \\\\\n",
       "0 & 0 & 1 & 0 \\\\\n",
       "0 & 0 & 0 & 1\n",
       "\\end{array}\\right)</script></html>"
      ],
      "text/plain": [
       "[-1  0  0  0]\n",
       "[ 0  1  0  0]\n",
       "[ 0  0  1  0]\n",
       "[ 0  0  0  1]"
      ]
     },
     "execution_count": 8,
     "metadata": {},
     "output_type": "execute_result"
    }
   ],
   "source": [
    "g = M.metric()\n",
    "g.set_name('g')\n",
    "\n",
    "# g = M.tensor_field(2,0, name='T');\n",
    "g[0,0] = -1\n",
    "g[1,1] = 1\n",
    "g[2,2] = 1\n",
    "g[3,3] = 1\n",
    "\n",
    "print(g)\n",
    "print(g.tensor_type())\n",
    "\n",
    "g[:]"
   ]
  },
  {
   "cell_type": "markdown",
   "metadata": {},
   "source": [
    "# Defining the inverse metric"
   ]
  },
  {
   "cell_type": "code",
   "execution_count": 9,
   "metadata": {},
   "outputs": [
    {
     "name": "stdout",
     "output_type": "stream",
     "text": [
      "Tensor field g of type (2,0) on the 4-dimensional Lorentzian manifold M\n"
     ]
    },
    {
     "data": {
      "text/html": [
       "<html><script type=\"math/tex; mode=display\">\\newcommand{\\Bold}[1]{\\mathbf{#1}}\\left(\\begin{array}{rrrr}\n",
       "-1 & 0 & 0 & 0 \\\\\n",
       "0 & 1 & 0 & 0 \\\\\n",
       "0 & 0 & 1 & 0 \\\\\n",
       "0 & 0 & 0 & 1\n",
       "\\end{array}\\right)</script></html>"
      ],
      "text/plain": [
       "[-1  0  0  0]\n",
       "[ 0  1  0  0]\n",
       "[ 0  0  1  0]\n",
       "[ 0  0  0  1]"
      ]
     },
     "execution_count": 9,
     "metadata": {},
     "output_type": "execute_result"
    }
   ],
   "source": [
    "gg = g.up(g)\n",
    "gg.set_name('g')\n",
    "\n",
    "print(gg)\n",
    "#gg.display_comp()\n",
    "gg[:]"
   ]
  },
  {
   "cell_type": "markdown",
   "metadata": {},
   "source": [
    "# Defining the electromagnetic tensor $F^{\\alpha\\beta}$\n",
    "\n",
    "\\begin{equation*}\n",
    "F^{\\alpha \\sigma} =\n",
    "\\begin{pmatrix}\n",
    "0   & -E_1 & -E_2 & -E_3 \\\\\n",
    "E_1 & 0    & -B_3 & B_2 \\\\\n",
    "E_2 & B_3  & 0    & -B_1  \\\\\n",
    "E_3 & -B_2 & B_1  & 0 \n",
    "\\end{pmatrix}\n",
    "\\end{equation*}"
   ]
  },
  {
   "cell_type": "code",
   "execution_count": 10,
   "metadata": {},
   "outputs": [
    {
     "name": "stdout",
     "output_type": "stream",
     "text": [
      "Tensor field F of type (2,0) on the 4-dimensional Lorentzian manifold M\n",
      "(2, 0)\n"
     ]
    },
    {
     "data": {
      "text/html": [
       "<html><script type=\"math/tex; mode=display\">\\newcommand{\\Bold}[1]{\\mathbf{#1}}\\left(\\begin{array}{rrrr}\n",
       "0 & -E_1\\left(t, x, y, z\\right) & -E_2\\left(t, x, y, z\\right) & -E_3\\left(t, x, y, z\\right) \\\\\n",
       "E_1\\left(t, x, y, z\\right) & 0 & -B_3\\left(t, x, y, z\\right) & B_2\\left(t, x, y, z\\right) \\\\\n",
       "E_2\\left(t, x, y, z\\right) & B_3\\left(t, x, y, z\\right) & 0 & -B_1\\left(t, x, y, z\\right) \\\\\n",
       "E_3\\left(t, x, y, z\\right) & -B_2\\left(t, x, y, z\\right) & B_1\\left(t, x, y, z\\right) & 0\n",
       "\\end{array}\\right)</script></html>"
      ],
      "text/plain": [
       "[              0 -E1(t, x, y, z) -e2(t, x, y, z) -e3(t, x, y, z)]\n",
       "[ E1(t, x, y, z)               0 -b3(t, x, y, z)  b2(t, x, y, z)]\n",
       "[ e2(t, x, y, z)  b3(t, x, y, z)               0 -b1(t, x, y, z)]\n",
       "[ e3(t, x, y, z) -b2(t, x, y, z)  b1(t, x, y, z)               0]"
      ]
     },
     "execution_count": 10,
     "metadata": {},
     "output_type": "execute_result"
    }
   ],
   "source": [
    "e1 = function('E1',latex_name= \"E_1\")(t,x,y,z)\n",
    "e2 = function('e2',latex_name= \"E_2\")(t,x,y,z)\n",
    "e3 = function('e3',latex_name= \"E_3\")(t,x,y,z)\n",
    "b1 = function('b1',latex_name= \"B_1\")(t,x,y,z)\n",
    "b2 = function('b2',latex_name= \"B_2\")(t,x,y,z)\n",
    "b3 = function('b3',latex_name= \"B_3\")(t,x,y,z)\n",
    "\n",
    "\n",
    "F = M.tensor_field(2,0, name='F');\n",
    "\n",
    "F[0,0] = 0\n",
    "F[0,1] = -e1 \n",
    "F[0,2] = -e2\n",
    "F[0,3] = -e3\n",
    "F[1,0] = e1 \n",
    "F[1,1] = 0\n",
    "F[1,2] = -b3\n",
    "F[1,3] = b2\n",
    "F[2,0] = e2\n",
    "F[2,1] = b3\n",
    "F[2,2] = 0\n",
    "F[2,3] = -b1\n",
    "F[3,0] = e3\n",
    "F[3,1] = -b2\n",
    "F[3,2] = b1\n",
    "F[3,3] = 0\n",
    "\n",
    "print(F)\n",
    "print(F.tensor_type())\n",
    "#F.display_comp()\n",
    "F[:]"
   ]
  },
  {
   "cell_type": "markdown",
   "metadata": {},
   "source": [
    "##  Defining $F_{\\alpha\\beta}$ - with function down(g)"
   ]
  },
  {
   "cell_type": "code",
   "execution_count": 11,
   "metadata": {},
   "outputs": [
    {
     "name": "stdout",
     "output_type": "stream",
     "text": [
      "(0, 2)\n"
     ]
    },
    {
     "data": {
      "text/html": [
       "<html><script type=\"math/tex; mode=display\">\\newcommand{\\Bold}[1]{\\mathbf{#1}}\\left(\\begin{array}{rrrr}\n",
       "0 & E_{1}\\left(t, x, y, z\\right) & E_2\\left(t, x, y, z\\right) & E_3\\left(t, x, y, z\\right) \\\\\n",
       "-E_{1}\\left(t, x, y, z\\right) & 0 & -B_3\\left(t, x, y, z\\right) & B_2\\left(t, x, y, z\\right) \\\\\n",
       "-E_2\\left(t, x, y, z\\right) & B_3\\left(t, x, y, z\\right) & 0 & -B_1\\left(t, x, y, z\\right) \\\\\n",
       "-E_3\\left(t, x, y, z\\right) & -B_2\\left(t, x, y, z\\right) & B_1\\left(t, x, y, z\\right) & 0\n",
       "\\end{array}\\right)</script></html>"
      ],
      "text/plain": [
       "[              0  E1(t, x, y, z)  e2(t, x, y, z)  e3(t, x, y, z)]\n",
       "[-E1(t, x, y, z)               0 -b3(t, x, y, z)  b2(t, x, y, z)]\n",
       "[-e2(t, x, y, z)  b3(t, x, y, z)               0 -b1(t, x, y, z)]\n",
       "[-e3(t, x, y, z) -b2(t, x, y, z)  b1(t, x, y, z)               0]"
      ]
     },
     "execution_count": 11,
     "metadata": {},
     "output_type": "execute_result"
    }
   ],
   "source": [
    "Fcov= F.down(g)\n",
    "print(Fcov.tensor_type())\n",
    "Fcov.set_name('F')\n",
    "#Fcov.display_comp()\n",
    "Fcov[:]"
   ]
  },
  {
   "cell_type": "markdown",
   "metadata": {},
   "source": [
    "##  Defining $F_{\\alpha\\beta}$ - with function contract()"
   ]
  },
  {
   "cell_type": "code",
   "execution_count": 13,
   "metadata": {},
   "outputs": [
    {
     "name": "stdout",
     "output_type": "stream",
     "text": [
      "(2, 0)\n",
      "(0, 2)\n",
      "(1, 1)\n"
     ]
    },
    {
     "data": {
      "text/html": [
       "<html><script type=\"math/tex; mode=display\">\\newcommand{\\Bold}[1]{\\mathbf{#1}}\\left(\\begin{array}{rrrr}\n",
       "0 & E_{1}\\left(t, x, y, z\\right) & E_2\\left(t, x, y, z\\right) & E_3\\left(t, x, y, z\\right) \\\\\n",
       "E_{1}\\left(t, x, y, z\\right) & 0 & B_3\\left(t, x, y, z\\right) & -B_2\\left(t, x, y, z\\right) \\\\\n",
       "E_2\\left(t, x, y, z\\right) & -B_3\\left(t, x, y, z\\right) & 0 & B_1\\left(t, x, y, z\\right) \\\\\n",
       "E_3\\left(t, x, y, z\\right) & B_2\\left(t, x, y, z\\right) & -B_1\\left(t, x, y, z\\right) & 0\n",
       "\\end{array}\\right)</script></html>"
      ],
      "text/plain": [
       "[              0  E1(t, x, y, z)  e2(t, x, y, z)  e3(t, x, y, z)]\n",
       "[ E1(t, x, y, z)               0  b3(t, x, y, z) -b2(t, x, y, z)]\n",
       "[ e2(t, x, y, z) -b3(t, x, y, z)               0  b1(t, x, y, z)]\n",
       "[ e3(t, x, y, z)  b2(t, x, y, z) -b1(t, x, y, z)               0]"
      ]
     },
     "execution_count": 13,
     "metadata": {},
     "output_type": "execute_result"
    }
   ],
   "source": [
    "test1 = F.contract(0, g,1)\n",
    "print(F.tensor_type())\n",
    "print(g.tensor_type())\n",
    "print(test1.tensor_type())\n",
    "#test1.display_comp(only_nonredundant=True)\n",
    "test1[:]"
   ]
  },
  {
   "cell_type": "code",
   "execution_count": 14,
   "metadata": {},
   "outputs": [
    {
     "name": "stdout",
     "output_type": "stream",
     "text": [
      "(1, 1)\n",
      "(0, 2)\n",
      "(0, 2)\n"
     ]
    },
    {
     "data": {
      "text/html": [
       "<html><script type=\"math/tex; mode=display\">\\newcommand{\\Bold}[1]{\\mathbf{#1}}\\left(\\begin{array}{rrrr}\n",
       "0 & E_{1}\\left(t, x, y, z\\right) & E_2\\left(t, x, y, z\\right) & E_3\\left(t, x, y, z\\right) \\\\\n",
       "-E_{1}\\left(t, x, y, z\\right) & 0 & -B_3\\left(t, x, y, z\\right) & B_2\\left(t, x, y, z\\right) \\\\\n",
       "-E_2\\left(t, x, y, z\\right) & B_3\\left(t, x, y, z\\right) & 0 & -B_1\\left(t, x, y, z\\right) \\\\\n",
       "-E_3\\left(t, x, y, z\\right) & -B_2\\left(t, x, y, z\\right) & B_1\\left(t, x, y, z\\right) & 0\n",
       "\\end{array}\\right)</script></html>"
      ],
      "text/plain": [
       "[              0  E1(t, x, y, z)  e2(t, x, y, z)  e3(t, x, y, z)]\n",
       "[-E1(t, x, y, z)               0 -b3(t, x, y, z)  b2(t, x, y, z)]\n",
       "[-e2(t, x, y, z)  b3(t, x, y, z)               0 -b1(t, x, y, z)]\n",
       "[-e3(t, x, y, z) -b2(t, x, y, z)  b1(t, x, y, z)               0]"
      ]
     },
     "execution_count": 14,
     "metadata": {},
     "output_type": "execute_result"
    }
   ],
   "source": [
    "test2 = test1.contract(0, g,1)\n",
    "print(test1.tensor_type())\n",
    "print(g.tensor_type())\n",
    "print(test2.tensor_type())\n",
    "#test2.display_comp(only_nonredundant=True)\n",
    "test2[:]"
   ]
  },
  {
   "cell_type": "markdown",
   "metadata": {},
   "source": [
    "##  Defining $F_{\\alpha\\beta}$ - with Einstein sum notation\n"
   ]
  },
  {
   "cell_type": "code",
   "execution_count": 15,
   "metadata": {},
   "outputs": [
    {
     "data": {
      "text/html": [
       "<html><script type=\"math/tex; mode=display\">\\newcommand{\\Bold}[1]{\\mathbf{#1}}\\left(\\begin{array}{rrrr}\n",
       "0 & E_{1}\\left(t, x, y, z\\right) & E_2\\left(t, x, y, z\\right) & E_3\\left(t, x, y, z\\right) \\\\\n",
       "-E_{1}\\left(t, x, y, z\\right) & 0 & -B_3\\left(t, x, y, z\\right) & B_2\\left(t, x, y, z\\right) \\\\\n",
       "-E_2\\left(t, x, y, z\\right) & B_3\\left(t, x, y, z\\right) & 0 & -B_1\\left(t, x, y, z\\right) \\\\\n",
       "-E_3\\left(t, x, y, z\\right) & -B_2\\left(t, x, y, z\\right) & B_1\\left(t, x, y, z\\right) & 0\n",
       "\\end{array}\\right)</script></html>"
      ],
      "text/plain": [
       "[              0  E1(t, x, y, z)  e2(t, x, y, z)  e3(t, x, y, z)]\n",
       "[-E1(t, x, y, z)               0 -b3(t, x, y, z)  b2(t, x, y, z)]\n",
       "[-e2(t, x, y, z)  b3(t, x, y, z)               0 -b1(t, x, y, z)]\n",
       "[-e3(t, x, y, z) -b2(t, x, y, z)  b1(t, x, y, z)               0]"
      ]
     },
     "execution_count": 15,
     "metadata": {},
     "output_type": "execute_result"
    }
   ],
   "source": [
    "check1 = F['^{ab}'] * g['_{bk}']\n",
    "check2 = g['_{aq}']*check1['^a_k']\n",
    "check2[:]"
   ]
  },
  {
   "cell_type": "markdown",
   "metadata": {},
   "source": [
    "## Check for $F_{\\alpha\\beta} F^{\\alpha\\beta}$\n",
    "\n",
    "\\begin{equation}\n",
    "F_{\\mu\\nu} F^{\\mu\\nu} = 2\\left(B^2 - \\frac{E^2}{c^2}\\right)\n",
    "\\end{equation}"
   ]
  },
  {
   "cell_type": "code",
   "execution_count": 17,
   "metadata": {},
   "outputs": [
    {
     "data": {
      "text/html": [
       "<html><script type=\"math/tex; mode=display\">\\newcommand{\\Bold}[1]{\\mathbf{#1}}\\begin{array}{llcl} & M & \\longrightarrow & \\mathbb{R} \\\\ & \\left(t, x, y, z\\right) & \\longmapsto & -2 \\, E_{1}\\left(t, x, y, z\\right)^{2} + 2 \\, B_1\\left(t, x, y, z\\right)^{2} + 2 \\, B_2\\left(t, x, y, z\\right)^{2} + 2 \\, B_3\\left(t, x, y, z\\right)^{2} - 2 \\, E_2\\left(t, x, y, z\\right)^{2} - 2 \\, E_3\\left(t, x, y, z\\right)^{2} \\end{array}</script></html>"
      ],
      "text/plain": [
       "M --> R\n",
       "(t, x, y, z) |--> -2*E1(t, x, y, z)^2 + 2*b1(t, x, y, z)^2 + 2*b2(t, x, y, z)^2 + 2*b3(t, x, y, z)^2 - 2*e2(t, x, y, z)^2 - 2*e3(t, x, y, z)^2"
      ]
     },
     "execution_count": 17,
     "metadata": {},
     "output_type": "execute_result"
    }
   ],
   "source": [
    "scalar = F['^{ab}'] * Fcov['_{ab}']\n",
    "scalar.display()"
   ]
  },
  {
   "cell_type": "markdown",
   "metadata": {},
   "source": [
    "# Electromagnetic stress–energy tensor\n",
    "\n",
    "\n",
    "\\begin{equation}\n",
    "T^{\\mu\\nu} = F^{\\mu\\alpha}F^\\nu{}_{\\alpha}\n",
    "-\\frac{1}{4} g^{\\mu\\nu} F_{\\alpha\\beta} F^{\\alpha\\beta}\\,.\n",
    "\\end{equation}\n",
    "\n",
    "Explicitly in matrix form:\n",
    "\n",
    "\\begin{equation*}\n",
    "T^{\\alpha \\sigma} =\n",
    "\\begin{pmatrix}\n",
    "\\frac{1}{2}(E^2 + B^2) & S_x/c        & S_y/c        & S_z/c        \\\\\n",
    "S_x/c                  & -\\sigma_{xx} & -\\sigma_{xy} & -\\sigma_{xz} \\\\\n",
    "S_y/c                  & -\\sigma_{yx} & -\\sigma_{yy} & -\\sigma_{yz} \\\\\n",
    "S_z/c                  & -\\sigma_{zx} & -\\sigma_{zy} & -\\sigma_{zz}\n",
    "\\end{pmatrix}\n",
    "\\end{equation*}\n",
    "\n",
    "where\n",
    "\n",
    "\\begin{equation}\n",
    "\\mathbf{S} = \\mathbf{E} \\times \\mathbf{B}\n",
    "\\end{equation}\n",
    "\n",
    "is the Poynting vector,\n",
    "\n",
    "\\begin{equation}\n",
    "\\sigma_{\\mu \\nu} = E_\\mu E_\\nu + B_\\mu B_\\nu - \\frac{1}{2}\\left(E^2 + B^{2}\\right)\\delta _{\\mu\\nu} \\, ,\n",
    "\\end{equation}\n",
    "\n",
    "in matrix form\n",
    "\n",
    "\\begin{equation*}\n",
    "\\sigma =\n",
    "\\begin{pmatrix}\n",
    "E_1 E_1 + B_1 B_1 - \\frac{1}{2}\\left(E^2 + B^{2}\\right) & E_1 E_2 + B_1 B_2  &  E_1 E_3 + B_1 B_3  \\\\\n",
    "E_2 E_1 + B_2 B_1 & E_2 E_2 + B_2 B_2 - \\frac{1}{2}\\left(E^2 + B^{2}\\right)  & E_2 E_3 + B_2 B_3   \\\\\n",
    "E_3 E_1 + B_3 B_1 &  E_3 E_2 + B_3 B_2  &  E_3 E_3 + B_3 B_3 - \\frac{1}{2}\\left(E^2 + B^{2}\\right)  \n",
    "\\end{pmatrix}\n",
    "\\end{equation*}"
   ]
  },
  {
   "cell_type": "code",
   "execution_count": 27,
   "metadata": {},
   "outputs": [
    {
     "name": "stdout",
     "output_type": "stream",
     "text": [
      "(1, 1)\n"
     ]
    },
    {
     "data": {
      "text/html": [
       "<html><script type=\"math/tex; mode=display\">\\newcommand{\\Bold}[1]{\\mathbf{#1}}\\left(\\begin{array}{rrrr}\n",
       "0 & -E_{1}\\left(t, x, y, z\\right) & -E_2\\left(t, x, y, z\\right) & -E_3\\left(t, x, y, z\\right) \\\\\n",
       "-E_{1}\\left(t, x, y, z\\right) & 0 & -B_3\\left(t, x, y, z\\right) & B_2\\left(t, x, y, z\\right) \\\\\n",
       "-E_2\\left(t, x, y, z\\right) & B_3\\left(t, x, y, z\\right) & 0 & -B_1\\left(t, x, y, z\\right) \\\\\n",
       "-E_3\\left(t, x, y, z\\right) & -B_2\\left(t, x, y, z\\right) & B_1\\left(t, x, y, z\\right) & 0\n",
       "\\end{array}\\right)</script></html>"
      ],
      "text/plain": [
       "[              0 -E1(t, x, y, z) -e2(t, x, y, z) -e3(t, x, y, z)]\n",
       "[-E1(t, x, y, z)               0 -b3(t, x, y, z)  b2(t, x, y, z)]\n",
       "[-e2(t, x, y, z)  b3(t, x, y, z)               0 -b1(t, x, y, z)]\n",
       "[-e3(t, x, y, z) -b2(t, x, y, z)  b1(t, x, y, z)               0]"
      ]
     },
     "execution_count": 27,
     "metadata": {},
     "output_type": "execute_result"
    }
   ],
   "source": [
    "Fmix = F['^{ab}'] * g['_{cb}']\n",
    "print(Fmix.tensor_type())\n",
    "Fmix[:]"
   ]
  },
  {
   "cell_type": "code",
   "execution_count": 30,
   "metadata": {},
   "outputs": [
    {
     "name": "stdout",
     "output_type": "stream",
     "text": [
      "Tensor field T of type (2,0) on the 4-dimensional Lorentzian manifold M\n",
      "(2, 0)\n"
     ]
    },
    {
     "data": {
      "text/html": [
       "<html><script type=\"math/tex; mode=display\">\\newcommand{\\Bold}[1]{\\mathbf{#1}}\\begin{array}{lcl} T_{\\phantom{\\, t}\\phantom{\\, t}}^{ \\, t \\, t } & = & E_{1}\\left(t, x, y, z\\right)^{2} + E_2\\left(t, x, y, z\\right)^{2} + E_3\\left(t, x, y, z\\right)^{2} \\\\ T_{\\phantom{\\, t}\\phantom{\\, x}}^{ \\, t \\, x } & = & B_3\\left(t, x, y, z\\right) E_2\\left(t, x, y, z\\right) - B_2\\left(t, x, y, z\\right) E_3\\left(t, x, y, z\\right) \\\\ T_{\\phantom{\\, t}\\phantom{\\, y}}^{ \\, t \\, y } & = & -E_{1}\\left(t, x, y, z\\right) B_3\\left(t, x, y, z\\right) + B_1\\left(t, x, y, z\\right) E_3\\left(t, x, y, z\\right) \\\\ T_{\\phantom{\\, t}\\phantom{\\, z}}^{ \\, t \\, z } & = & E_{1}\\left(t, x, y, z\\right) B_2\\left(t, x, y, z\\right) - B_1\\left(t, x, y, z\\right) E_2\\left(t, x, y, z\\right) \\\\ T_{\\phantom{\\, x}\\phantom{\\, t}}^{ \\, x \\, t } & = & B_3\\left(t, x, y, z\\right) E_2\\left(t, x, y, z\\right) - B_2\\left(t, x, y, z\\right) E_3\\left(t, x, y, z\\right) \\\\ T_{\\phantom{\\, x}\\phantom{\\, x}}^{ \\, x \\, x } & = & -E_{1}\\left(t, x, y, z\\right)^{2} + B_2\\left(t, x, y, z\\right)^{2} + B_3\\left(t, x, y, z\\right)^{2} \\\\ T_{\\phantom{\\, x}\\phantom{\\, y}}^{ \\, x \\, y } & = & -B_1\\left(t, x, y, z\\right) B_2\\left(t, x, y, z\\right) - E_{1}\\left(t, x, y, z\\right) E_2\\left(t, x, y, z\\right) \\\\ T_{\\phantom{\\, x}\\phantom{\\, z}}^{ \\, x \\, z } & = & -B_1\\left(t, x, y, z\\right) B_3\\left(t, x, y, z\\right) - E_{1}\\left(t, x, y, z\\right) E_3\\left(t, x, y, z\\right) \\\\ T_{\\phantom{\\, y}\\phantom{\\, t}}^{ \\, y \\, t } & = & -E_{1}\\left(t, x, y, z\\right) B_3\\left(t, x, y, z\\right) + B_1\\left(t, x, y, z\\right) E_3\\left(t, x, y, z\\right) \\\\ T_{\\phantom{\\, y}\\phantom{\\, x}}^{ \\, y \\, x } & = & -B_1\\left(t, x, y, z\\right) B_2\\left(t, x, y, z\\right) - E_{1}\\left(t, x, y, z\\right) E_2\\left(t, x, y, z\\right) \\\\ T_{\\phantom{\\, y}\\phantom{\\, y}}^{ \\, y \\, y } & = & B_1\\left(t, x, y, z\\right)^{2} + B_3\\left(t, x, y, z\\right)^{2} - E_2\\left(t, x, y, z\\right)^{2} \\\\ T_{\\phantom{\\, y}\\phantom{\\, z}}^{ \\, y \\, z } & = & -B_2\\left(t, x, y, z\\right) B_3\\left(t, x, y, z\\right) - E_2\\left(t, x, y, z\\right) E_3\\left(t, x, y, z\\right) \\\\ T_{\\phantom{\\, z}\\phantom{\\, t}}^{ \\, z \\, t } & = & E_{1}\\left(t, x, y, z\\right) B_2\\left(t, x, y, z\\right) - B_1\\left(t, x, y, z\\right) E_2\\left(t, x, y, z\\right) \\\\ T_{\\phantom{\\, z}\\phantom{\\, x}}^{ \\, z \\, x } & = & -B_1\\left(t, x, y, z\\right) B_3\\left(t, x, y, z\\right) - E_{1}\\left(t, x, y, z\\right) E_3\\left(t, x, y, z\\right) \\\\ T_{\\phantom{\\, z}\\phantom{\\, y}}^{ \\, z \\, y } & = & -B_2\\left(t, x, y, z\\right) B_3\\left(t, x, y, z\\right) - E_2\\left(t, x, y, z\\right) E_3\\left(t, x, y, z\\right) \\\\ T_{\\phantom{\\, z}\\phantom{\\, z}}^{ \\, z \\, z } & = & B_1\\left(t, x, y, z\\right)^{2} + B_2\\left(t, x, y, z\\right)^{2} - E_3\\left(t, x, y, z\\right)^{2} \\end{array}</script></html>"
      ],
      "text/plain": [
       "T^tt = E1(t, x, y, z)^2 + e2(t, x, y, z)^2 + e3(t, x, y, z)^2 \n",
       "T^tx = b3(t, x, y, z)*e2(t, x, y, z) - b2(t, x, y, z)*e3(t, x, y, z) \n",
       "T^ty = -E1(t, x, y, z)*b3(t, x, y, z) + b1(t, x, y, z)*e3(t, x, y, z) \n",
       "T^tz = E1(t, x, y, z)*b2(t, x, y, z) - b1(t, x, y, z)*e2(t, x, y, z) \n",
       "T^xt = b3(t, x, y, z)*e2(t, x, y, z) - b2(t, x, y, z)*e3(t, x, y, z) \n",
       "T^xx = -E1(t, x, y, z)^2 + b2(t, x, y, z)^2 + b3(t, x, y, z)^2 \n",
       "T^xy = -b1(t, x, y, z)*b2(t, x, y, z) - E1(t, x, y, z)*e2(t, x, y, z) \n",
       "T^xz = -b1(t, x, y, z)*b3(t, x, y, z) - E1(t, x, y, z)*e3(t, x, y, z) \n",
       "T^yt = -E1(t, x, y, z)*b3(t, x, y, z) + b1(t, x, y, z)*e3(t, x, y, z) \n",
       "T^yx = -b1(t, x, y, z)*b2(t, x, y, z) - E1(t, x, y, z)*e2(t, x, y, z) \n",
       "T^yy = b1(t, x, y, z)^2 + b3(t, x, y, z)^2 - e2(t, x, y, z)^2 \n",
       "T^yz = -b2(t, x, y, z)*b3(t, x, y, z) - e2(t, x, y, z)*e3(t, x, y, z) \n",
       "T^zt = E1(t, x, y, z)*b2(t, x, y, z) - b1(t, x, y, z)*e2(t, x, y, z) \n",
       "T^zx = -b1(t, x, y, z)*b3(t, x, y, z) - E1(t, x, y, z)*e3(t, x, y, z) \n",
       "T^zy = -b2(t, x, y, z)*b3(t, x, y, z) - e2(t, x, y, z)*e3(t, x, y, z) \n",
       "T^zz = b1(t, x, y, z)^2 + b2(t, x, y, z)^2 - e3(t, x, y, z)^2 "
      ]
     },
     "execution_count": 30,
     "metadata": {},
     "output_type": "execute_result"
    }
   ],
   "source": [
    "T1 = F['^{ab}'] * Fmix['^c_b']\n",
    "T1.set_name('T')\n",
    "print(T1)\n",
    "print(T1.tensor_type())\n",
    "T1.display_comp(only_nonredundant=True)"
   ]
  },
  {
   "cell_type": "code",
   "execution_count": 32,
   "metadata": {},
   "outputs": [
    {
     "name": "stdout",
     "output_type": "stream",
     "text": [
      "Tensor field T of type (2,0) on the 4-dimensional Lorentzian manifold M\n",
      "(2, 0)\n"
     ]
    },
    {
     "data": {
      "text/html": [
       "<html><script type=\"math/tex; mode=display\">\\newcommand{\\Bold}[1]{\\mathbf{#1}}\\begin{array}{lcl} T_{\\phantom{\\, t}\\phantom{\\, t}}^{ \\, t \\, t } & = & 2 \\, E_{1}\\left(t, x, y, z\\right)^{2} - 2 \\, B_1\\left(t, x, y, z\\right)^{2} - 2 \\, B_2\\left(t, x, y, z\\right)^{2} - 2 \\, B_3\\left(t, x, y, z\\right)^{2} + 2 \\, E_2\\left(t, x, y, z\\right)^{2} + 2 \\, E_3\\left(t, x, y, z\\right)^{2} \\\\ T_{\\phantom{\\, x}\\phantom{\\, x}}^{ \\, x \\, x } & = & -2 \\, E_{1}\\left(t, x, y, z\\right)^{2} + 2 \\, B_1\\left(t, x, y, z\\right)^{2} + 2 \\, B_2\\left(t, x, y, z\\right)^{2} + 2 \\, B_3\\left(t, x, y, z\\right)^{2} - 2 \\, E_2\\left(t, x, y, z\\right)^{2} - 2 \\, E_3\\left(t, x, y, z\\right)^{2} \\\\ T_{\\phantom{\\, y}\\phantom{\\, y}}^{ \\, y \\, y } & = & -2 \\, E_{1}\\left(t, x, y, z\\right)^{2} + 2 \\, B_1\\left(t, x, y, z\\right)^{2} + 2 \\, B_2\\left(t, x, y, z\\right)^{2} + 2 \\, B_3\\left(t, x, y, z\\right)^{2} - 2 \\, E_2\\left(t, x, y, z\\right)^{2} - 2 \\, E_3\\left(t, x, y, z\\right)^{2} \\\\ T_{\\phantom{\\, z}\\phantom{\\, z}}^{ \\, z \\, z } & = & -2 \\, E_{1}\\left(t, x, y, z\\right)^{2} + 2 \\, B_1\\left(t, x, y, z\\right)^{2} + 2 \\, B_2\\left(t, x, y, z\\right)^{2} + 2 \\, B_3\\left(t, x, y, z\\right)^{2} - 2 \\, E_2\\left(t, x, y, z\\right)^{2} - 2 \\, E_3\\left(t, x, y, z\\right)^{2} \\end{array}</script></html>"
      ],
      "text/plain": [
       "T^tt = 2*E1(t, x, y, z)^2 - 2*b1(t, x, y, z)^2 - 2*b2(t, x, y, z)^2 - 2*b3(t, x, y, z)^2 + 2*e2(t, x, y, z)^2 + 2*e3(t, x, y, z)^2 \n",
       "T^xx = -2*E1(t, x, y, z)^2 + 2*b1(t, x, y, z)^2 + 2*b2(t, x, y, z)^2 + 2*b3(t, x, y, z)^2 - 2*e2(t, x, y, z)^2 - 2*e3(t, x, y, z)^2 \n",
       "T^yy = -2*E1(t, x, y, z)^2 + 2*b1(t, x, y, z)^2 + 2*b2(t, x, y, z)^2 + 2*b3(t, x, y, z)^2 - 2*e2(t, x, y, z)^2 - 2*e3(t, x, y, z)^2 \n",
       "T^zz = -2*E1(t, x, y, z)^2 + 2*b1(t, x, y, z)^2 + 2*b2(t, x, y, z)^2 + 2*b3(t, x, y, z)^2 - 2*e2(t, x, y, z)^2 - 2*e3(t, x, y, z)^2 "
      ]
     },
     "execution_count": 32,
     "metadata": {},
     "output_type": "execute_result"
    }
   ],
   "source": [
    "T2 = gg * scalar\n",
    "T2.set_name('T')\n",
    "print(T2)\n",
    "print(T2.tensor_type())\n",
    "T2.display_comp(only_nonredundant=True)"
   ]
  },
  {
   "cell_type": "markdown",
   "metadata": {},
   "source": [
    "## Defining the Tensor $T^{\\mu\\nu}$\n",
    "\n",
    "\\begin{equation}\n",
    "T^{\\mu\\nu} = F^{\\mu\\alpha}F^\\nu{}_{\\alpha}\n",
    "-\\frac{1}{4} g^{\\mu\\nu} F_{\\alpha\\beta} F^{\\alpha\\beta}\\,.\n",
    "\\end{equation}\n",
    "\n",
    "Explicitly in matrix form:\n",
    "\n",
    "\\begin{equation*}\n",
    "T^{\\alpha \\sigma} =\n",
    "\\begin{pmatrix}\n",
    "\\frac{1}{2}(E^2 + B^2) & S_x/c        & S_y/c        & S_z/c        \\\\\n",
    "S_x/c                  & -\\sigma_{xx} & -\\sigma_{xy} & -\\sigma_{xz} \\\\\n",
    "S_y/c                  & -\\sigma_{yx} & -\\sigma_{yy} & -\\sigma_{yz} \\\\\n",
    "S_z/c                  & -\\sigma_{zx} & -\\sigma_{zy} & -\\sigma_{zz}\n",
    "\\end{pmatrix}\n",
    "\\end{equation*}"
   ]
  },
  {
   "cell_type": "code",
   "execution_count": 33,
   "metadata": {},
   "outputs": [
    {
     "name": "stdout",
     "output_type": "stream",
     "text": [
      "Tensor field T of type (2,0) on the 4-dimensional Lorentzian manifold M\n",
      "(2, 0)\n"
     ]
    },
    {
     "data": {
      "text/html": [
       "<html><script type=\"math/tex; mode=display\">\\newcommand{\\Bold}[1]{\\mathbf{#1}}\\begin{array}{lcl} T_{\\phantom{\\, t}\\phantom{\\, t}}^{ \\, t \\, t } & = & \\frac{1}{2} \\, E_{1}\\left(t, x, y, z\\right)^{2} + \\frac{1}{2} \\, B_1\\left(t, x, y, z\\right)^{2} + \\frac{1}{2} \\, B_2\\left(t, x, y, z\\right)^{2} + \\frac{1}{2} \\, B_3\\left(t, x, y, z\\right)^{2} + \\frac{1}{2} \\, E_2\\left(t, x, y, z\\right)^{2} + \\frac{1}{2} \\, E_3\\left(t, x, y, z\\right)^{2} \\\\ T_{\\phantom{\\, t}\\phantom{\\, x}}^{ \\, t \\, x } & = & B_3\\left(t, x, y, z\\right) E_2\\left(t, x, y, z\\right) - B_2\\left(t, x, y, z\\right) E_3\\left(t, x, y, z\\right) \\\\ T_{\\phantom{\\, t}\\phantom{\\, y}}^{ \\, t \\, y } & = & -E_{1}\\left(t, x, y, z\\right) B_3\\left(t, x, y, z\\right) + B_1\\left(t, x, y, z\\right) E_3\\left(t, x, y, z\\right) \\\\ T_{\\phantom{\\, t}\\phantom{\\, z}}^{ \\, t \\, z } & = & E_{1}\\left(t, x, y, z\\right) B_2\\left(t, x, y, z\\right) - B_1\\left(t, x, y, z\\right) E_2\\left(t, x, y, z\\right) \\\\ T_{\\phantom{\\, x}\\phantom{\\, t}}^{ \\, x \\, t } & = & B_3\\left(t, x, y, z\\right) E_2\\left(t, x, y, z\\right) - B_2\\left(t, x, y, z\\right) E_3\\left(t, x, y, z\\right) \\\\ T_{\\phantom{\\, x}\\phantom{\\, x}}^{ \\, x \\, x } & = & -\\frac{1}{2} \\, E_{1}\\left(t, x, y, z\\right)^{2} - \\frac{1}{2} \\, B_1\\left(t, x, y, z\\right)^{2} + \\frac{1}{2} \\, B_2\\left(t, x, y, z\\right)^{2} + \\frac{1}{2} \\, B_3\\left(t, x, y, z\\right)^{2} + \\frac{1}{2} \\, E_2\\left(t, x, y, z\\right)^{2} + \\frac{1}{2} \\, E_3\\left(t, x, y, z\\right)^{2} \\\\ T_{\\phantom{\\, x}\\phantom{\\, y}}^{ \\, x \\, y } & = & -B_1\\left(t, x, y, z\\right) B_2\\left(t, x, y, z\\right) - E_{1}\\left(t, x, y, z\\right) E_2\\left(t, x, y, z\\right) \\\\ T_{\\phantom{\\, x}\\phantom{\\, z}}^{ \\, x \\, z } & = & -B_1\\left(t, x, y, z\\right) B_3\\left(t, x, y, z\\right) - E_{1}\\left(t, x, y, z\\right) E_3\\left(t, x, y, z\\right) \\\\ T_{\\phantom{\\, y}\\phantom{\\, t}}^{ \\, y \\, t } & = & -E_{1}\\left(t, x, y, z\\right) B_3\\left(t, x, y, z\\right) + B_1\\left(t, x, y, z\\right) E_3\\left(t, x, y, z\\right) \\\\ T_{\\phantom{\\, y}\\phantom{\\, x}}^{ \\, y \\, x } & = & -B_1\\left(t, x, y, z\\right) B_2\\left(t, x, y, z\\right) - E_{1}\\left(t, x, y, z\\right) E_2\\left(t, x, y, z\\right) \\\\ T_{\\phantom{\\, y}\\phantom{\\, y}}^{ \\, y \\, y } & = & \\frac{1}{2} \\, E_{1}\\left(t, x, y, z\\right)^{2} + \\frac{1}{2} \\, B_1\\left(t, x, y, z\\right)^{2} - \\frac{1}{2} \\, B_2\\left(t, x, y, z\\right)^{2} + \\frac{1}{2} \\, B_3\\left(t, x, y, z\\right)^{2} - \\frac{1}{2} \\, E_2\\left(t, x, y, z\\right)^{2} + \\frac{1}{2} \\, E_3\\left(t, x, y, z\\right)^{2} \\\\ T_{\\phantom{\\, y}\\phantom{\\, z}}^{ \\, y \\, z } & = & -B_2\\left(t, x, y, z\\right) B_3\\left(t, x, y, z\\right) - E_2\\left(t, x, y, z\\right) E_3\\left(t, x, y, z\\right) \\\\ T_{\\phantom{\\, z}\\phantom{\\, t}}^{ \\, z \\, t } & = & E_{1}\\left(t, x, y, z\\right) B_2\\left(t, x, y, z\\right) - B_1\\left(t, x, y, z\\right) E_2\\left(t, x, y, z\\right) \\\\ T_{\\phantom{\\, z}\\phantom{\\, x}}^{ \\, z \\, x } & = & -B_1\\left(t, x, y, z\\right) B_3\\left(t, x, y, z\\right) - E_{1}\\left(t, x, y, z\\right) E_3\\left(t, x, y, z\\right) \\\\ T_{\\phantom{\\, z}\\phantom{\\, y}}^{ \\, z \\, y } & = & -B_2\\left(t, x, y, z\\right) B_3\\left(t, x, y, z\\right) - E_2\\left(t, x, y, z\\right) E_3\\left(t, x, y, z\\right) \\\\ T_{\\phantom{\\, z}\\phantom{\\, z}}^{ \\, z \\, z } & = & \\frac{1}{2} \\, E_{1}\\left(t, x, y, z\\right)^{2} + \\frac{1}{2} \\, B_1\\left(t, x, y, z\\right)^{2} + \\frac{1}{2} \\, B_2\\left(t, x, y, z\\right)^{2} - \\frac{1}{2} \\, B_3\\left(t, x, y, z\\right)^{2} + \\frac{1}{2} \\, E_2\\left(t, x, y, z\\right)^{2} - \\frac{1}{2} \\, E_3\\left(t, x, y, z\\right)^{2} \\end{array}</script></html>"
      ],
      "text/plain": [
       "T^tt = 1/2*E1(t, x, y, z)^2 + 1/2*b1(t, x, y, z)^2 + 1/2*b2(t, x, y, z)^2 + 1/2*b3(t, x, y, z)^2 + 1/2*e2(t, x, y, z)^2 + 1/2*e3(t, x, y, z)^2 \n",
       "T^tx = b3(t, x, y, z)*e2(t, x, y, z) - b2(t, x, y, z)*e3(t, x, y, z) \n",
       "T^ty = -E1(t, x, y, z)*b3(t, x, y, z) + b1(t, x, y, z)*e3(t, x, y, z) \n",
       "T^tz = E1(t, x, y, z)*b2(t, x, y, z) - b1(t, x, y, z)*e2(t, x, y, z) \n",
       "T^xt = b3(t, x, y, z)*e2(t, x, y, z) - b2(t, x, y, z)*e3(t, x, y, z) \n",
       "T^xx = -1/2*E1(t, x, y, z)^2 - 1/2*b1(t, x, y, z)^2 + 1/2*b2(t, x, y, z)^2 + 1/2*b3(t, x, y, z)^2 + 1/2*e2(t, x, y, z)^2 + 1/2*e3(t, x, y, z)^2 \n",
       "T^xy = -b1(t, x, y, z)*b2(t, x, y, z) - E1(t, x, y, z)*e2(t, x, y, z) \n",
       "T^xz = -b1(t, x, y, z)*b3(t, x, y, z) - E1(t, x, y, z)*e3(t, x, y, z) \n",
       "T^yt = -E1(t, x, y, z)*b3(t, x, y, z) + b1(t, x, y, z)*e3(t, x, y, z) \n",
       "T^yx = -b1(t, x, y, z)*b2(t, x, y, z) - E1(t, x, y, z)*e2(t, x, y, z) \n",
       "T^yy = 1/2*E1(t, x, y, z)^2 + 1/2*b1(t, x, y, z)^2 - 1/2*b2(t, x, y, z)^2 + 1/2*b3(t, x, y, z)^2 - 1/2*e2(t, x, y, z)^2 + 1/2*e3(t, x, y, z)^2 \n",
       "T^yz = -b2(t, x, y, z)*b3(t, x, y, z) - e2(t, x, y, z)*e3(t, x, y, z) \n",
       "T^zt = E1(t, x, y, z)*b2(t, x, y, z) - b1(t, x, y, z)*e2(t, x, y, z) \n",
       "T^zx = -b1(t, x, y, z)*b3(t, x, y, z) - E1(t, x, y, z)*e3(t, x, y, z) \n",
       "T^zy = -b2(t, x, y, z)*b3(t, x, y, z) - e2(t, x, y, z)*e3(t, x, y, z) \n",
       "T^zz = 1/2*E1(t, x, y, z)^2 + 1/2*b1(t, x, y, z)^2 + 1/2*b2(t, x, y, z)^2 - 1/2*b3(t, x, y, z)^2 + 1/2*e2(t, x, y, z)^2 - 1/2*e3(t, x, y, z)^2 "
      ]
     },
     "execution_count": 33,
     "metadata": {},
     "output_type": "execute_result"
    }
   ],
   "source": [
    "T = T1 - T2/4\n",
    "T.set_name('T')\n",
    "print(T)\n",
    "print(T.tensor_type())\n",
    "T.display_comp(only_nonredundant=True)"
   ]
  },
  {
   "cell_type": "markdown",
   "metadata": {},
   "source": [
    "## Defining $T_{\\mu\\nu}$\n",
    "\n",
    "\\begin{equation*}\n",
    "T^{\\alpha \\sigma} =\n",
    "\\begin{pmatrix}\n",
    "\\frac{1}{2}(E^2 + B^2) & -S_x/c       & -S_y/c       & -S_z/c       \\\\\n",
    "-S_x/c                 & -\\sigma_{xx} & -\\sigma_{xy} & -\\sigma_{xz} \\\\\n",
    "-S_y/c                 & -\\sigma_{yx} & -\\sigma_{yy} & -\\sigma_{yz} \\\\\n",
    "-S_z/c                 & -\\sigma_{zx} & -\\sigma_{zy} & -\\sigma_{zz}\n",
    "\\end{pmatrix}\n",
    "\\end{equation*}"
   ]
  },
  {
   "cell_type": "code",
   "execution_count": 34,
   "metadata": {},
   "outputs": [
    {
     "name": "stdout",
     "output_type": "stream",
     "text": [
      "(0, 2)\n"
     ]
    },
    {
     "data": {
      "text/html": [
       "<html><script type=\"math/tex; mode=display\">\\newcommand{\\Bold}[1]{\\mathbf{#1}}\\begin{array}{lcl} T_{ \\, t \\, t }^{ \\phantom{\\, t}\\phantom{\\, t} } & = & \\frac{1}{2} \\, E_{1}\\left(t, x, y, z\\right)^{2} + \\frac{1}{2} \\, B_1\\left(t, x, y, z\\right)^{2} + \\frac{1}{2} \\, B_2\\left(t, x, y, z\\right)^{2} + \\frac{1}{2} \\, B_3\\left(t, x, y, z\\right)^{2} + \\frac{1}{2} \\, E_2\\left(t, x, y, z\\right)^{2} + \\frac{1}{2} \\, E_3\\left(t, x, y, z\\right)^{2} \\\\ T_{ \\, t \\, x }^{ \\phantom{\\, t}\\phantom{\\, x} } & = & -B_3\\left(t, x, y, z\\right) E_2\\left(t, x, y, z\\right) + B_2\\left(t, x, y, z\\right) E_3\\left(t, x, y, z\\right) \\\\ T_{ \\, t \\, y }^{ \\phantom{\\, t}\\phantom{\\, y} } & = & E_{1}\\left(t, x, y, z\\right) B_3\\left(t, x, y, z\\right) - B_1\\left(t, x, y, z\\right) E_3\\left(t, x, y, z\\right) \\\\ T_{ \\, t \\, z }^{ \\phantom{\\, t}\\phantom{\\, z} } & = & -E_{1}\\left(t, x, y, z\\right) B_2\\left(t, x, y, z\\right) + B_1\\left(t, x, y, z\\right) E_2\\left(t, x, y, z\\right) \\\\ T_{ \\, x \\, t }^{ \\phantom{\\, x}\\phantom{\\, t} } & = & -B_3\\left(t, x, y, z\\right) E_2\\left(t, x, y, z\\right) + B_2\\left(t, x, y, z\\right) E_3\\left(t, x, y, z\\right) \\\\ T_{ \\, x \\, x }^{ \\phantom{\\, x}\\phantom{\\, x} } & = & -\\frac{1}{2} \\, E_{1}\\left(t, x, y, z\\right)^{2} - \\frac{1}{2} \\, B_1\\left(t, x, y, z\\right)^{2} + \\frac{1}{2} \\, B_2\\left(t, x, y, z\\right)^{2} + \\frac{1}{2} \\, B_3\\left(t, x, y, z\\right)^{2} + \\frac{1}{2} \\, E_2\\left(t, x, y, z\\right)^{2} + \\frac{1}{2} \\, E_3\\left(t, x, y, z\\right)^{2} \\\\ T_{ \\, x \\, y }^{ \\phantom{\\, x}\\phantom{\\, y} } & = & -B_1\\left(t, x, y, z\\right) B_2\\left(t, x, y, z\\right) - E_{1}\\left(t, x, y, z\\right) E_2\\left(t, x, y, z\\right) \\\\ T_{ \\, x \\, z }^{ \\phantom{\\, x}\\phantom{\\, z} } & = & -B_1\\left(t, x, y, z\\right) B_3\\left(t, x, y, z\\right) - E_{1}\\left(t, x, y, z\\right) E_3\\left(t, x, y, z\\right) \\\\ T_{ \\, y \\, t }^{ \\phantom{\\, y}\\phantom{\\, t} } & = & E_{1}\\left(t, x, y, z\\right) B_3\\left(t, x, y, z\\right) - B_1\\left(t, x, y, z\\right) E_3\\left(t, x, y, z\\right) \\\\ T_{ \\, y \\, x }^{ \\phantom{\\, y}\\phantom{\\, x} } & = & -B_1\\left(t, x, y, z\\right) B_2\\left(t, x, y, z\\right) - E_{1}\\left(t, x, y, z\\right) E_2\\left(t, x, y, z\\right) \\\\ T_{ \\, y \\, y }^{ \\phantom{\\, y}\\phantom{\\, y} } & = & \\frac{1}{2} \\, E_{1}\\left(t, x, y, z\\right)^{2} + \\frac{1}{2} \\, B_1\\left(t, x, y, z\\right)^{2} - \\frac{1}{2} \\, B_2\\left(t, x, y, z\\right)^{2} + \\frac{1}{2} \\, B_3\\left(t, x, y, z\\right)^{2} - \\frac{1}{2} \\, E_2\\left(t, x, y, z\\right)^{2} + \\frac{1}{2} \\, E_3\\left(t, x, y, z\\right)^{2} \\\\ T_{ \\, y \\, z }^{ \\phantom{\\, y}\\phantom{\\, z} } & = & -B_2\\left(t, x, y, z\\right) B_3\\left(t, x, y, z\\right) - E_2\\left(t, x, y, z\\right) E_3\\left(t, x, y, z\\right) \\\\ T_{ \\, z \\, t }^{ \\phantom{\\, z}\\phantom{\\, t} } & = & -E_{1}\\left(t, x, y, z\\right) B_2\\left(t, x, y, z\\right) + B_1\\left(t, x, y, z\\right) E_2\\left(t, x, y, z\\right) \\\\ T_{ \\, z \\, x }^{ \\phantom{\\, z}\\phantom{\\, x} } & = & -B_1\\left(t, x, y, z\\right) B_3\\left(t, x, y, z\\right) - E_{1}\\left(t, x, y, z\\right) E_3\\left(t, x, y, z\\right) \\\\ T_{ \\, z \\, y }^{ \\phantom{\\, z}\\phantom{\\, y} } & = & -B_2\\left(t, x, y, z\\right) B_3\\left(t, x, y, z\\right) - E_2\\left(t, x, y, z\\right) E_3\\left(t, x, y, z\\right) \\\\ T_{ \\, z \\, z }^{ \\phantom{\\, z}\\phantom{\\, z} } & = & \\frac{1}{2} \\, E_{1}\\left(t, x, y, z\\right)^{2} + \\frac{1}{2} \\, B_1\\left(t, x, y, z\\right)^{2} + \\frac{1}{2} \\, B_2\\left(t, x, y, z\\right)^{2} - \\frac{1}{2} \\, B_3\\left(t, x, y, z\\right)^{2} + \\frac{1}{2} \\, E_2\\left(t, x, y, z\\right)^{2} - \\frac{1}{2} \\, E_3\\left(t, x, y, z\\right)^{2} \\end{array}</script></html>"
      ],
      "text/plain": [
       "T_tt = 1/2*E1(t, x, y, z)^2 + 1/2*b1(t, x, y, z)^2 + 1/2*b2(t, x, y, z)^2 + 1/2*b3(t, x, y, z)^2 + 1/2*e2(t, x, y, z)^2 + 1/2*e3(t, x, y, z)^2 \n",
       "T_tx = -b3(t, x, y, z)*e2(t, x, y, z) + b2(t, x, y, z)*e3(t, x, y, z) \n",
       "T_ty = E1(t, x, y, z)*b3(t, x, y, z) - b1(t, x, y, z)*e3(t, x, y, z) \n",
       "T_tz = -E1(t, x, y, z)*b2(t, x, y, z) + b1(t, x, y, z)*e2(t, x, y, z) \n",
       "T_xt = -b3(t, x, y, z)*e2(t, x, y, z) + b2(t, x, y, z)*e3(t, x, y, z) \n",
       "T_xx = -1/2*E1(t, x, y, z)^2 - 1/2*b1(t, x, y, z)^2 + 1/2*b2(t, x, y, z)^2 + 1/2*b3(t, x, y, z)^2 + 1/2*e2(t, x, y, z)^2 + 1/2*e3(t, x, y, z)^2 \n",
       "T_xy = -b1(t, x, y, z)*b2(t, x, y, z) - E1(t, x, y, z)*e2(t, x, y, z) \n",
       "T_xz = -b1(t, x, y, z)*b3(t, x, y, z) - E1(t, x, y, z)*e3(t, x, y, z) \n",
       "T_yt = E1(t, x, y, z)*b3(t, x, y, z) - b1(t, x, y, z)*e3(t, x, y, z) \n",
       "T_yx = -b1(t, x, y, z)*b2(t, x, y, z) - E1(t, x, y, z)*e2(t, x, y, z) \n",
       "T_yy = 1/2*E1(t, x, y, z)^2 + 1/2*b1(t, x, y, z)^2 - 1/2*b2(t, x, y, z)^2 + 1/2*b3(t, x, y, z)^2 - 1/2*e2(t, x, y, z)^2 + 1/2*e3(t, x, y, z)^2 \n",
       "T_yz = -b2(t, x, y, z)*b3(t, x, y, z) - e2(t, x, y, z)*e3(t, x, y, z) \n",
       "T_zt = -E1(t, x, y, z)*b2(t, x, y, z) + b1(t, x, y, z)*e2(t, x, y, z) \n",
       "T_zx = -b1(t, x, y, z)*b3(t, x, y, z) - E1(t, x, y, z)*e3(t, x, y, z) \n",
       "T_zy = -b2(t, x, y, z)*b3(t, x, y, z) - e2(t, x, y, z)*e3(t, x, y, z) \n",
       "T_zz = 1/2*E1(t, x, y, z)^2 + 1/2*b1(t, x, y, z)^2 + 1/2*b2(t, x, y, z)^2 - 1/2*b3(t, x, y, z)^2 + 1/2*e2(t, x, y, z)^2 - 1/2*e3(t, x, y, z)^2 "
      ]
     },
     "execution_count": 34,
     "metadata": {},
     "output_type": "execute_result"
    }
   ],
   "source": [
    "Tcov= T.down(g)\n",
    "print(Tcov.tensor_type())\n",
    "Tcov.set_name('T')\n",
    "Tcov.display_comp(only_nonredundant=True)"
   ]
  },
  {
   "cell_type": "code",
   "execution_count": 52,
   "metadata": {},
   "outputs": [
    {
     "data": {
      "text/html": [
       "<html><script type=\"math/tex; mode=display\">\\newcommand{\\Bold}[1]{\\mathbf{#1}}\\mathrm{True}</script></html>"
      ],
      "text/plain": [
       "True"
      ]
     },
     "execution_count": 52,
     "metadata": {},
     "output_type": "execute_result"
    }
   ],
   "source": [
    "Tcov[0,0] == T[0,0]\n"
   ]
  },
  {
   "cell_type": "code",
   "execution_count": 54,
   "metadata": {},
   "outputs": [
    {
     "data": {
      "text/html": [
       "<html><script type=\"math/tex; mode=display\">\\newcommand{\\Bold}[1]{\\mathbf{#1}}\\mathrm{True}</script></html>"
      ],
      "text/plain": [
       "True"
      ]
     },
     "execution_count": 54,
     "metadata": {},
     "output_type": "execute_result"
    }
   ],
   "source": [
    "Tcov[0,1] == - T[0,1]"
   ]
  },
  {
   "cell_type": "code",
   "execution_count": 55,
   "metadata": {},
   "outputs": [
    {
     "data": {
      "text/html": [
       "<html><script type=\"math/tex; mode=display\">\\newcommand{\\Bold}[1]{\\mathbf{#1}}\\mathrm{True}</script></html>"
      ],
      "text/plain": [
       "True"
      ]
     },
     "execution_count": 55,
     "metadata": {},
     "output_type": "execute_result"
    }
   ],
   "source": [
    "Tcov[0,2] == - T[0,2]"
   ]
  },
  {
   "cell_type": "code",
   "execution_count": 56,
   "metadata": {},
   "outputs": [
    {
     "data": {
      "text/html": [
       "<html><script type=\"math/tex; mode=display\">\\newcommand{\\Bold}[1]{\\mathbf{#1}}\\mathrm{True}</script></html>"
      ],
      "text/plain": [
       "True"
      ]
     },
     "execution_count": 56,
     "metadata": {},
     "output_type": "execute_result"
    }
   ],
   "source": [
    "Tcov[0,3] == - T[0,3]"
   ]
  },
  {
   "cell_type": "code",
   "execution_count": 57,
   "metadata": {},
   "outputs": [
    {
     "data": {
      "text/html": [
       "<html><script type=\"math/tex; mode=display\">\\newcommand{\\Bold}[1]{\\mathbf{#1}}\\mathrm{True}</script></html>"
      ],
      "text/plain": [
       "True"
      ]
     },
     "execution_count": 57,
     "metadata": {},
     "output_type": "execute_result"
    }
   ],
   "source": [
    "Tcov[1,1] == T[1,1]"
   ]
  },
  {
   "cell_type": "code",
   "execution_count": 59,
   "metadata": {},
   "outputs": [
    {
     "data": {
      "text/html": [
       "<html><script type=\"math/tex; mode=display\">\\newcommand{\\Bold}[1]{\\mathbf{#1}}\\mathrm{True}</script></html>"
      ],
      "text/plain": [
       "True"
      ]
     },
     "execution_count": 59,
     "metadata": {},
     "output_type": "execute_result"
    }
   ],
   "source": [
    "Tcov[1,2] == T[1,2]"
   ]
  },
  {
   "cell_type": "code",
   "execution_count": 60,
   "metadata": {},
   "outputs": [
    {
     "data": {
      "text/html": [
       "<html><script type=\"math/tex; mode=display\">\\newcommand{\\Bold}[1]{\\mathbf{#1}}\\mathrm{True}</script></html>"
      ],
      "text/plain": [
       "True"
      ]
     },
     "execution_count": 60,
     "metadata": {},
     "output_type": "execute_result"
    }
   ],
   "source": [
    "Tcov[1,3] == T[1,3]"
   ]
  },
  {
   "cell_type": "code",
   "execution_count": 61,
   "metadata": {},
   "outputs": [
    {
     "data": {
      "text/html": [
       "<html><script type=\"math/tex; mode=display\">\\newcommand{\\Bold}[1]{\\mathbf{#1}}\\mathrm{True}</script></html>"
      ],
      "text/plain": [
       "True"
      ]
     },
     "execution_count": 61,
     "metadata": {},
     "output_type": "execute_result"
    }
   ],
   "source": [
    "Tcov[2,2] == T[2,2]"
   ]
  },
  {
   "cell_type": "code",
   "execution_count": 62,
   "metadata": {},
   "outputs": [
    {
     "data": {
      "text/html": [
       "<html><script type=\"math/tex; mode=display\">\\newcommand{\\Bold}[1]{\\mathbf{#1}}\\mathrm{True}</script></html>"
      ],
      "text/plain": [
       "True"
      ]
     },
     "execution_count": 62,
     "metadata": {},
     "output_type": "execute_result"
    }
   ],
   "source": [
    "Tcov[2,3] == T[2,3]"
   ]
  },
  {
   "cell_type": "code",
   "execution_count": 63,
   "metadata": {},
   "outputs": [
    {
     "data": {
      "text/html": [
       "<html><script type=\"math/tex; mode=display\">\\newcommand{\\Bold}[1]{\\mathbf{#1}}\\mathrm{True}</script></html>"
      ],
      "text/plain": [
       "True"
      ]
     },
     "execution_count": 63,
     "metadata": {},
     "output_type": "execute_result"
    }
   ],
   "source": [
    "Tcov[3,3] == T[3,3]"
   ]
  },
  {
   "cell_type": "code",
   "execution_count": null,
   "metadata": {},
   "outputs": [],
   "source": []
  }
 ],
 "metadata": {
  "kernelspec": {
   "display_name": "SageMath 8.8",
   "language": "sage",
   "name": "sagemath"
  },
  "language_info": {
   "codemirror_mode": {
    "name": "ipython",
    "version": 2
   },
   "file_extension": ".py",
   "mimetype": "text/x-python",
   "name": "python",
   "nbconvert_exporter": "python",
   "pygments_lexer": "ipython2",
   "version": "2.7.15"
  }
 },
 "nbformat": 4,
 "nbformat_minor": 2
}
