{
 "cells": [
  {
   "cell_type": "markdown",
   "metadata": {},
   "source": [
    "# Example of substituting functions\n",
    "\n",
    "Example taken from * [Sage Forum - Subtitute functions - in a differential equation - Sagemanifold.](https://ask.sagemath.org/question/44557/subtitute-functions-in-a-differential-equation-sagemanifold/)\n",
    "\n",
    "Other references\n",
    "* https://stackoverflow.com/questions/59390531/substituting-variable-value-in-sage\n",
    "* [Sage Manifold Examples - Friedmann Equations](https://nbviewer.jupyter.org/github/sagemanifolds/SageManifolds/blob/master/Worksheets/v1.3/SM_Friedmann_equations.ipynb)\n",
    "* [Sage Manifold Examples - Lemaitre Tolman](https://nbviewer.jupyter.org/github/egourgoulhon/BHLectures/blob/master/sage/Lemaitre_Tolman.ipynb)\n",
    "* [Sage Forum - Unable to use substitute_function in SageManifolds\n",
    "](https://ask.sagemath.org/question/49586/unable-to-use-substitute_function-in-sagemanifolds/)\n",
    "* [Sage Forum - Substituting variable/function](https://ask.sagemath.org/question/36994/substituting-variablefunction/)\n",
    "* [Stackoverflow - Substituting variable value in sage](https://stackoverflow.com/questions/59390531/substituting-variable-value-in-sage)\n",
    "* [Sage Math - Chart Functions](http://doc.sagemath.org/html/en/reference/manifolds/sage/manifolds/chart_func.html)"
   ]
  },
  {
   "cell_type": "code",
   "execution_count": 1,
   "metadata": {},
   "outputs": [],
   "source": [
    "%display latex"
   ]
  },
  {
   "cell_type": "code",
   "execution_count": 2,
   "metadata": {},
   "outputs": [
    {
     "data": {
      "text/html": [
       "<html><script type=\"math/tex; mode=display\">\\newcommand{\\Bold}[1]{\\mathbf{#1}}Ric = \\left( \\frac{3}{2} \\, f\\left(t\\right) h\\left(t\\right) - \\frac{3}{4} \\, h\\left(t\\right)^{2} + \\frac{3}{2} \\, f\\left(t\\right) \\xi\\left(t\\right) + \\frac{3}{4} \\, \\xi\\left(t\\right)^{2} - \\frac{3}{2} \\, \\frac{\\partial\\,h}{\\partial t} - \\frac{3}{2} \\, \\frac{\\partial\\,\\xi}{\\partial t} \\right) \\mathrm{d} t\\otimes \\mathrm{d} t</script></html>"
      ],
      "text/plain": [
       "Ric = (3/2*f(t)*h(t) - 3/4*h(t)^2 + 3/2*f(t)*xi(t) + 3/4*xi(t)^2 - 3/2*d(h)/dt - 3/2*d(xi)/dt) dt*dt"
      ]
     },
     "execution_count": 2,
     "metadata": {},
     "output_type": "execute_result"
    }
   ],
   "source": [
    "M = Manifold(4, 'M', latex_name=r\"\\mathcal{M}\")\n",
    "U.<t,r,th,ph> = M.chart(r't r:(0,+oo) th:(0,pi):\\theta ph:(0,2*pi):\\phi')\n",
    "xi = function('xi')(t)\n",
    "f = function('f')(t)\n",
    "h = function('h')(t)\n",
    "g = function('g')(t)\n",
    "Ric = M.tensor_field(0,2, 'Ric')\n",
    "Ric[0,0] = 3/2*f*h - 3/4*h^2 + 3/2*f*xi + 3/4*xi^2 - 3/2*diff(h, t) - 3/2*diff(xi, t)\n",
    "Ric.display()"
   ]
  },
  {
   "cell_type": "code",
   "execution_count": 10,
   "metadata": {},
   "outputs": [
    {
     "data": {
      "text/html": [
       "<html><script type=\"math/tex; mode=display\">\\newcommand{\\Bold}[1]{\\mathbf{#1}}\\frac{3}{2} \\, f\\left(t\\right) h\\left(t\\right) - \\frac{3}{4} \\, h\\left(t\\right)^{2} + \\frac{3}{2} \\, f\\left(t\\right) \\xi\\left(t\\right) + \\frac{3}{4} \\, \\xi\\left(t\\right)^{2} - \\frac{3}{2} \\, \\frac{\\partial}{\\partial t}h\\left(t\\right) - \\frac{3}{2} \\, \\frac{\\partial}{\\partial t}\\xi\\left(t\\right)</script></html>"
      ],
      "text/plain": [
       "3/2*f(t)*h(t) - 3/4*h(t)^2 + 3/2*f(t)*xi(t) + 3/4*xi(t)^2 - 3/2*diff(h(t), t) - 3/2*diff(xi(t), t)"
      ]
     },
     "execution_count": 10,
     "metadata": {},
     "output_type": "execute_result"
    }
   ],
   "source": [
    "var('t')\n",
    "xi = function('xi')(t)\n",
    "f = function('f')(t)\n",
    "h = function('h')(t)\n",
    "ode = 3/2*f*h - 3/4*h^2 + 3/2*f*xi + 3/4*xi^2 - 3/2*diff(h, t) - 3/2*diff(xi, t)\n",
    "ode"
   ]
  },
  {
   "cell_type": "code",
   "execution_count": 11,
   "metadata": {},
   "outputs": [
    {
     "data": {
      "text/html": [
       "<html><script type=\"math/tex; mode=display\">\\newcommand{\\Bold}[1]{\\mathbf{#1}}\\frac{3}{2} \\, f\\left(t\\right) h\\left(t\\right) - \\frac{3}{4} \\, h\\left(t\\right)^{2} - \\frac{3}{2} \\, \\frac{\\partial}{\\partial t}h\\left(t\\right) - \\frac{3}{2}</script></html>"
      ],
      "text/plain": [
       "3/2*f(t)*h(t) - 3/4*h(t)^2 - 3/2*diff(h(t), t) - 3/2"
      ]
     },
     "execution_count": 11,
     "metadata": {},
     "output_type": "execute_result"
    }
   ],
   "source": [
    "ode0 = ode.substitute({xi:0, diff(xi, t):1})\n",
    "ode0"
   ]
  },
  {
   "cell_type": "code",
   "execution_count": 13,
   "metadata": {},
   "outputs": [
    {
     "data": {
      "text/html": [
       "<html><script type=\"math/tex; mode=display\">\\newcommand{\\Bold}[1]{\\mathbf{#1}}\\frac{3}{2} \\, f\\left(t\\right) h\\left(t\\right) - \\frac{3}{4} \\, h\\left(t\\right)^{2} + \\frac{3}{2} \\, f\\left(t\\right) \\xi\\left(t\\right) + \\frac{3}{4} \\, \\xi\\left(t\\right)^{2} - \\frac{3}{2} \\, \\frac{\\partial\\,h}{\\partial t} - \\frac{3}{2} \\, \\frac{\\partial\\,\\xi}{\\partial t}</script></html>"
      ],
      "text/plain": [
       "3/2*f(t)*h(t) - 3/4*h(t)^2 + 3/2*f(t)*xi(t) + 3/4*xi(t)^2 - 3/2*d(h)/dt - 3/2*d(xi)/dt"
      ]
     },
     "execution_count": 13,
     "metadata": {},
     "output_type": "execute_result"
    }
   ],
   "source": [
    "Ric[0,0]"
   ]
  },
  {
   "cell_type": "code",
   "execution_count": 12,
   "metadata": {},
   "outputs": [
    {
     "data": {
      "text/html": [
       "<html><script type=\"math/tex; mode=display\">\\newcommand{\\Bold}[1]{\\mathbf{#1}}\\frac{3}{2} \\, f\\left(t\\right) h\\left(t\\right) - \\frac{3}{4} \\, h\\left(t\\right)^{2} - \\frac{3}{2} \\, \\frac{\\partial}{\\partial t}h\\left(t\\right)</script></html>"
      ],
      "text/plain": [
       "3/2*f(t)*h(t) - 3/4*h(t)^2 - 3/2*diff(h(t), t)"
      ]
     },
     "execution_count": 12,
     "metadata": {},
     "output_type": "execute_result"
    }
   ],
   "source": [
    "Ric[0,0].expr().substitute({xi:0, diff(xi, t):0})"
   ]
  },
  {
   "cell_type": "code",
   "execution_count": null,
   "metadata": {},
   "outputs": [],
   "source": []
  }
 ],
 "metadata": {
  "kernelspec": {
   "display_name": "SageMath 8.8",
   "language": "sage",
   "name": "sagemath"
  },
  "language_info": {
   "codemirror_mode": {
    "name": "ipython",
    "version": 2
   },
   "file_extension": ".py",
   "mimetype": "text/x-python",
   "name": "python",
   "nbconvert_exporter": "python",
   "pygments_lexer": "ipython2",
   "version": "2.7.15"
  }
 },
 "nbformat": 4,
 "nbformat_minor": 2
}
