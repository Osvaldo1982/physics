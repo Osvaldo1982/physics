{
 "cells": [
  {
   "cell_type": "markdown",
   "metadata": {},
   "source": [
    "# Introduction\n",
    "\n",
    "* https://github.com/sympy/sympy/blob/master/sympy/diffgeom/tests/test_function_diffgeom_book.py"
   ]
  },
  {
   "cell_type": "code",
   "execution_count": 1,
   "metadata": {
    "ExecuteTime": {
     "end_time": "2020-04-21T19:51:02.828913Z",
     "start_time": "2020-04-21T19:51:01.540395Z"
    }
   },
   "outputs": [],
   "source": [
    "from sympy.diffgeom.rn import R2, R2_p, R2_r, R3_r\n",
    "from sympy.diffgeom import intcurve_series, Differential, WedgeProduct\n",
    "from sympy.core import symbols, Function, Derivative\n",
    "from sympy.simplify import trigsimp, simplify\n",
    "from sympy.functions import sqrt, atan2, sin, cos\n",
    "from sympy.matrices import Matrix"
   ]
  },
  {
   "cell_type": "markdown",
   "metadata": {
    "ExecuteTime": {
     "end_time": "2020-04-21T19:51:17.135000Z",
     "start_time": "2020-04-21T19:51:17.129491Z"
    }
   },
   "source": [
    "Most of the functionality is covered in the \n",
    "test_functional_diffgeom_ch tests which are \n",
    "based on the example from the paper of Sussman \n",
    "and Wisdom. If they do not cover something, \n",
    "additional tests are added in other test\n",
    "functions.\n",
    "\n",
    "From \"Functional Differential Geometry\" as of 2011\n",
    "by Sussman and Wisdom."
   ]
  },
  {
   "cell_type": "code",
   "execution_count": 9,
   "metadata": {
    "ExecuteTime": {
     "end_time": "2020-04-21T19:57:52.528847Z",
     "start_time": "2020-04-21T19:57:52.519410Z"
    }
   },
   "outputs": [],
   "source": [
    "x0, y0, r0, theta0 = symbols('x0, y0, r0, theta0', real=True)\n",
    "x, y = symbols('x, y', real=True)\n",
    "f = Function('f')"
   ]
  },
  {
   "cell_type": "code",
   "execution_count": 10,
   "metadata": {
    "ExecuteTime": {
     "end_time": "2020-04-21T19:58:07.915046Z",
     "start_time": "2020-04-21T19:58:07.899394Z"
    }
   },
   "outputs": [
    {
     "data": {
      "text/latex": [
       "$\\displaystyle \\left[\\begin{matrix}\\sqrt{x_{0}^{2} + y_{0}^{2}}\\\\\\operatorname{atan_{2}}{\\left(y_{0},x_{0} \\right)}\\end{matrix}\\right]$"
      ],
      "text/plain": [
       "Matrix([\n",
       "[sqrt(x0**2 + y0**2)],\n",
       "[      atan2(y0, x0)]])"
      ]
     },
     "execution_count": 10,
     "metadata": {},
     "output_type": "execute_result"
    }
   ],
   "source": [
    "R2_p.point_to_coords(R2_r.point([x0, y0]))"
   ]
  },
  {
   "cell_type": "code",
   "execution_count": 11,
   "metadata": {
    "ExecuteTime": {
     "end_time": "2020-04-21T19:58:17.076309Z",
     "start_time": "2020-04-21T19:58:17.065721Z"
    }
   },
   "outputs": [
    {
     "data": {
      "text/latex": [
       "$\\displaystyle \\left[\\begin{matrix}\\sqrt{x_{0}^{2} + y_{0}^{2}}\\\\\\operatorname{atan_{2}}{\\left(y_{0},x_{0} \\right)}\\end{matrix}\\right]$"
      ],
      "text/plain": [
       "Matrix([\n",
       "[sqrt(x0**2 + y0**2)],\n",
       "[      atan2(y0, x0)]])"
      ]
     },
     "execution_count": 11,
     "metadata": {},
     "output_type": "execute_result"
    }
   ],
   "source": [
    "Matrix([sqrt(x0**2 + y0**2), atan2(y0, x0)])"
   ]
  },
  {
   "cell_type": "code",
   "execution_count": null,
   "metadata": {},
   "outputs": [],
   "source": []
  },
  {
   "cell_type": "code",
   "execution_count": 3,
   "metadata": {
    "ExecuteTime": {
     "end_time": "2020-04-21T19:53:00.314791Z",
     "start_time": "2020-04-21T19:53:00.258232Z"
    }
   },
   "outputs": [],
   "source": [
    "def test_functional_diffgeom_ch2():\n",
    "    x0, y0, r0, theta0 = symbols('x0, y0, r0, theta0', real=True)\n",
    "    x, y = symbols('x, y', real=True)\n",
    "    f = Function('f')\n",
    "\n",
    "    assert (R2_p.point_to_coords(R2_r.point([x0, y0])) ==\n",
    "           Matrix([sqrt(x0**2 + y0**2), atan2(y0, x0)]))\n",
    "    assert (R2_r.point_to_coords(R2_p.point([r0, theta0])) ==\n",
    "           Matrix([r0*cos(theta0), r0*sin(theta0)]))\n",
    "\n",
    "    assert R2_p.jacobian(R2_r, [r0, theta0]) == Matrix(\n",
    "        [[cos(theta0), -r0*sin(theta0)], [sin(theta0), r0*cos(theta0)]])\n",
    "\n",
    "    field = f(R2.x, R2.y)\n",
    "    p1_in_rect = R2_r.point([x0, y0])\n",
    "    p1_in_polar = R2_p.point([sqrt(x0**2 + y0**2), atan2(y0, x0)])\n",
    "    assert field.rcall(p1_in_rect) == f(x0, y0)\n",
    "    assert field.rcall(p1_in_polar) == f(x0, y0)\n",
    "\n",
    "    p_r = R2_r.point([x0, y0])\n",
    "    p_p = R2_p.point([r0, theta0])\n",
    "    assert R2.x(p_r) == x0\n",
    "    assert R2.x(p_p) == r0*cos(theta0)\n",
    "    assert R2.r(p_p) == r0\n",
    "    assert R2.r(p_r) == sqrt(x0**2 + y0**2)\n",
    "    assert R2.theta(p_r) == atan2(y0, x0)\n",
    "\n",
    "    h = R2.x*R2.r**2 + R2.y**3\n",
    "    assert h.rcall(p_r) == x0*(x0**2 + y0**2) + y0**3\n",
    "    assert h.rcall(p_p) == r0**3*sin(theta0)**3 + r0**3*cos(theta0)\n",
    "\n",
    "\n",
    "def test_functional_diffgeom_ch3():\n",
    "    x0, y0 = symbols('x0, y0', real=True)\n",
    "    x, y, t = symbols('x, y, t', real=True)\n",
    "    f = Function('f')\n",
    "    b1 = Function('b1')\n",
    "    b2 = Function('b2')\n",
    "    p_r = R2_r.point([x0, y0])\n",
    "\n",
    "    s_field = f(R2.x, R2.y)\n",
    "    v_field = b1(R2.x)*R2.e_x + b2(R2.y)*R2.e_y\n",
    "    assert v_field.rcall(s_field).rcall(p_r).doit() == b1(\n",
    "        x0)*Derivative(f(x0, y0), x0) + b2(y0)*Derivative(f(x0, y0), y0)\n",
    "\n",
    "    assert R2.e_x(R2.r**2).rcall(p_r) == 2*x0\n",
    "    v = R2.e_x + 2*R2.e_y\n",
    "    s = R2.r**2 + 3*R2.x\n",
    "    assert v.rcall(s).rcall(p_r).doit() == 2*x0 + 4*y0 + 3\n",
    "\n",
    "    circ = -R2.y*R2.e_x + R2.x*R2.e_y\n",
    "    series = intcurve_series(circ, t, R2_r.point([1, 0]), coeffs=True)\n",
    "    series_x, series_y = zip(*series)\n",
    "    assert all(\n",
    "        [term == cos(t).taylor_term(i, t) for i, term in enumerate(series_x)])\n",
    "    assert all(\n",
    "        [term == sin(t).taylor_term(i, t) for i, term in enumerate(series_y)])\n",
    "\n",
    "\n",
    "def test_functional_diffgeom_ch4():\n",
    "    x0, y0, theta0 = symbols('x0, y0, theta0', real=True)\n",
    "    x, y, r, theta = symbols('x, y, r, theta', real=True)\n",
    "    r0 = symbols('r0', positive=True)\n",
    "    f = Function('f')\n",
    "    b1 = Function('b1')\n",
    "    b2 = Function('b2')\n",
    "    p_r = R2_r.point([x0, y0])\n",
    "    p_p = R2_p.point([r0, theta0])\n",
    "\n",
    "    f_field = b1(R2.x, R2.y)*R2.dx + b2(R2.x, R2.y)*R2.dy\n",
    "    assert f_field.rcall(R2.e_x).rcall(p_r) == b1(x0, y0)\n",
    "    assert f_field.rcall(R2.e_y).rcall(p_r) == b2(x0, y0)\n",
    "\n",
    "    s_field_r = f(R2.x, R2.y)\n",
    "    df = Differential(s_field_r)\n",
    "    assert df(R2.e_x).rcall(p_r).doit() == Derivative(f(x0, y0), x0)\n",
    "    assert df(R2.e_y).rcall(p_r).doit() == Derivative(f(x0, y0), y0)\n",
    "\n",
    "    s_field_p = f(R2.r, R2.theta)\n",
    "    df = Differential(s_field_p)\n",
    "    assert trigsimp(df(R2.e_x).rcall(p_p).doit()) == (\n",
    "        cos(theta0)*Derivative(f(r0, theta0), r0) -\n",
    "        sin(theta0)*Derivative(f(r0, theta0), theta0)/r0)\n",
    "    assert trigsimp(df(R2.e_y).rcall(p_p).doit()) == (\n",
    "        sin(theta0)*Derivative(f(r0, theta0), r0) +\n",
    "        cos(theta0)*Derivative(f(r0, theta0), theta0)/r0)\n",
    "\n",
    "    assert R2.dx(R2.e_x).rcall(p_r) == 1\n",
    "    assert R2.dx(R2.e_x) == 1\n",
    "    assert R2.dx(R2.e_y).rcall(p_r) == 0\n",
    "    assert R2.dx(R2.e_y) == 0\n",
    "\n",
    "    circ = -R2.y*R2.e_x + R2.x*R2.e_y\n",
    "    assert R2.dx(circ).rcall(p_r).doit() == -y0\n",
    "    assert R2.dy(circ).rcall(p_r) == x0\n",
    "    assert R2.dr(circ).rcall(p_r) == 0\n",
    "    assert simplify(R2.dtheta(circ).rcall(p_r)) == 1\n",
    "\n",
    "    assert (circ - R2.e_theta).rcall(s_field_r).rcall(p_r) == 0\n",
    "\n",
    "\n",
    "def test_functional_diffgeom_ch6():\n",
    "    u0, u1, u2, v0, v1, v2, w0, w1, w2 = symbols('u0:3, v0:3, w0:3', real=True)\n",
    "\n",
    "    u = u0*R2.e_x + u1*R2.e_y\n",
    "    v = v0*R2.e_x + v1*R2.e_y\n",
    "    wp = WedgeProduct(R2.dx, R2.dy)\n",
    "    assert wp(u, v) == u0*v1 - u1*v0\n",
    "\n",
    "    u = u0*R3_r.e_x + u1*R3_r.e_y + u2*R3_r.e_z\n",
    "    v = v0*R3_r.e_x + v1*R3_r.e_y + v2*R3_r.e_z\n",
    "    w = w0*R3_r.e_x + w1*R3_r.e_y + w2*R3_r.e_z\n",
    "    wp = WedgeProduct(R3_r.dx, R3_r.dy, R3_r.dz)\n",
    "    assert wp(\n",
    "        u, v, w) == Matrix(3, 3, [u0, u1, u2, v0, v1, v2, w0, w1, w2]).det()\n",
    "\n",
    "    a, b, c = symbols('a, b, c', cls=Function)\n",
    "    a_f = a(R3_r.x, R3_r.y, R3_r.z)\n",
    "    b_f = b(R3_r.x, R3_r.y, R3_r.z)\n",
    "    c_f = c(R3_r.x, R3_r.y, R3_r.z)\n",
    "    theta = a_f*R3_r.dx + b_f*R3_r.dy + c_f*R3_r.dz\n",
    "    dtheta = Differential(theta)\n",
    "    da = Differential(a_f)\n",
    "    db = Differential(b_f)\n",
    "    dc = Differential(c_f)\n",
    "    expr = dtheta - WedgeProduct(\n",
    "        da, R3_r.dx) - WedgeProduct(db, R3_r.dy) - WedgeProduct(dc, R3_r.dz)\n",
    "    assert expr.rcall(R3_r.e_x, R3_r.e_y) == 0"
   ]
  },
  {
   "cell_type": "code",
   "execution_count": null,
   "metadata": {},
   "outputs": [],
   "source": []
  }
 ],
 "metadata": {
  "hide_input": false,
  "kernelspec": {
   "display_name": "Python 3",
   "language": "python",
   "name": "python3"
  },
  "language_info": {
   "codemirror_mode": {
    "name": "ipython",
    "version": 3
   },
   "file_extension": ".py",
   "mimetype": "text/x-python",
   "name": "python",
   "nbconvert_exporter": "python",
   "pygments_lexer": "ipython3",
   "version": "3.7.3"
  },
  "latex_envs": {
   "LaTeX_envs_menu_present": true,
   "autoclose": false,
   "autocomplete": true,
   "bibliofile": "biblio.bib",
   "cite_by": "apalike",
   "current_citInitial": 1,
   "eqLabelWithNumbers": true,
   "eqNumInitial": 1,
   "hotkeys": {
    "equation": "Ctrl-E",
    "itemize": "Ctrl-I"
   },
   "labels_anchors": false,
   "latex_user_defs": false,
   "report_style_numbering": false,
   "user_envs_cfg": false
  },
  "toc": {
   "base_numbering": 1,
   "nav_menu": {},
   "number_sections": true,
   "sideBar": true,
   "skip_h1_title": false,
   "title_cell": "Table of Contents",
   "title_sidebar": "Contents",
   "toc_cell": false,
   "toc_position": {},
   "toc_section_display": true,
   "toc_window_display": false
  }
 },
 "nbformat": 4,
 "nbformat_minor": 4
}
