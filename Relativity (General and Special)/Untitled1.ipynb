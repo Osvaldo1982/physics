{
 "cells": [
  {
   "cell_type": "code",
   "execution_count": null,
   "id": "28f4b98d",
   "metadata": {},
   "outputs": [],
   "source": [
    "from sympy import *\n",
    "from dataclasses import dataclass\n",
    "from IPython.display import display as Idisplay\n",
    "from IPython.display import Math"
   ]
  },
  {
   "cell_type": "code",
   "execution_count": null,
   "id": "fc033f31",
   "metadata": {},
   "outputs": [],
   "source": [
    "greek = ['alpha', 'beta', 'gamma', 'Gamma', 'delta', 'Delta', 'epsilon',\n",
    "         'varepsilon', 'zeta', 'eta', 'theta', 'vartheta', 'Theta', 'iota',\n",
    "         'kappa', 'lambda', 'Lambda', 'mu', 'nu', 'xi', 'Xi', 'pi', 'Pi',\n",
    "         'rho', 'varrho', 'sigma', 'Sigma', 'tau', 'upsilon', 'Upsilon',\n",
    "         'phi', 'varphi', 'Phi', 'chi', 'psi', 'Psi', 'omega', 'Omega']\n",
    "\n",
    "n = int(input('Enter the number of dimensions:\\n'))\n",
    "coords = []\n",
    "for i in range(n):\n",
    "    coords.append(Symbol(str(input('Enter coordinate label %d:\\n' % i))))"
   ]
  },
  {
   "cell_type": "code",
   "execution_count": null,
   "id": "8c3cfdee",
   "metadata": {},
   "outputs": [],
   "source": [
    "@dataclass(frozen=False, order=True)\n",
    "class Tensor:\n",
    "    name: str\n",
    "    symbol: str\n",
    "    key: str\n",
    "    components: list\n",
    "    \n",
    "    def rank(self):\n",
    "        return self.key.count('*')\n",
    "    \n",
    "    def tensor_zeros(self, t=0):\n",
    "        for i in range(self.rank()):\n",
    "            t = [t,] * n\n",
    "        return MutableDenseNDimArray(t)\n",
    "    \n",
    "    def coord_id(self, o):\n",
    "        a = []\n",
    "        for i in range(self.rank()):\n",
    "            c = int(o/(n**(self.rank() - i - 1)))\n",
    "            a.append(str(coords[c]))\n",
    "            if any(letter in a[i] for letter in greek) is True:\n",
    "                a[i] = '\\\\' + a[i] + ' '\n",
    "            o -= c * (n**(self.rank() - i - 1))  \n",
    "        x = self.key\n",
    "        w = 0\n",
    "        for i in x:\n",
    "            if i == '*':\n",
    "                x = x.replace('*', a[w], 1)\n",
    "                w += 1\n",
    "        return self.symbol + x\n",
    "    \n",
    "    def print_tensor(self):\n",
    "        for o in range(len(self.components)):\n",
    "            if self.components[o] != 0:\n",
    "                Idisplay(Math(latex(Eq(Symbol(self.coord_id(o)),\n",
    "                                       self.components[o]))))\n",
    "        print('\\n\\n')\n",
    "\n",
    "\n",
    "def assign(instance, thing):\n",
    "    instance.components = thing.reshape(len(thing)).tolist()\n",
    "\n",
    "\n",
    "def fix_input(expr):\n",
    "    expr = expr.replace('^', '**')\n",
    "    for i in range(len(expr)-1):\n",
    "        if expr[i].isnumeric() and (expr[i+1].isalpha() or\n",
    "                                    expr[i+1] == '('):\n",
    "            expr = expr[:i+1] + '*' + expr[i+1:]\n",
    "    return expr"
   ]
  },
  {
   "cell_type": "code",
   "execution_count": null,
   "id": "f58d089a",
   "metadata": {},
   "outputs": [],
   "source": []
  },
  {
   "cell_type": "code",
   "execution_count": 8,
   "id": "3809b61e",
   "metadata": {
    "ExecuteTime": {
     "end_time": "2023-04-29T23:46:44.006855Z",
     "start_time": "2023-04-29T23:45:43.368009Z"
    }
   },
   "outputs": [
    {
     "name": "stdout",
     "output_type": "stream",
     "text": [
      "Enter the number of dimensions:\n",
      "4\n",
      "Enter coordinate label 0:\n",
      "t\n",
      "Enter coordinate label 1:\n",
      "x\n",
      "Enter coordinate label 2:\n",
      "y\n",
      "Enter coordinate label 3:\n",
      "z\n",
      "Is metric diagonal? y for yes, n for no\n",
      "n\n",
      "What is g_[tt]?\n",
      "-1 + b**2\n",
      "What is g_[tx]?\n",
      "-b\n",
      "What is g_[ty]?\n",
      "0\n",
      "What is g_[tz]?\n",
      "0\n",
      "What is g_[xx]?\n",
      "1\n",
      "What is g_[xy]?\n",
      "0\n",
      "What is g_[xz]?\n",
      "0\n",
      "What is g_[yy]?\n",
      "1\n",
      "What is g_[yz]?\n",
      "0\n",
      "What is g_[zz]?\n",
      "1\n",
      "\n"
     ]
    },
    {
     "data": {
      "text/latex": [
       "$\\displaystyle g_{tt} = b^{2} - 1$"
      ],
      "text/plain": [
       "<IPython.core.display.Math object>"
      ]
     },
     "metadata": {},
     "output_type": "display_data"
    },
    {
     "data": {
      "text/latex": [
       "$\\displaystyle g_{tx} = - b$"
      ],
      "text/plain": [
       "<IPython.core.display.Math object>"
      ]
     },
     "metadata": {},
     "output_type": "display_data"
    },
    {
     "data": {
      "text/latex": [
       "$\\displaystyle g_{xt} = - b$"
      ],
      "text/plain": [
       "<IPython.core.display.Math object>"
      ]
     },
     "metadata": {},
     "output_type": "display_data"
    },
    {
     "data": {
      "text/latex": [
       "$\\displaystyle g_{xx} = 1$"
      ],
      "text/plain": [
       "<IPython.core.display.Math object>"
      ]
     },
     "metadata": {},
     "output_type": "display_data"
    },
    {
     "data": {
      "text/latex": [
       "$\\displaystyle g_{yy} = 1$"
      ],
      "text/plain": [
       "<IPython.core.display.Math object>"
      ]
     },
     "metadata": {},
     "output_type": "display_data"
    },
    {
     "data": {
      "text/latex": [
       "$\\displaystyle g_{zz} = 1$"
      ],
      "text/plain": [
       "<IPython.core.display.Math object>"
      ]
     },
     "metadata": {},
     "output_type": "display_data"
    },
    {
     "name": "stdout",
     "output_type": "stream",
     "text": [
      "\n",
      "\n",
      "\n"
     ]
    },
    {
     "data": {
      "text/latex": [
       "$\\displaystyle g^{tt} = -1$"
      ],
      "text/plain": [
       "<IPython.core.display.Math object>"
      ]
     },
     "metadata": {},
     "output_type": "display_data"
    },
    {
     "data": {
      "text/latex": [
       "$\\displaystyle g^{tx} = - b$"
      ],
      "text/plain": [
       "<IPython.core.display.Math object>"
      ]
     },
     "metadata": {},
     "output_type": "display_data"
    },
    {
     "data": {
      "text/latex": [
       "$\\displaystyle g^{xt} = - b$"
      ],
      "text/plain": [
       "<IPython.core.display.Math object>"
      ]
     },
     "metadata": {},
     "output_type": "display_data"
    },
    {
     "data": {
      "text/latex": [
       "$\\displaystyle g^{xx} = 1 - b^{2}$"
      ],
      "text/plain": [
       "<IPython.core.display.Math object>"
      ]
     },
     "metadata": {},
     "output_type": "display_data"
    },
    {
     "data": {
      "text/latex": [
       "$\\displaystyle g^{yy} = 1$"
      ],
      "text/plain": [
       "<IPython.core.display.Math object>"
      ]
     },
     "metadata": {},
     "output_type": "display_data"
    },
    {
     "data": {
      "text/latex": [
       "$\\displaystyle g^{zz} = 1$"
      ],
      "text/plain": [
       "<IPython.core.display.Math object>"
      ]
     },
     "metadata": {},
     "output_type": "display_data"
    },
    {
     "name": "stdout",
     "output_type": "stream",
     "text": [
      "\n",
      "\n",
      "\n",
      "\n",
      "\n",
      "\n",
      "\n",
      "\n",
      "\n",
      "\n",
      "\n",
      "\n",
      "\n",
      "\n",
      "\n",
      "\n",
      "\n",
      "\n",
      "\n",
      "\n",
      "\n",
      "\n",
      "\n",
      "\n"
     ]
    }
   ],
   "source": [
    "from sympy import *\n",
    "from dataclasses import dataclass\n",
    "from IPython.display import display as Idisplay\n",
    "from IPython.display import Math\n",
    "\n",
    "greek = ['alpha', 'beta', 'gamma', 'Gamma', 'delta', 'Delta', 'epsilon',\n",
    "         'varepsilon', 'zeta', 'eta', 'theta', 'vartheta', 'Theta', 'iota',\n",
    "         'kappa', 'lambda', 'Lambda', 'mu', 'nu', 'xi', 'Xi', 'pi', 'Pi',\n",
    "         'rho', 'varrho', 'sigma', 'Sigma', 'tau', 'upsilon', 'Upsilon',\n",
    "         'phi', 'varphi', 'Phi', 'chi', 'psi', 'Psi', 'omega', 'Omega']\n",
    "\n",
    "n = int(input('Enter the number of dimensions:\\n'))\n",
    "coords = []\n",
    "for i in range(n):\n",
    "    coords.append(Symbol(str(input('Enter coordinate label %d:\\n' % i))))\n",
    "\n",
    "\n",
    "@dataclass(frozen=False, order=True)\n",
    "class Tensor:\n",
    "    name: str\n",
    "    symbol: str\n",
    "    key: str\n",
    "    components: list\n",
    "    \n",
    "    def rank(self):\n",
    "        return self.key.count('*')\n",
    "    \n",
    "    def tensor_zeros(self, t=0):\n",
    "        for i in range(self.rank()):\n",
    "            t = [t,] * n\n",
    "        return MutableDenseNDimArray(t)\n",
    "    \n",
    "    def coord_id(self, o):\n",
    "        a = []\n",
    "        for i in range(self.rank()):\n",
    "            c = int(o/(n**(self.rank() - i - 1)))\n",
    "            a.append(str(coords[c]))\n",
    "            if any(letter in a[i] for letter in greek) is True:\n",
    "                a[i] = '\\\\' + a[i] + ' '\n",
    "            o -= c * (n**(self.rank() - i - 1))  \n",
    "        x = self.key\n",
    "        w = 0\n",
    "        for i in x:\n",
    "            if i == '*':\n",
    "                x = x.replace('*', a[w], 1)\n",
    "                w += 1\n",
    "        return self.symbol + x\n",
    "    \n",
    "    def print_tensor(self):\n",
    "        for o in range(len(self.components)):\n",
    "            if self.components[o] != 0:\n",
    "                Idisplay(Math(latex(Eq(Symbol(self.coord_id(o)),\n",
    "                                       self.components[o]))))\n",
    "        print('\\n\\n')\n",
    "\n",
    "\n",
    "def assign(instance, thing):\n",
    "    instance.components = thing.reshape(len(thing)).tolist()\n",
    "\n",
    "\n",
    "def fix_input(expr):\n",
    "    expr = expr.replace('^', '**')\n",
    "    for i in range(len(expr)-1):\n",
    "        if expr[i].isnumeric() and (expr[i+1].isalpha() or\n",
    "                                    expr[i+1] == '('):\n",
    "            expr = expr[:i+1] + '*' + expr[i+1:]\n",
    "    return expr\n",
    "\n",
    "\n",
    "metric = Tensor('metric tensor', 'g', '_**', [])\n",
    "metric_inv = Tensor('inverse of metric tensor', 'g', '__**', [])\n",
    "metric_d = Tensor('partial derivative of metric tensor', 'g', '_**,*', [])\n",
    "Christoffel = Tensor('Christoffel symbol - 2nd kind', 'Gamma', '__*_**', [])\n",
    "Christoffel_d = Tensor('partial derivative of Christoffel symbol',\n",
    "                       'Gamma', '__*_**,*', [])\n",
    "Riemann = Tensor('Riemann curvature tensor', 'R', '__*_***', [])\n",
    "Ricci = Tensor('Ricci curvature tensor', 'R', '_**', [])\n",
    "Einstein = Tensor('Einstein tensor', 'G', '_**', [])\n",
    "Einstein_alt = Tensor('Einstein tensor', 'G', '__*_*', [])\n",
    "\n",
    "# user inputs metric:\n",
    "g = eye(n)\n",
    "while True:\n",
    "    diag = str(input('Is metric diagonal? y for yes, n for no\\n')).lower()\n",
    "    if diag == 'y':\n",
    "        for i in range(n):\n",
    "            g[i, i] = sympify(fix_input(str(input(\n",
    "                'What is g_[%s%s]?\\n' % (str(coords[i]), str(coords[i])\n",
    "                )))))\n",
    "    else:\n",
    "        for i in range(n):\n",
    "            for j in range(i, n):\n",
    "                g[i, j] = sympify(fix_input(str(input(\n",
    "                    'What is g_[%s%s]?\\n' % (str(coords[i]), str(coords[j])\n",
    "                    )))))\n",
    "                g[j, i] = g[i, j]\n",
    "    if g.det() == 0:\n",
    "        print('\\nMetric is singular, try again!\\n')\n",
    "        continue\n",
    "    else:\n",
    "        break\n",
    "\n",
    "# calculate everything:\n",
    "# inverse metric:\n",
    "g_inv = MutableDenseNDimArray(g.inv())\n",
    "assign(metric_inv, g_inv)\n",
    "g = MutableDenseNDimArray(g)\n",
    "assign(metric, g)\n",
    "# first derivatives of metric components:\n",
    "g_d = metric_d.tensor_zeros()\n",
    "for i in range(n):\n",
    "    for j in range(i):\n",
    "        for d in range(n):\n",
    "            g_d[i, j, d] = g_d[j, i, d]\n",
    "    for j in range(i, n):\n",
    "        for d in range(n):\n",
    "            g_d[i, j, d] = diff(g[i, j], coords[d])\n",
    "assign(metric_d, g_d)\n",
    "# Christoffel symbols for Levi-Civita connection (Gam^i_jk):\n",
    "Gamma = Christoffel.tensor_zeros()\n",
    "for i in range(n):\n",
    "    for j in range(n):\n",
    "        for k in range(j):\n",
    "            Gamma[i, j, k] = Gamma[i, k, j]\n",
    "        for k in range(j, n):\n",
    "            for l in range(n):\n",
    "                Gamma[i, j, k] += S(1)/2 * g_inv[i, l] * (\n",
    "                    -g_d[j, k, l] + g_d[k, l, j] + g_d[l, j, k]\n",
    "                    )\n",
    "assign(Christoffel, Gamma)\n",
    "# first derivatives of Christoffel symbols (Gam^i_jk,d):\n",
    "Gamma_d = Christoffel_d.tensor_zeros()\n",
    "for i in range(n):\n",
    "    for j in range(n):\n",
    "        for k in range(j):\n",
    "            for d in range(n):\n",
    "                Gamma_d[i, j, k, d] = Gamma_d[i, k, j, d]\n",
    "        for k in range(j, n):\n",
    "            for d in range(n):\n",
    "                Gamma_d[i, j, k, d] = simplify(diff(Gamma[i, j, k],\n",
    "                                                    coords[d]))\n",
    "assign(Christoffel_d, Gamma_d)\n",
    "# Riemann curvature tensor (R^i_jkl):\n",
    "Rie = Riemann.tensor_zeros()\n",
    "for i in range(n):\n",
    "    for j in range(n):\n",
    "        for k in range(n):\n",
    "            for l in range(k):\n",
    "                Rie[i, j, k, l] = -Rie[i, j, l, k]\n",
    "            for l in range(k, n):\n",
    "                Rie[i, j, k, l] = Gamma_d[i, j, l, k] - Gamma_d[i, j, k, l]\n",
    "                for h in range(n):\n",
    "                    Rie[i, j, k, l] += (Gamma[h, j, l] * Gamma[i, h, k]\n",
    "                                    - Gamma[h, j, k] * Gamma[i, h, l])\n",
    "                    Rie[i, j, k, l] = simplify(Rie[i, j, k, l])\n",
    "assign(Riemann, Rie)\n",
    "# Ricci curvature tensor (R_jl):\n",
    "Ric = simplify(tensorcontraction(Rie, (0, 2)))\n",
    "assign(Ricci, Ric)\n",
    "# Ricci curvature scalar:\n",
    "R = 0\n",
    "for i in range(n):\n",
    "    for j in range(n):\n",
    "        R += g_inv[i, j] * Ric[i, j]\n",
    "R = simplify(R)\n",
    "# Einstein tensor (G_ij):\n",
    "G = Einstein.tensor_zeros()\n",
    "for i in range(n):\n",
    "    for j in range(i):\n",
    "        G[i, j] = G[j, i]\n",
    "    for j in range(i, n):\n",
    "        G[i, j] = simplify(Ric[i, j] - S(1)/2 * R * g[i, j])\n",
    "assign(Einstein, G)\n",
    "# G^i_j:\n",
    "G_alt = Einstein_alt.tensor_zeros()\n",
    "for i in range(n):\n",
    "    for j in range(n):\n",
    "        for k in range(n):\n",
    "            G_alt[i, j] += g_inv[i, k] * G[k, j]\n",
    "        G_alt[i, j] = simplify(G_alt[i, j])\n",
    "assign(Einstein_alt, G_alt)\n",
    "\n",
    "# print it all\n",
    "print()\n",
    "metric.print_tensor()\n",
    "metric_inv.print_tensor()\n",
    "metric_d.print_tensor()\n",
    "Christoffel.print_tensor()\n",
    "Christoffel_d.print_tensor()\n",
    "Riemann.print_tensor()\n",
    "Ricci.print_tensor()\n",
    "if R != 0:\n",
    "    Idisplay(Math(latex(Eq(Symbol('R'), R))))\n",
    "    print('\\n\\n')\n",
    "Einstein.print_tensor()\n",
    "Einstein_alt.print_tensor()"
   ]
  },
  {
   "cell_type": "code",
   "execution_count": 26,
   "id": "20d1e533",
   "metadata": {
    "ExecuteTime": {
     "end_time": "2023-04-29T23:57:22.498885Z",
     "start_time": "2023-04-29T23:57:17.518397Z"
    }
   },
   "outputs": [
    {
     "data": {
      "text/html": [
       "<div id=\"glowscript\" class=\"glowscript\"></div>"
      ],
      "text/plain": [
       "<IPython.core.display.HTML object>"
      ]
     },
     "metadata": {},
     "output_type": "display_data"
    },
    {
     "data": {
      "application/javascript": [
       "if (typeof Jupyter !== \"undefined\") { window.__context = { glowscript_container: $(\"#glowscript\").removeAttr(\"id\")};}else{ element.textContent = ' ';}"
      ],
      "text/plain": [
       "<IPython.core.display.Javascript object>"
      ]
     },
     "metadata": {},
     "output_type": "display_data"
    },
    {
     "data": {
      "application/javascript": [
       "if (typeof Jupyter !== \"undefined\") {require.undef(\"nbextensions/vpython_libraries/glow.min\");}else{element.textContent = ' ';}"
      ],
      "text/plain": [
       "<IPython.core.display.Javascript object>"
      ]
     },
     "metadata": {},
     "output_type": "display_data"
    },
    {
     "data": {
      "application/javascript": [
       "if (typeof Jupyter !== \"undefined\") {require.undef(\"nbextensions/vpython_libraries/glowcomm\");}else{element.textContent = ' ';}"
      ],
      "text/plain": [
       "<IPython.core.display.Javascript object>"
      ]
     },
     "metadata": {},
     "output_type": "display_data"
    },
    {
     "data": {
      "application/javascript": [
       "if (typeof Jupyter !== \"undefined\") {require.undef(\"nbextensions/vpython_libraries/jquery-ui.custom.min\");}else{element.textContent = ' ';}"
      ],
      "text/plain": [
       "<IPython.core.display.Javascript object>"
      ]
     },
     "metadata": {},
     "output_type": "display_data"
    },
    {
     "data": {
      "application/javascript": [
       "if (typeof Jupyter !== \"undefined\") {require([\"nbextensions/vpython_libraries/glow.min\"], function(){console.log(\"GLOW LOADED\");});}else{element.textContent = ' ';}"
      ],
      "text/plain": [
       "<IPython.core.display.Javascript object>"
      ]
     },
     "metadata": {},
     "output_type": "display_data"
    },
    {
     "data": {
      "application/javascript": [
       "if (typeof Jupyter !== \"undefined\") {require([\"nbextensions/vpython_libraries/glowcomm\"], function(){console.log(\"GLOWCOMM LOADED\");});}else{element.textContent = ' ';}"
      ],
      "text/plain": [
       "<IPython.core.display.Javascript object>"
      ]
     },
     "metadata": {},
     "output_type": "display_data"
    },
    {
     "data": {
      "application/javascript": [
       "if (typeof Jupyter !== \"undefined\") {require([\"nbextensions/vpython_libraries/jquery-ui.custom.min\"], function(){console.log(\"JQUERY LOADED\");});}else{element.textContent = ' ';}"
      ],
      "text/plain": [
       "<IPython.core.display.Javascript object>"
      ]
     },
     "metadata": {},
     "output_type": "display_data"
    }
   ],
   "source": [
    "# EasyVisualVP . py  : VPthon ,  simple graph  object\n",
    "from vpython import * # Import Vpython\n",
    "#\n",
    "graph1 = graph(align = 'left', width = 400,  height = 400,\n",
    "               background = color.white , foreground = color.black )\n",
    "#\n",
    "Plot1=gcurve (color = color.red)\n",
    "#\n",
    "for x in arange (0 , 8.1 , 0.1 ):\n",
    "    Plot1.plot(pos = (x, 5*cos(2*x)*exp(-0.4*x)))\n",
    "graph2 = graph(align = 'right', width = 400, height = 400, background = color.white, \n",
    "              foreground = color.black, title = '2-D  Plot', xtitle = 'x', ytitle = 'f(x)')\n",
    "#\n",
    "Plot2 = gdots(color = color.black) \n",
    "#\n",
    "for x in arange(-5,5 ,0.1):\n",
    "    Plot2.plot(pos = (x , cos(x)))\n"
   ]
  },
  {
   "cell_type": "code",
   "execution_count": 12,
   "id": "a65411b3",
   "metadata": {
    "ExecuteTime": {
     "end_time": "2023-04-29T23:48:21.726969Z",
     "start_time": "2023-04-29T23:48:20.886865Z"
    }
   },
   "outputs": [
    {
     "data": {
      "image/png": "[encoded data removed]",
      "text/plain": [
       "<Figure size 640x480 with 1 Axes>"
      ]
     },
     "metadata": {},
     "output_type": "display_data"
    }
   ],
   "source": [
    "import numpy as np\n",
    "import matplotlib.pyplot as plt\n",
    "\n",
    "# Define the domain and time step\n",
    "x_min = 0\n",
    "x_max = 2 * np.pi\n",
    "t_max = 1\n",
    "dx = 0.1\n",
    "dt = 0.01\n",
    "\n",
    "# Define the initial condition\n",
    "x = np.arange(x_min, x_max, dx)\n",
    "u = np.sin(x)\n",
    "\n",
    "# Define the viscosity\n",
    "nu = 0.1\n",
    "\n",
    "# Calculate the number of time steps\n",
    "nt = int(t_max / dt)\n",
    "\n",
    "# Implement the finite difference method\n",
    "for n in range(nt):\n",
    "    un = u.copy()\n",
    "    for i in range(1, len(x) - 1):\n",
    "        u[i] = un[i] - un[i] * dt / dx * (un[i] - un[i-1]) + nu * dt / dx**2 * (un[i+1] - 2*un[i] + un[i-1])\n",
    "\n",
    "# Plot the solution\n",
    "plt.plot(x, u)\n",
    "plt.xlabel('x')\n",
    "plt.ylabel('u')\n",
    "plt.show()\n"
   ]
  }
 ],
 "metadata": {
  "hide_input": false,
  "kernelspec": {
   "display_name": "Python 3 (ipykernel)",
   "language": "python",
   "name": "python3"
  },
  "language_info": {
   "codemirror_mode": {
    "name": "ipython",
    "version": 3
   },
   "file_extension": ".py",
   "mimetype": "text/x-python",
   "name": "python",
   "nbconvert_exporter": "python",
   "pygments_lexer": "ipython3",
   "version": "3.9.13"
  },
  "toc": {
   "base_numbering": 1,
   "nav_menu": {},
   "number_sections": true,
   "sideBar": true,
   "skip_h1_title": false,
   "title_cell": "Table of Contents",
   "title_sidebar": "Contents",
   "toc_cell": false,
   "toc_position": {},
   "toc_section_display": true,
   "toc_window_display": false
  }
 },
 "nbformat": 4,
 "nbformat_minor": 5
}
