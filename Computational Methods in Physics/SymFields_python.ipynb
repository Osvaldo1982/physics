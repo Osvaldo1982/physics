{
 "cells": [
  {
   "cell_type": "markdown",
   "metadata": {},
   "source": [
    "# References\n",
    "\n",
    "* https://arxiv.org/pdf/2012.10723.pdf\n",
    "* https://github.com/DocNan/SymFields"
   ]
  },
  {
   "cell_type": "markdown",
   "metadata": {},
   "source": [
    "# Requirements"
   ]
  },
  {
   "cell_type": "code",
   "execution_count": 1,
   "metadata": {
    "ExecuteTime": {
     "end_time": "2021-11-27T17:31:52.529128Z",
     "start_time": "2021-11-27T17:31:51.821382Z"
    }
   },
   "outputs": [
    {
     "name": "stdout",
     "output_type": "stream",
     "text": [
      "------------------------------------------------------\n",
      "symbolic calculation for Fields analysis is loaded   !\n",
      "The default differential operators are not evaluated !\n",
      "To evalute the expressions:                          !\n",
      "method 1: use expression.doit()                      !\n",
      "method 2: set evaluation=1 for nabla operators       !\n",
      "------------------------------------------------------\n"
     ]
    }
   ],
   "source": [
    "import sympy as sym\n",
    "from SymFields import *\n",
    "\n",
    "sym.init_printing()"
   ]
  },
  {
   "cell_type": "code",
   "execution_count": 2,
   "metadata": {
    "ExecuteTime": {
     "end_time": "2021-11-27T17:31:52.544340Z",
     "start_time": "2021-11-27T17:31:52.534116Z"
    }
   },
   "outputs": [],
   "source": [
    "# cylinder coordinates\n",
    "r , phi , z = sym.symbols('r , phi , z')\n",
    "\n",
    "X = [r, phi, z]\n",
    "\n",
    "U = sym.Function('U')\n",
    "\n",
    "U = U(r, phi, z)\n",
    "\n"
   ]
  },
  {
   "cell_type": "code",
   "execution_count": 10,
   "metadata": {
    "ExecuteTime": {
     "end_time": "2021-11-27T17:34:22.560457Z",
     "start_time": "2021-11-27T17:34:21.443026Z"
    }
   },
   "outputs": [
    {
     "name": "stdout",
     "output_type": "stream",
     "text": [
      "Coordinate Cylinder: (x1, x2, x3) = (r, phi, z)\n",
      "Lame coefficients of Cylinder H:  [1, r, 1]\n"
     ]
    },
    {
     "data": {
      "image/png": "[encoded data removed]",
      "text/latex": [
       "$\\displaystyle \\left[ \\frac{\\partial}{\\partial r} U{\\left(r,\\phi,z \\right)}, \\  \\frac{\\frac{\\partial}{\\partial \\phi} U{\\left(r,\\phi,z \\right)}}{r}, \\  \\frac{\\partial}{\\partial z} U{\\left(r,\\phi,z \\right)}\\right]$"
      ],
      "text/plain": [
       "⎡                ∂                             ⎤\n",
       "⎢                ──(U(r, φ, z))                ⎥\n",
       "⎢∂               ∂φ              ∂             ⎥\n",
       "⎢──(U(r, φ, z)), ──────────────, ──(U(r, φ, z))⎥\n",
       "⎣∂r                    r         ∂z            ⎦"
      ]
     },
     "execution_count": 10,
     "metadata": {},
     "output_type": "execute_result"
    }
   ],
   "source": [
    "grad = Grad(U, X, coordinate = 'Cylinder' )\n",
    "\n",
    "grad"
   ]
  },
  {
   "cell_type": "code",
   "execution_count": 9,
   "metadata": {
    "ExecuteTime": {
     "end_time": "2021-11-27T17:34:17.961060Z",
     "start_time": "2021-11-27T17:34:16.838076Z"
    }
   },
   "outputs": [
    {
     "name": "stdout",
     "output_type": "stream",
     "text": [
      "Coordinate Cylinder: (x1, x2, x3) = (r, phi, z)\n",
      "contra-variant metric tensor:  Matrix([[1, 0, 0], [0, r**(-2), 0], [0, 0, 1]])\n",
      "Lame coefficients of Cylinder H:  [1, r, 1]\n",
      "Jacobian =  r\n"
     ]
    },
    {
     "data": {
      "image/png": "[encoded data removed]",
      "text/latex": [
       "$\\displaystyle \\left[ \\frac{- \\frac{\\partial^{2}}{\\partial z\\partial \\phi} U{\\left(r,\\phi,z \\right)} + \\frac{\\partial^{2}}{\\partial \\phi\\partial z} U{\\left(r,\\phi,z \\right)}}{r}, \\  \\frac{\\partial^{2}}{\\partial z\\partial r} U{\\left(r,\\phi,z \\right)} - \\frac{\\partial^{2}}{\\partial r\\partial z} U{\\left(r,\\phi,z \\right)}, \\  \\frac{\\frac{\\partial^{2}}{\\partial r\\partial \\phi} U{\\left(r,\\phi,z \\right)} - \\frac{\\partial^{2}}{\\partial \\phi\\partial r} U{\\left(r,\\phi,z \\right)}}{r}\\right]$"
      ],
      "text/plain": [
       "⎡     2                   2                                                   \n",
       "⎢    ∂                   ∂                                                    \n",
       "⎢- ─────(U(r, φ, z)) + ─────(U(r, φ, z))     2                   2            \n",
       "⎢  ∂z ∂φ               ∂φ ∂z                ∂                   ∂             \n",
       "⎢───────────────────────────────────────, ─────(U(r, φ, z)) - ─────(U(r, φ, z)\n",
       "⎣                   r                     ∂z ∂r               ∂r ∂z           \n",
       "\n",
       "      2                   2             ⎤\n",
       "     ∂                   ∂              ⎥\n",
       "   ─────(U(r, φ, z)) - ─────(U(r, φ, z))⎥\n",
       "   ∂r ∂φ               ∂φ ∂r            ⎥\n",
       "), ─────────────────────────────────────⎥\n",
       "                     r                  ⎦"
      ]
     },
     "execution_count": 9,
     "metadata": {},
     "output_type": "execute_result"
    }
   ],
   "source": [
    "curlgrad = Curl(grad, X, coordinate = 'Cylinder')\n",
    "\n",
    "curlgrad"
   ]
  },
  {
   "cell_type": "code",
   "execution_count": 5,
   "metadata": {
    "ExecuteTime": {
     "end_time": "2021-11-27T17:31:54.181374Z",
     "start_time": "2021-11-27T17:31:52.674213Z"
    }
   },
   "outputs": [
    {
     "name": "stdout",
     "output_type": "stream",
     "text": [
      "Coordinate Cylinder: (x1, x2, x3) = (r, phi, z)\n",
      "contra-variant metric tensor:  Matrix([[1, 0, 0], [0, r**(-2), 0], [0, 0, 1]])\n",
      "Lame coefficients of Cylinder H:  [1, r, 1]\n",
      "Jacobian =  r\n",
      "Coordinate Cylinder: (x1, x2, x3) = (r, phi, z)\n",
      "Lame coefficients of Cylinder H:  [1, r, 1]\n",
      "contra = 1 , Jacobian =  r\n"
     ]
    },
    {
     "data": {
      "image/png": "[encoded data removed]",
      "text/latex": [
       "$\\displaystyle 0$"
      ],
      "text/plain": [
       "0"
      ]
     },
     "execution_count": 5,
     "metadata": {},
     "output_type": "execute_result"
    }
   ],
   "source": [
    "A_r = sym.Function('A_r')\n",
    "A_phi = sym.Function('A_phi')\n",
    "A_z = sym.Function('A_z')\n",
    "A_r = A_r(r, phi, z)\n",
    "\n",
    "A_phi = A_phi(r, phi, z)\n",
    "A_z = A_z(r, phi, z)\n",
    "A = [A_r, A_phi, A_z]\n",
    "\n",
    "\n"
   ]
  },
  {
   "cell_type": "code",
   "execution_count": 8,
   "metadata": {
    "ExecuteTime": {
     "end_time": "2021-11-27T17:34:04.042661Z",
     "start_time": "2021-11-27T17:34:02.843701Z"
    }
   },
   "outputs": [
    {
     "name": "stdout",
     "output_type": "stream",
     "text": [
      "Coordinate Cylinder: (x1, x2, x3) = (r, phi, z)\n",
      "contra-variant metric tensor:  Matrix([[1, 0, 0], [0, r**(-2), 0], [0, 0, 1]])\n",
      "Lame coefficients of Cylinder H:  [1, r, 1]\n",
      "Jacobian =  r\n"
     ]
    },
    {
     "data": {
      "image/png": "[encoded data removed]",
      "text/latex": [
       "$\\displaystyle \\left[ \\frac{- \\frac{\\partial}{\\partial z} r \\operatorname{A_{\\phi}}{\\left(r,\\phi,z \\right)} + \\frac{\\partial}{\\partial \\phi} \\operatorname{A_{z}}{\\left(r,\\phi,z \\right)}}{r}, \\  \\frac{\\partial}{\\partial z} \\operatorname{A_{r}}{\\left(r,\\phi,z \\right)} - \\frac{\\partial}{\\partial r} \\operatorname{A_{z}}{\\left(r,\\phi,z \\right)}, \\  \\frac{\\frac{\\partial}{\\partial r} r \\operatorname{A_{\\phi}}{\\left(r,\\phi,z \\right)} - \\frac{\\partial}{\\partial \\phi} \\operatorname{A_{r}}{\\left(r,\\phi,z \\right)}}{r}\\right]$"
      ],
      "text/plain": [
       "⎡  ∂                   ∂                                                     ∂\n",
       "⎢- ──(r⋅Aᵩ(r, φ, z)) + ──(A_z(r, φ, z))                                      ─\n",
       "⎢  ∂z                  ∂φ                ∂                 ∂                 ∂\n",
       "⎢──────────────────────────────────────, ──(Aᵣ(r, φ, z)) - ──(A_z(r, φ, z)), ─\n",
       "⎣                  r                     ∂z                ∂r                 \n",
       "\n",
       "                   ∂              ⎤\n",
       "─(r⋅Aᵩ(r, φ, z)) - ──(Aᵣ(r, φ, z))⎥\n",
       "r                  ∂φ             ⎥\n",
       "──────────────────────────────────⎥\n",
       "                r                 ⎦"
      ]
     },
     "execution_count": 8,
     "metadata": {},
     "output_type": "execute_result"
    }
   ],
   "source": [
    "curl = Curl(A, X, coordinate = 'Cylinder')\n",
    "curl"
   ]
  },
  {
   "cell_type": "code",
   "execution_count": 7,
   "metadata": {
    "ExecuteTime": {
     "end_time": "2021-11-27T17:33:43.272612Z",
     "start_time": "2021-11-27T17:33:42.251006Z"
    }
   },
   "outputs": [
    {
     "name": "stdout",
     "output_type": "stream",
     "text": [
      "Coordinate Cylinder: (x1, x2, x3) = (r, phi, z)\n",
      "Lame coefficients of Cylinder H:  [1, r, 1]\n",
      "contra = 1 , Jacobian =  r\n"
     ]
    },
    {
     "data": {
      "image/png": "[encoded data removed]",
      "text/latex": [
       "$\\displaystyle 0$"
      ],
      "text/plain": [
       "0"
      ]
     },
     "execution_count": 7,
     "metadata": {},
     "output_type": "execute_result"
    }
   ],
   "source": [
    "divcurl = Div(curl , X, coordinate = 'Cylinder')\n",
    "\n",
    "divcurl.doit( )"
   ]
  },
  {
   "cell_type": "code",
   "execution_count": 6,
   "metadata": {
    "ExecuteTime": {
     "end_time": "2021-11-27T17:31:55.325460Z",
     "start_time": "2021-11-27T17:31:54.184367Z"
    }
   },
   "outputs": [
    {
     "name": "stdout",
     "output_type": "stream",
     "text": [
      "Coordinate Cylinder: (x1, x2, x3) = (r, phi, z)\n",
      "Lame coefficients of Cylinder H:  [1, r, 1]\n",
      "contra = 1 , Jacobian =  r\n"
     ]
    },
    {
     "data": {
      "image/png": "[encoded data removed]",
      "text/latex": [
       "$\\displaystyle \\frac{r \\frac{\\partial^{2}}{\\partial r^{2}} U{\\left(r,\\phi,z \\right)} + r \\frac{\\partial^{2}}{\\partial z^{2}} U{\\left(r,\\phi,z \\right)} + \\frac{\\partial}{\\partial r} U{\\left(r,\\phi,z \\right)} + \\frac{\\frac{\\partial^{2}}{\\partial \\phi^{2}} U{\\left(r,\\phi,z \\right)}}{r}}{r}$"
      ],
      "text/plain": [
       "                                                           2            \n",
       "                                                          ∂             \n",
       "                                                         ───(U(r, φ, z))\n",
       "    2                   2                                  2            \n",
       "   ∂                   ∂                ∂                ∂φ             \n",
       "r⋅───(U(r, φ, z)) + r⋅───(U(r, φ, z)) + ──(U(r, φ, z)) + ───────────────\n",
       "    2                   2               ∂r                      r       \n",
       "  ∂r                  ∂z                                                \n",
       "────────────────────────────────────────────────────────────────────────\n",
       "                                   r                                    "
      ]
     },
     "execution_count": 6,
     "metadata": {},
     "output_type": "execute_result"
    }
   ],
   "source": [
    "Laplacian = Div(grad, X, coordinate = 'Cylinder', evaluation = 1)\n",
    "\n",
    "Laplacian"
   ]
  },
  {
   "cell_type": "code",
   "execution_count": null,
   "metadata": {},
   "outputs": [],
   "source": []
  }
 ],
 "metadata": {
  "kernelspec": {
   "display_name": "Python 3",
   "language": "python",
   "name": "python3"
  },
  "language_info": {
   "codemirror_mode": {
    "name": "ipython",
    "version": 3
   },
   "file_extension": ".py",
   "mimetype": "text/x-python",
   "name": "python",
   "nbconvert_exporter": "python",
   "pygments_lexer": "ipython3",
   "version": "3.8.3"
  },
  "latex_envs": {
   "LaTeX_envs_menu_present": true,
   "autoclose": false,
   "autocomplete": true,
   "bibliofile": "biblio.bib",
   "cite_by": "apalike",
   "current_citInitial": 1,
   "eqLabelWithNumbers": true,
   "eqNumInitial": 1,
   "hotkeys": {
    "equation": "Ctrl-E",
    "itemize": "Ctrl-I"
   },
   "labels_anchors": false,
   "latex_user_defs": false,
   "report_style_numbering": false,
   "user_envs_cfg": false
  },
  "toc": {
   "base_numbering": 1,
   "nav_menu": {},
   "number_sections": true,
   "sideBar": true,
   "skip_h1_title": false,
   "title_cell": "Table of Contents",
   "title_sidebar": "Contents",
   "toc_cell": false,
   "toc_position": {},
   "toc_section_display": true,
   "toc_window_display": false
  },
  "varInspector": {
   "cols": {
    "lenName": 16,
    "lenType": 16,
    "lenVar": 40
   },
   "kernels_config": {
    "python": {
     "delete_cmd_postfix": "",
     "delete_cmd_prefix": "del ",
     "library": "var_list.py",
     "varRefreshCmd": "print(var_dic_list())"
    },
    "r": {
     "delete_cmd_postfix": ") ",
     "delete_cmd_prefix": "rm(",
     "library": "var_list.r",
     "varRefreshCmd": "cat(var_dic_list()) "
    }
   },
   "types_to_exclude": [
    "module",
    "function",
    "builtin_function_or_method",
    "instance",
    "_Feature"
   ],
   "window_display": false
  }
 },
 "nbformat": 4,
 "nbformat_minor": 4
}
