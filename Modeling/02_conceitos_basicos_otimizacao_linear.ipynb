{
 "cells": [
  {
   "cell_type": "markdown",
   "metadata": {
    "ExecuteTime": {
     "end_time": "2020-03-06T17:57:26.261448Z",
     "start_time": "2020-03-06T17:57:26.258447Z"
    }
   },
   "source": [
    "# Otimização Linear\n",
    "\n",
    "Um problema de otimização linear é um tipo de problema matemático que deve ter os valores de uma função linear ou maximizado ou minimizado dado algumas condições. A função a ser otimizada é comumente conhecida por função objetivo e as condições do problema são conhecidas por condições de contorno ou restrições. A função objetivo tem sempre a seguinte forma\n",
    "\n",
    "\\begin{equation}\n",
    "\\nonumber f(x_1,x_2,\\ldots,x_n) = \\alpha_1 x_1 + \\alpha_2 x_2 + \\ldots + \\alpha_n x_n.\n",
    "\\end{equation}\n",
    "\n",
    "Sendo $\\alpha_i \\in \\mathbb{R}$ e $i = 1,2,\\ldots,n$ e as condições de contorno podem ser resumidas da seguinte maneira de acordo com a equação abaixo\n",
    "\n",
    "\\begin{align}\n",
    "\\nonumber a_{i1} x_1 + a_{i2} x_2 + \\ldots + a_{in} x_n &\\leq b_i \\ \\ i = 1, 2, \\ldots s. \\\\\n",
    "\\nonumber a_{i1} x_1 + a_{i2} x_2 + \\ldots + a_{in} x_n &= b_i \\ \\ i = s+1, s+2, \\ldots m.\n",
    "\\end{align}\n",
    "\n",
    "Otimização linear é uma ferramenta matemática muito útil e prática que pode ser aplicada a uma grande variedade de problemas de negócio e áreas de atuação como por exemplo problemas de alocação de recursos, logística, numerário, estimação de parâmetros, otimização de portfólios, planejamento de produção, warehousing, transporte, distribuição, etc.\n",
    "\n",
    "**Referências**\n",
    "\n",
    "* https://coral.ise.lehigh.edu/~ted/files/modeling/lectures/ModelingWithPython.pdf\n",
    "* https://sites.math.washington.edu/~burke/crs/407/notes/section1.pdf\n",
    "* [Hart, W.E., Laird, C.D., Watson, J.P., Woodruff, D.L., Hackebeil, G.A., Nicholson, B.L., Siirola, J.D. Pyomo - Optimization Modeling in Python](https://www.springer.com/gp/book/9783319588193).\n",
    "\n",
    "## Exemplo:\n",
    "\n",
    "No primeiro exemplo abaixo vamos mostrar como resolver um simples problema de otimização linear em duas variáveis $x_1$ e $x_2$. O problema consiste em otimizar o seguinte problema valor da função $z(x_1,x_2)$ sujeita às seguintes restrições\n",
    "\n",
    "\\begin{align}\n",
    "\\nonumber z(x_1,x_2) &= 4 x_1 + 3 x_2 \\\\\n",
    "\\nonumber x_1 + x_2 &\\leq 100  \\\\\n",
    "\\nonumber 2x_1 + x_2 &\\leq 150 \\\\\n",
    "\\nonumber 3x_1 + 4x_2&\\leq 360\n",
    "\\end{align}\n",
    "\n"
   ]
  },
  {
   "cell_type": "code",
   "execution_count": 14,
   "metadata": {
    "ExecuteTime": {
     "end_time": "2020-03-08T18:26:29.480367Z",
     "start_time": "2020-03-08T18:26:29.444244Z"
    }
   },
   "outputs": [
    {
     "name": "stdout",
     "output_type": "stream",
     "text": [
      "Optimal total cost is:  350.0\n",
      "X1 : 50.0\n",
      "X2 : 50.0\n"
     ]
    }
   ],
   "source": [
    "from pulp import LpProblem, LpVariable, lpSum, LpMaximize, value\n",
    "\n",
    "prob = LpProblem(\"Dedication Model\", LpMaximize)\n",
    "\n",
    "X1 = LpVariable(\"X1\", 0, None)\n",
    "X2 = LpVariable(\"X2\", 0, None)\n",
    "\n",
    "prob += 4*X1 + 3*X2\n",
    "\n",
    "prob += X1 + X2 <= 100\n",
    "prob += 2*X1 + X2 <= 150\n",
    "prob += 3*X1 + 4*X2 <= 360\n",
    "\n",
    "prob.solve()\n",
    "\n",
    "#print(prob)\n",
    "print('Optimal total cost is: ', value(prob.objective))\n",
    "print(\"X1 :\", X1.varValue)\n",
    "print(\"X2 :\", X2.varValue)"
   ]
  },
  {
   "cell_type": "markdown",
   "metadata": {},
   "source": [
    "## Exemplo:\n",
    "\n",
    "Neste segundo exemplo vamos mostrar como resolver o seguinte problema de otimização linear.\n",
    "\n",
    "\\begin{align}\n",
    "\\nonumber z(x,y) &= 3 x + 5 y  \\\\\n",
    "\\nonumber - x + y &\\leq 3  \\\\\n",
    "\\nonumber x &\\geq 4 \\\\\n",
    "\\nonumber y &\\leq 3\n",
    "\\end{align}"
   ]
  },
  {
   "cell_type": "code",
   "execution_count": 11,
   "metadata": {
    "ExecuteTime": {
     "end_time": "2020-03-08T18:06:01.625106Z",
     "start_time": "2020-03-08T18:06:01.313869Z"
    }
   },
   "outputs": [
    {
     "name": "stdout",
     "output_type": "stream",
     "text": [
      "Problem:\n",
      "MINIMIZE\n",
      "3*x + 5*y + 0\n",
      "SUBJECT TO\n",
      "_C1: 2 x + 3 y >= 12\n",
      "\n",
      "_C2: - x + y <= 3\n",
      "\n",
      "_C3: x >= 4\n",
      "\n",
      "_C4: y <= 3\n",
      "\n",
      "VARIABLES\n",
      "x Continuous\n",
      "y Continuous\n",
      "\n",
      "Optimal\n",
      "6.0 0.0 18.0\n"
     ]
    }
   ],
   "source": [
    "# import the library pulp as p \n",
    "import pulp as p \n",
    "  \n",
    "# Create a LP Minimization problem \n",
    "Lp_prob = p.LpProblem('Problem', p.LpMinimize)  \n",
    "  \n",
    "# Create problem Variables  \n",
    "x = p.LpVariable(\"x\", lowBound = 0)   # Create a variable x >= 0 \n",
    "y = p.LpVariable(\"y\", lowBound = 0)   # Create a variable y >= 0 \n",
    "  \n",
    "# Objective Function \n",
    "Lp_prob += 3 * x + 5 * y    \n",
    "  \n",
    "# Constraints: \n",
    "Lp_prob += 2 * x + 3 * y >= 12\n",
    "Lp_prob += -x + y <= 3\n",
    "Lp_prob += x >= 4\n",
    "Lp_prob += y <= 3\n",
    "  \n",
    "# Display the problem \n",
    "print(Lp_prob) \n",
    "  \n",
    "status = Lp_prob.solve()   # Solver \n",
    "print(p.LpStatus[status])   # The solution status \n",
    "  \n",
    "# Printing the final solution \n",
    "print(p.value(x), p.value(y), p.value(Lp_prob.objective))"
   ]
  }
 ],
 "metadata": {
  "hide_input": false,
  "kernelspec": {
   "display_name": "Python 3",
   "language": "python",
   "name": "python3"
  },
  "language_info": {
   "codemirror_mode": {
    "name": "ipython",
    "version": 3
   },
   "file_extension": ".py",
   "mimetype": "text/x-python",
   "name": "python",
   "nbconvert_exporter": "python",
   "pygments_lexer": "ipython3",
   "version": "3.7.3"
  },
  "latex_envs": {
   "LaTeX_envs_menu_present": true,
   "autoclose": false,
   "autocomplete": true,
   "bibliofile": "biblio.bib",
   "cite_by": "apalike",
   "current_citInitial": 1,
   "eqLabelWithNumbers": true,
   "eqNumInitial": 1,
   "hotkeys": {
    "equation": "Ctrl-E",
    "itemize": "Ctrl-I"
   },
   "labels_anchors": false,
   "latex_user_defs": false,
   "report_style_numbering": false,
   "user_envs_cfg": false
  },
  "toc": {
   "base_numbering": 1,
   "nav_menu": {},
   "number_sections": true,
   "sideBar": true,
   "skip_h1_title": false,
   "title_cell": "Table of Contents",
   "title_sidebar": "Contents",
   "toc_cell": false,
   "toc_position": {},
   "toc_section_display": true,
   "toc_window_display": false
  }
 },
 "nbformat": 4,
 "nbformat_minor": 2
}
