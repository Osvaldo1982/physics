{
 "cells": [
  {
   "cell_type": "markdown",
   "metadata": {},
   "source": [
    "# Módulo III: Ciência de Dados\n",
    "\n",
    "**Autor:**\n",
    "* Osvaldo Luiz dos Santos Pereira\n",
    "\n",
    "**Ciência de dados: Introdução à Modelos Descritivos (Foundations)**\n",
    "* Introdução à metodologia científica.\n",
    "* Como fazer as perguntas apropriadas.\n",
    "* Conceitos básicos sobre modelos matemáticos.\n",
    "* Conceitos básicos sobre modelos estatísticos.\n",
    "* Conceitos básicos de modelos descritivos\n",
    "* Conceitos de Analítico Avançado\n",
    "* Introdução à Modelos preditivos vs Modelos prescritivos.\n",
    "* Introdução aos conceitos básicos de Machine Learning.\n",
    "* Definições de aprendizado supervisionado, não supervisionado e semi supervisionado.\n",
    "* Case prático Hospital Sírio-Libanês: Regressão linear no VIGIA\n",
    "* Case prático Hospital Sírio-Libanês: Redução de dimensões de uma tabela"
   ]
  },
  {
   "cell_type": "markdown",
   "metadata": {},
   "source": [
    "# Introdução à metodologia científica\n",
    "\n",
    "O objetivo desta seção não é discutir a filosofia da ciência, nem suas muitas facetas e interpretações e sim resumir seus principais aspectos pragmáticos de forma a prover uma base de como se desenvolve o raciocínio crítico, como se criam hipóteses, desenhar e arquitetar experimentos e verificação dessas hipóteses através de modelos matemáticos. De uma forma bem resumida o método científico pode ser descrito em etapas da seguinte maneira\n",
    "\n",
    "1. Observar um fenômeno (originalmente da natureza) ou fazer uma pergunta que ainda não possui resposta.\n",
    "2. Pensar em perguntas que sejam objetivas e remetam a descrever e explicar como o fenômeno funciona e não os porquês filosóficos.\n",
    "3. Formular hipóteses que possam ser testadas por experimentos, quantificadas e qualificadas por outras pessoas.\n",
    "4. Modelos matemáticos são formulados para serem testados através de dados adquiridos por experimentos.\n",
    "5. Desenhar e arquitetar experimentos que possam responder às perguntas das hipóteses levantadas. \n",
    "6. Dados experimentais devem ser adquiridos experimentalmente, organizados de forma prática e clara.\n",
    "7. Os modelos matemáticos propostos nas hipóteses são testados a partir dos dados adquiridos nos experimentos.\n",
    "8. No caso dos modelos serem refutados, novas hipóteses e modelos podem ser feitas para se adequarem aos dados do experimento.\n",
    "9. No caso dos modelos apresentarem resultados satisfatórios, não excluir as hipóteses e serem aderentes aos dados experimentais então os modelos são documentados em formas de artigos.\n",
    "10. Os artigos serão avaliados por pares e publicados em revistas formais, científicas e indexadas.\n",
    "11. Outros cientistas tentarão reproduzir os resultados apresentados à exaustão, sempre estressando os modelos e testando suas limitações de validade.\n",
    "12. Após anos de testes e verificações experimentais um modelo pode se tornar uma teoria, ou seja, algo fundamental que pode ser generalizado em hipóteses mais gerais e consequentemente em outras teorias.\n",
    "\n",
    "**Obs.:** Ao contrário do senso comum e coloquial que utiliza a palavra teoria como sinônimo de especulação, na comunidade científica uma teoria é uma hipótese que foi testada à exaustão e sobreviveu, se tornando uma pedra fundamental na construção de teorias mais gerais.\n",
    "\n",
    "Abaixo uma explicação pictórica do método científico.\n",
    "\n",
    "![](https://upload.wikimedia.org/wikipedia/commons/thumb/5/5c/The_Scientific_Method_as_an_Ongoing_Process.svg/933px-The_Scientific_Method_as_an_Ongoing_Process.svg.png)*Representação do método científico. Figura retirada em 05/03/2020 - 15:33h São Paulo do link https://upload.wikimedia.org/wikipedia/commons/thumb/5/5c/The_Scientific_Method_as_an_Ongoing_Process.svg/933px-The_Scientific_Method_as_an_Ongoing_Process.svg.png*\n",
    "\n",
    "**Referências**\n",
    "* https://www.britannica.com/science/scientific-method\n",
    "* https://plato.stanford.edu/entries/scientific-method/#HDLogCon\n",
    "\n",
    "**Leituras avançadas**\n",
    "* Kuhn, T.S., 1962, The Structure of Scientific Revolutions, Chicago: University of Chicago Press.\n",
    "* Pearson, E.S., 1955, “Statistical Concepts in Their Relation to Reality”, Journal of the Royal Statistical Society, B, 17: 204–207.\n",
    "* Popper, K.R., 1959, The Logic of Scientific Discovery, London: Routledge, 2002.\n",
    "* Weinberg, S., 1995, “The methods of science… and those by which we live”, Academic Questions, 8(2): 7–13.\n",
    "\n",
    "## Exemplos"
   ]
  },
  {
   "cell_type": "markdown",
   "metadata": {},
   "source": [
    "# Como fazer as perguntas apropriadas\n",
    "\n",
    "Infelizmente devemos iniciar esta seção com uma mensagem não tão animadora. Não existem regras explícitas ou receitas para se fazer as perguntas apropriadas. Os cientistas em geral usam de sua engenhosidade, criatividade e conhecimento previamente adquirido sobre o assunto. O trabalho do cientista começa em geral na busca por um tema de estudo, após tomada esta decisão é feita uma extensa pesquisa bibliográfica sobre o tema e uma investigação se inicia com a leitura dos artigos até que o cientista comece a se sentir familiarizado com os fenômenos estudados e comece a construir suas próprias perguntas, hipóteses, modelos e experimentos.\n",
    "\n",
    "## Exemplos de perguntas notórias feitas de forma apropriada\n",
    "\n",
    "1. O que torna o céu azul aqui na Terra?\n",
    "2. Qual o formato da Terra?\n",
    "3. Qual a menor estrutura e indivisível que forma a matéria?\n",
    "4. Por qual motivo os objetos caem?\n",
    "5. \n",
    "\n",
    "## Exemplo de uma resposta à uma pergunta apropriada"
   ]
  },
  {
   "cell_type": "code",
   "execution_count": null,
   "metadata": {},
   "outputs": [],
   "source": []
  }
 ],
 "metadata": {
  "hide_input": false,
  "kernelspec": {
   "display_name": "Python 3",
   "language": "python",
   "name": "python3"
  },
  "language_info": {
   "codemirror_mode": {
    "name": "ipython",
    "version": 3
   },
   "file_extension": ".py",
   "mimetype": "text/x-python",
   "name": "python",
   "nbconvert_exporter": "python",
   "pygments_lexer": "ipython3",
   "version": "3.7.3"
  },
  "latex_envs": {
   "LaTeX_envs_menu_present": true,
   "autoclose": false,
   "autocomplete": true,
   "bibliofile": "biblio.bib",
   "cite_by": "apalike",
   "current_citInitial": 1,
   "eqLabelWithNumbers": true,
   "eqNumInitial": 1,
   "hotkeys": {
    "equation": "Ctrl-E",
    "itemize": "Ctrl-I"
   },
   "labels_anchors": false,
   "latex_user_defs": false,
   "report_style_numbering": false,
   "user_envs_cfg": false
  },
  "toc": {
   "base_numbering": 1,
   "nav_menu": {},
   "number_sections": true,
   "sideBar": true,
   "skip_h1_title": false,
   "title_cell": "Table of Contents",
   "title_sidebar": "Contents",
   "toc_cell": false,
   "toc_position": {},
   "toc_section_display": true,
   "toc_window_display": false
  }
 },
 "nbformat": 4,
 "nbformat_minor": 2
}
